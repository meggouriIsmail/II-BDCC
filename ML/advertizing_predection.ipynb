{
 "cells": [
  {
   "cell_type": "code",
   "execution_count": 1,
   "id": "26b81a5d",
   "metadata": {},
   "outputs": [],
   "source": [
    "import numpy as np\n",
    "import matplotlib.pyplot as plt\n",
    "from sklearn.model_selection import train_test_split\n",
    "from sklearn.preprocessing import StandardScaler"
   ]
  },
  {
   "cell_type": "code",
   "execution_count": 2,
   "id": "4051ea9c",
   "metadata": {},
   "outputs": [],
   "source": [
    "import pandas as pd\n",
    "\n",
    "#data\n",
    "dset = pd.read_csv(r'C:\\Users\\meggouri ismail\\Downloads\\advertising.csv')\n",
    "sales = np.array(dset['Sales']) #np.array(dset)[:,3:]\n",
    "X1 = np.array(dset['TV']) #np.array(dset)[:,0:1]\n",
    "X2 = np.array(dset['Radio']) #np.array(dset)[:,1:2]\n",
    "X3 = np.array(dset['Newspaper']) #np.array(dset)[:,2:3]\n"
   ]
  },
  {
   "cell_type": "code",
   "execution_count": 3,
   "id": "e88895df",
   "metadata": {},
   "outputs": [],
   "source": [
    "scaler = StandardScaler()\n",
    "data = scaler.fit_transform(dset)"
   ]
  },
  {
   "cell_type": "code",
   "execution_count": 4,
   "id": "9ec980f6",
   "metadata": {},
   "outputs": [],
   "source": [
    "X=data[:,:3] #features\n",
    "y=data[:,3]  #target"
   ]
  },
  {
   "cell_type": "code",
   "execution_count": 5,
   "id": "35e7f2f5",
   "metadata": {},
   "outputs": [],
   "source": [
    "#split \n",
    "X_train, X_test, y_train, y_test = train_test_split(X, y, test_size=0.3, random_state=44)"
   ]
  },
  {
   "cell_type": "code",
   "execution_count": 6,
   "id": "8f58308d",
   "metadata": {},
   "outputs": [],
   "source": [
    "x1_train=X_train[:,0]\n",
    "x2_train=X_train[:,1]\n",
    "x3_train=X_train[:,2]"
   ]
  },
  {
   "cell_type": "code",
   "execution_count": 7,
   "id": "7139543b",
   "metadata": {},
   "outputs": [],
   "source": [
    "#model --> yhat=bias+w1*X1+w2*X2+w3*X3\n",
    "learning_rate=0.01\n",
    "def fit(X1,X2,X3,y):\n",
    "    bias=0\n",
    "    w1=0\n",
    "    w2=0\n",
    "    w3=0\n",
    "    n=len(y)\n",
    "    global mseList\n",
    "    mseList=[]\n",
    "    #yhat=[]\n",
    "    for i in range(100):\n",
    "        yhat=bias+w1*X1+w2*X2+w3*X3\n",
    "        err=y-yhat\n",
    "        se=err**2\n",
    "        mse=(1/n)*np.sum(se)\n",
    "        mseList.append(mse)\n",
    "        \n",
    "        dbias=-(2/n)*np.sum(y-yhat)\n",
    "        \n",
    "        dw1=-(2/n)*np.sum(X1*(y-yhat))\n",
    "        dw2=-(2/n)*np.sum(X2*(y-yhat))\n",
    "        dw3=-(2/n)*np.sum(X3*(y-yhat))\n",
    "        \n",
    "        bias=bias-dbias*learning_rate\n",
    "        \n",
    "        w1=w1-dw1*learning_rate\n",
    "        w2=w2-dw2*learning_rate\n",
    "        w3=w3-dw3*learning_rate\n",
    "        \n",
    "        print(mse)\n",
    "    return bias,w1,w2,w3"
   ]
  },
  {
   "cell_type": "code",
   "execution_count": 8,
   "id": "b8c0790f",
   "metadata": {},
   "outputs": [
    {
     "name": "stdout",
     "output_type": "stream",
     "text": [
      "1.1142244043276723\n",
      "1.0678155836696768\n",
      "1.0236365215123908\n",
      "0.9815758707642619\n",
      "0.9415280337487668\n",
      "0.903392857142785\n",
      "0.867075343445444\n",
      "0.8324853780675964\n",
      "0.7995374711827418\n",
      "0.768150513528\n",
      "0.738247545388871\n",
      "0.7097555380441016\n",
      "0.6826051869871894\n",
      "0.6567307162789977\n",
      "0.632069693421791\n",
      "0.6085628541788117\n",
      "0.5861539367954498\n",
      "0.5647895251081987\n",
      "0.544418900056042\n",
      "0.5249938991357849\n",
      "0.5064687833682007\n",
      "0.48880011136581647\n",
      "0.47194662011576327\n",
      "0.4558691121124708\n",
      "0.44053034849513456\n",
      "0.42589494786392257\n",
      "0.411929290466857\n",
      "0.39860142746627236\n",
      "0.38588099500978396\n",
      "0.3737391328458251\n",
      "0.3621484072381074\n",
      "0.35108273794685274\n",
      "0.3405173290573882\n",
      "0.33042860344873787\n",
      "0.3207941407062093\n",
      "0.3115926182927137\n",
      "0.3028037558036984\n",
      "0.29440826214015187\n",
      "0.2863877854431897\n",
      "0.27872486564227705\n",
      "0.2714028894772183\n",
      "0.26440604786167243\n",
      "0.25771929546315725\n",
      "0.2513283123813159\n",
      "0.24521946781264764\n",
      "0.2393797855959841\n",
      "0.2337969115387341\n",
      "0.22845908242934107\n",
      "0.2233550966465286\n",
      "0.21847428628075\n",
      "0.2138064906878363\n",
      "0.2093420313991624\n",
      "0.20507168831673972\n",
      "0.20098667712550597\n",
      "0.19707862785873612\n",
      "0.19333956455594722\n",
      "0.1897618859559347\n",
      "0.18633834717065917\n",
      "0.18306204228861866\n",
      "0.1799263878590967\n",
      "0.1769251072112803\n",
      "0.174052215564707\n",
      "0.17130200588982586\n",
      "0.16866903547966058\n",
      "0.166148113195644\n",
      "0.16373428735266146\n",
      "0.16142283421020207\n",
      "0.15920924703827594\n",
      "0.15708922572842288\n",
      "0.15505866692170914\n",
      "0.1531136546271003\n",
      "0.15125045130500553\n",
      "0.1494654893921217\n",
      "0.14775536324496566\n",
      "0.1461168214806749\n",
      "0.14454675969478606\n",
      "0.1430422135367667\n",
      "0.14160035212508604\n",
      "0.14021847178456648\n",
      "0.13889399008966063\n",
      "0.13762444019815492\n",
      "0.1364074654606114\n",
      "0.13524081429162424\n",
      "0.13412233528969364\n",
      "0.13304997259320742\n",
      "0.1320217614606679\n",
      "0.13103582406392117\n",
      "0.130090365483724\n",
      "0.1291836698975384\n",
      "0.1283140969499649\n",
      "0.12748007829672023\n",
      "0.12668011431353365\n",
      "0.1259127709617796\n",
      "0.1251766768030844\n",
      "0.12447052015554311\n",
      "0.12379304638455904\n",
      "0.1231430553216752\n",
      "0.12251939880510655\n",
      "0.12192097833600088\n",
      "0.12134674284476117\n",
      "0.010286356564678037 0.7916843128998592 0.28157667633980926 0.030859982291326065\n"
     ]
    }
   ],
   "source": [
    "bias,w1,w2,w3=fit(x1_train,x2_train,x3_train,y_train)\n",
    "#bias,w1=fit(X1,X2,X3,sales)\n",
    "print(bias,w1,w2,w3)"
   ]
  },
  {
   "cell_type": "code",
   "execution_count": 9,
   "id": "3f450bb9",
   "metadata": {},
   "outputs": [],
   "source": [
    "x1_test=X_test[:,0]\n",
    "x2_test=X_test[:,1]\n",
    "x3_test=X_test[:,2]\n",
    "def predict(X1,X2,X3):\n",
    "    return bias+w1*X1+w2*X2+w3*X3"
   ]
  },
  {
   "cell_type": "code",
   "execution_count": 10,
   "id": "23bbad1a",
   "metadata": {},
   "outputs": [
    {
     "data": {
      "text/plain": [
       "0.07439625818085652"
      ]
     },
     "execution_count": 10,
     "metadata": {},
     "output_type": "execute_result"
    }
   ],
   "source": [
    "yhat=predict(x1_test,x2_test,x3_test)\n",
    "err=yhat-y_test\n",
    "se=err**2\n",
    "mse=np.mean(se)\n",
    "mse"
   ]
  },
  {
   "cell_type": "code",
   "execution_count": 11,
   "id": "8cc5e8a4",
   "metadata": {},
   "outputs": [
    {
     "data": {
      "text/plain": [
       "[<matplotlib.lines.Line2D at 0x2736c71b4c0>]"
      ]
     },
     "execution_count": 11,
     "metadata": {},
     "output_type": "execute_result"
    },
    {
     "data": {
      "image/png": "[encoded data removed]",
      "text/plain": [
       "<Figure size 640x480 with 1 Axes>"
      ]
     },
     "metadata": {},
     "output_type": "display_data"
    }
   ],
   "source": [
    "iters=[i for i in range(100)]\n",
    "plt.plot(iters,mseList)"
   ]
  },
  {
   "cell_type": "code",
   "execution_count": null,
   "id": "ab9121f7",
   "metadata": {},
   "outputs": [],
   "source": []
  }
 ],
 "metadata": {
  "kernelspec": {
   "display_name": "Python 3 (ipykernel)",
   "language": "python",
   "name": "python3"
  },
  "language_info": {
   "codemirror_mode": {
    "name": "ipython",
    "version": 3
   },
   "file_extension": ".py",
   "mimetype": "text/x-python",
   "name": "python",
   "nbconvert_exporter": "python",
   "pygments_lexer": "ipython3",
   "version": "3.10.9"
  }
 },
 "nbformat": 4,
 "nbformat_minor": 5
}
