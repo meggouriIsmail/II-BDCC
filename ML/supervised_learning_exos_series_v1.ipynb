{
 "cells": [
  {
   "cell_type": "markdown",
   "id": "87f7b1b5",
   "metadata": {},
   "source": [
    "<h1 style=\"color:red\">Machine Learning : Linear Regression VS One Neuron</h1>"
   ]
  },
  {
   "cell_type": "markdown",
   "id": "e88a6e20",
   "metadata": {},
   "source": [
    "<p>Les bibliothèques suivantes sont à utiliser</p>"
   ]
  },
  {
   "cell_type": "code",
   "execution_count": 1100,
   "id": "82e26792",
   "metadata": {},
   "outputs": [],
   "source": [
    "import numpy as np\n",
    "import matplotlib.pyplot as plt\n",
    "from sklearn.model_selection import train_test_split #split data ino training data and test data \n",
    "import pandas as pnd"
   ]
  },
  {
   "cell_type": "markdown",
   "id": "46a59b6b",
   "metadata": {},
   "source": [
    "<h1 style=\"color:DodgerBlue;\">I. Partie 1: Linear Regression</h1>"
   ]
  },
  {
   "cell_type": "markdown",
   "id": "fcfee421",
   "metadata": {},
   "source": [
    "<img src=\"model.png\"  width=\"600\" height=\"450\"/>"
   ]
  },
  {
   "cell_type": "markdown",
   "id": "237e1dd3",
   "metadata": {},
   "source": [
    "<p>Un modèle de régression permet de faire la liaison entre la sortie et l'entrée de la manière suivante:</p>\n",
    "<p>y=H(X). avec y est l'output et X est linput. En général X est une matrice (tableau à deux dimension avec plusieurs colonnes (variables) x1,x2...xn).</p>\n",
    "<p>le modèle H à trouver a la forme suivante: H(X)=bias+w1.x1+w2.x2+...+wn.xn</p>\n",
    "<p>dans un premier temps, pour simplifier, nous allons considérer un X avec une seule variable. dans ce cas, notre modèle a la forme suivante:</p>\n",
    "<p>H(x1)=bias+w1.x1</p>\n",
    "<p>qu'est ce que c'est l'apprentissage?</p>\n",
    "<p>L'apprentissage est la capacité d'un algorithme de trouver les bons paramètres du modèle qui sont: bias et wi pour i allant de 1 à n, avec n le nombre de variables à l'input.</p>\n",
    "<p>pour le cas d'une seule dimension, l'algorithme est cencé de trouver le bias et le bon w1</p>"
   ]
  },
  {
   "cell_type": "markdown",
   "id": "c1a727ac",
   "metadata": {},
   "source": [
    "<h2 style=\"color:DodgerBlue;\">I.1. Linear Regression Model: example</h2>"
   ]
  },
  {
   "cell_type": "markdown",
   "id": "3016a677",
   "metadata": {},
   "source": [
    "<h3 style=\"color:Tomato;\">I.1.1. Data</h3>"
   ]
  },
  {
   "cell_type": "markdown",
   "id": "e331a0d7",
   "metadata": {},
   "source": [
    "<h4 style=\"color:Tomato;\">Step 1: Load / Initialize Data</h4>"
   ]
  },
  {
   "cell_type": "code",
   "execution_count": 1101,
   "id": "0001914a",
   "metadata": {},
   "outputs": [],
   "source": [
    "X=np.array([1,2,3,4,7]) #features\n",
    "y=np.array([4,7,10,13,22]) #target"
   ]
  },
  {
   "cell_type": "markdown",
   "id": "0a37560e",
   "metadata": {},
   "source": [
    "<h4 style=\"color:Tomato;\">Step 2: Plot Data</h4>"
   ]
  },
  {
   "cell_type": "code",
   "execution_count": 1102,
   "id": "d6b30887",
   "metadata": {},
   "outputs": [
    {
     "data": {
      "text/plain": [
       "<matplotlib.collections.PathCollection at 0x2061b9a9820>"
      ]
     },
     "execution_count": 1102,
     "metadata": {},
     "output_type": "execute_result"
    },
    {
     "data": {
      "image/png": "[encoded data removed]",
      "text/plain": [
       "<Figure size 640x480 with 1 Axes>"
      ]
     },
     "metadata": {},
     "output_type": "display_data"
    }
   ],
   "source": [
    "plt.scatter(X,y)"
   ]
  },
  {
   "cell_type": "markdown",
   "id": "24006053",
   "metadata": {},
   "source": [
    "<h4 style=\"color:Tomato;\">Step 3: Split Data</h4>"
   ]
  },
  {
   "cell_type": "markdown",
   "id": "0235f3ac",
   "metadata": {},
   "source": [
    "<p>pour évaluer la performance du modèle, il est nécessaire de tester le modèle ( calculer mse) sur des données non utilisées dans la phase d'apprentissage</p>\n",
    "<p>Mais, pour cet exemple, le data set est de taille très petite, alors nous allons pas le diviser (split) en training set et et test set.</p> "
   ]
  },
  {
   "cell_type": "markdown",
   "id": "e25b5d6f",
   "metadata": {},
   "source": [
    "<h3 style=\"color:Tomato;\">I.1.2. Model (version 1 - without gradient descent)</h3>"
   ]
  },
  {
   "cell_type": "markdown",
   "id": "725cbba4",
   "metadata": {},
   "source": [
    "<h4 style=\"color:Tomato;\">Step 1: Model Training</h4>"
   ]
  },
  {
   "cell_type": "markdown",
   "id": "dc231838",
   "metadata": {},
   "source": [
    "<p>le programme suivant permet de calculer l'erreur pour plusieurs couple (bias,w1). chaque couple (bias,w1) représente un modèle</p>\n",
    "<p>pour simplifier, nous allons fixer bias</p> "
   ]
  },
  {
   "cell_type": "code",
   "execution_count": 1103,
   "id": "33538825",
   "metadata": {},
   "outputs": [
    {
     "name": "stdout",
     "output_type": "stream",
     "text": [
      "iteration  0 : (bias= 1 ,w1: 0 ) --->mse= 142.2\n",
      "iteration  1 : (bias= 1 ,w1: 0.1 ) --->mse= 132.88\n",
      "iteration  2 : (bias= 1 ,w1: 0.2 ) --->mse= 123.87\n",
      "iteration  3 : (bias= 1 ,w1: 0.3 ) --->mse= 115.18\n",
      "iteration  4 : (bias= 1 ,w1: 0.4 ) --->mse= 106.81\n",
      "iteration  5 : (bias= 1 ,w1: 0.5 ) --->mse= 98.75\n",
      "iteration  6 : (bias= 1 ,w1: 0.6 ) --->mse= 91.01\n",
      "iteration  7 : (bias= 1 ,w1: 0.7 ) --->mse= 83.58\n",
      "iteration  8 : (bias= 1 ,w1: 0.8 ) --->mse= 76.47\n",
      "iteration  9 : (bias= 1 ,w1: 0.9 ) --->mse= 69.68\n",
      "iteration  10 : (bias= 1 ,w1: 1.0 ) --->mse= 63.2\n",
      "iteration  11 : (bias= 1 ,w1: 1.1 ) --->mse= 57.04\n",
      "iteration  12 : (bias= 1 ,w1: 1.2 ) --->mse= 51.19\n",
      "iteration  13 : (bias= 1 ,w1: 1.3 ) --->mse= 45.66\n",
      "iteration  14 : (bias= 1 ,w1: 1.4 ) --->mse= 40.45\n",
      "iteration  15 : (bias= 1 ,w1: 1.5 ) --->mse= 35.55\n",
      "iteration  16 : (bias= 1 ,w1: 1.6 ) --->mse= 30.97\n",
      "iteration  17 : (bias= 1 ,w1: 1.7 ) --->mse= 26.7\n",
      "iteration  18 : (bias= 1 ,w1: 1.8 ) --->mse= 22.75\n",
      "iteration  19 : (bias= 1 ,w1: 1.9 ) --->mse= 19.12\n",
      "iteration  20 : (bias= 1 ,w1: 2.0 ) --->mse= 15.8\n",
      "iteration  21 : (bias= 1 ,w1: 2.1 ) --->mse= 12.8\n",
      "iteration  22 : (bias= 1 ,w1: 2.2 ) --->mse= 10.11\n",
      "iteration  23 : (bias= 1 ,w1: 2.3 ) --->mse= 7.74\n",
      "iteration  24 : (bias= 1 ,w1: 2.4 ) --->mse= 5.69\n",
      "iteration  25 : (bias= 1 ,w1: 2.5 ) --->mse= 3.95\n",
      "iteration  26 : (bias= 1 ,w1: 2.6 ) --->mse= 2.53\n",
      "iteration  27 : (bias= 1 ,w1: 2.7 ) --->mse= 1.42\n",
      "iteration  28 : (bias= 1 ,w1: 2.8 ) --->mse= 0.63\n",
      "iteration  29 : (bias= 1 ,w1: 2.9 ) --->mse= 0.16\n",
      "iteration  30 : (bias= 1 ,w1: 3.0 ) --->mse= 0.0\n",
      "iteration  31 : (bias= 1 ,w1: 3.1 ) --->mse= 0.16\n",
      "iteration  32 : (bias= 1 ,w1: 3.2 ) --->mse= 0.63\n",
      "iteration  33 : (bias= 1 ,w1: 3.3 ) --->mse= 1.42\n",
      "iteration  34 : (bias= 1 ,w1: 3.4 ) --->mse= 2.53\n",
      "iteration  35 : (bias= 1 ,w1: 3.5 ) --->mse= 3.95\n",
      "iteration  36 : (bias= 1 ,w1: 3.6 ) --->mse= 5.69\n",
      "iteration  37 : (bias= 1 ,w1: 3.7 ) --->mse= 7.74\n",
      "iteration  38 : (bias= 1 ,w1: 3.8 ) --->mse= 10.11\n",
      "iteration  39 : (bias= 1 ,w1: 3.9 ) --->mse= 12.8\n",
      "iteration  40 : (bias= 1 ,w1: 4.0 ) --->mse= 15.8\n",
      "iteration  41 : (bias= 1 ,w1: 4.1 ) --->mse= 19.12\n",
      "iteration  42 : (bias= 1 ,w1: 4.2 ) --->mse= 22.75\n",
      "iteration  43 : (bias= 1 ,w1: 4.3 ) --->mse= 26.7\n",
      "iteration  44 : (bias= 1 ,w1: 4.4 ) --->mse= 30.97\n",
      "iteration  45 : (bias= 1 ,w1: 4.5 ) --->mse= 35.55\n",
      "iteration  46 : (bias= 1 ,w1: 4.6 ) --->mse= 40.45\n",
      "iteration  47 : (bias= 1 ,w1: 4.7 ) --->mse= 45.66\n",
      "iteration  48 : (bias= 1 ,w1: 4.8 ) --->mse= 51.19\n",
      "iteration  49 : (bias= 1 ,w1: 4.9 ) --->mse= 57.04\n",
      "iteration  50 : (bias= 1 ,w1: 5.0 ) --->mse= 63.2\n",
      "iteration  51 : (bias= 1 ,w1: 5.1 ) --->mse= 69.68\n",
      "iteration  52 : (bias= 1 ,w1: 5.2 ) --->mse= 76.47\n",
      "iteration  53 : (bias= 1 ,w1: 5.3 ) --->mse= 83.58\n",
      "iteration  54 : (bias= 1 ,w1: 5.4 ) --->mse= 91.01\n",
      "iteration  55 : (bias= 1 ,w1: 5.5 ) --->mse= 98.75\n",
      "iteration  56 : (bias= 1 ,w1: 5.6 ) --->mse= 106.81\n",
      "iteration  57 : (bias= 1 ,w1: 5.7 ) --->mse= 115.18\n",
      "iteration  58 : (bias= 1 ,w1: 5.8 ) --->mse= 123.87\n",
      "iteration  59 : (bias= 1 ,w1: 5.9 ) --->mse= 132.88\n"
     ]
    }
   ],
   "source": [
    "def train1(X,y):\n",
    "    #hyper parameters initailization\n",
    "    epochs=60\n",
    "    learning_rate=0.1 #\n",
    "    #parameters initialization\n",
    "    w1=0 #noter que cette valeur se trouve à gauche de l'optimum recherché (w1=3)\n",
    "    bias=1 #pour simplifier, le bias est considéré trouvé: à ne pas mettre à jour\n",
    "    \n",
    "    global mseList\n",
    "    mseList=[] #means squared error list pour chaque valeur de w1\n",
    "    global w1List\n",
    "    w1List=[] #les valeurs prises par w1 sont enregistrées dans w1List \n",
    "    n=len(X)\n",
    "    for i in range(epochs):\n",
    "        yhat=bias+w1*X\n",
    "        error=y-yhat # error\n",
    "        squared_error=error**2 #squared error \n",
    "        mse=(1/n)*sum(squared_error) #mean squared error\n",
    "        print(\"iteration \",i,\": (bias=\",round(bias,2),\",w1:\",round(w1,2),\") --->mse=\",round(mse,2))\n",
    "       \n",
    "        mseList.append(mse)\n",
    "        w1List.append(w1)\n",
    "        \n",
    "        dw1=0.1\n",
    "        w1=w1+dw1\n",
    "        \n",
    "    return bias,w1\n",
    "        \n",
    "bias,w1=train1(X,y)\n",
    "    "
   ]
  },
  {
   "cell_type": "code",
   "execution_count": null,
   "id": "63b33055",
   "metadata": {},
   "outputs": [],
   "source": []
  },
  {
   "cell_type": "markdown",
   "id": "d047699c",
   "metadata": {},
   "source": [
    "<h3 style=\"color:Tomato;\">Analyse du code et interprétation du résultat</h3>\n",
    "<h3 style=\"color:DodgerBlue;\">Graphe 1: Evolutionde mse en fonction de w1 et en fonction des itérations</h3>\n",
    "\n"
   ]
  },
  {
   "cell_type": "code",
   "execution_count": 1104,
   "id": "797441a3",
   "metadata": {},
   "outputs": [],
   "source": [
    "#cette fonction est utilisé dans tout le tutorial\n",
    "def tracer_graphes(w1List,mseList,iterations):\n",
    "    plt.figure(figsize=(10,3))\n",
    "    plt.subplot(121) #\n",
    "    plt.plot(w1List,mseList)\n",
    "    plt.xlabel(\"w1\")\n",
    "    plt.ylabel(\"mse\")\n",
    "    plt.title(\"mse en fonction de w1\")\n",
    "    plt.subplot(122)\n",
    "    plt.plot(iterations,mseList)\n",
    "\n",
    "    plt.xlabel(\"iteration\")\n",
    "    plt.ylabel(\"mse\")\n",
    "    plt.title(\"mse en fonction des iterations\")\n"
   ]
  },
  {
   "cell_type": "code",
   "execution_count": 1105,
   "id": "360109e9",
   "metadata": {},
   "outputs": [
    {
     "data": {
      "image/png": "[encoded data removed]",
      "text/plain": [
       "<Figure size 1000x300 with 2 Axes>"
      ]
     },
     "metadata": {},
     "output_type": "display_data"
    }
   ],
   "source": [
    "tracer_graphes(w1List,mseList,[i for i in range(60)])"
   ]
  },
  {
   "cell_type": "markdown",
   "id": "36119303",
   "metadata": {},
   "source": [
    "<h4 style=\"color:Tomato;\">Step 2: Model Prediction</h4>"
   ]
  },
  {
   "cell_type": "code",
   "execution_count": 1106,
   "id": "c478440d",
   "metadata": {},
   "outputs": [],
   "source": [
    "def predict(x1):\n",
    "    return bias+w1*x1"
   ]
  },
  {
   "cell_type": "code",
   "execution_count": 1107,
   "id": "726849d8",
   "metadata": {},
   "outputs": [],
   "source": [
    "yhat=predict(X)"
   ]
  },
  {
   "cell_type": "markdown",
   "id": "e2228da5",
   "metadata": {},
   "source": [
    "<h4 style=\"color:Tomato;\">Step 3: Model Evaluation</h4>\n",
    "vu que le dataset est tres petit, nous allons utiliser le dataset de training (X) pour évaluer le modèle (bad practice)\n",
    "<br>dans l'exemple suivant, nous allons utiliser un dataset de test pour évaluer le modèle"
   ]
  },
  {
   "cell_type": "code",
   "execution_count": 1108,
   "id": "3659308c",
   "metadata": {},
   "outputs": [],
   "source": [
    "def mse(y,yhat):\n",
    "    return 1/(len(y))*np.sum((y-yhat)**2)"
   ]
  },
  {
   "cell_type": "code",
   "execution_count": 1109,
   "id": "213cee02",
   "metadata": {},
   "outputs": [
    {
     "name": "stdout",
     "output_type": "stream",
     "text": [
      "mean squared error du modèle est: 142.2\n"
     ]
    }
   ],
   "source": [
    "print(\"mean squared error du modèle est:\",round(mse(y,yhat),3))"
   ]
  },
  {
   "cell_type": "code",
   "execution_count": 1110,
   "id": "bafa42cb",
   "metadata": {},
   "outputs": [
    {
     "data": {
      "text/plain": [
       "(1, 6.0)"
      ]
     },
     "execution_count": 1110,
     "metadata": {},
     "output_type": "execute_result"
    }
   ],
   "source": [
    "bias,round(w1,2)"
   ]
  },
  {
   "cell_type": "markdown",
   "id": "0e23ef72",
   "metadata": {},
   "source": [
    "<h3 style=\"color:Tomato;\">questions</h3>\n",
    "<p>\n",
    "    <span style=\"color:Tomato;\"><b> 1) </b></span>\n",
    "    <span  style=\"color:DodgerBlue;\">comment varie mse à partir de l'itération 0 à l'iération 30?</span>\n",
    "</p>\n",
    "<p>\n",
    "    <span style=\"color:Tomato;\"><b> 2) </b></span>\n",
    "    <span  style=\"color:DodgerBlue;\">comment varie mse à partir de l'itération 30 à l'iération 59?</span>\n",
    "</p>\n",
    "\n",
    "<p>\n",
    "    <span style=\"color:Tomato;\"><b> 3) </b></span>\n",
    "    <span  style=\"color:DodgerBlue;\">à quelle itération, mse est minimal?</span>\n",
    "</p>\n",
    "\n",
    "\n",
    "<p>\n",
    "    <span style=\"color:Tomato;\"><b> 4) </b></span>\n",
    "    <span  style=\"color:DodgerBlue;\">comment se comporte l'algorithme si on initialise w1 à 6?</span>\n",
    "</p>\n",
    "\n",
    "<p>\n",
    "    <span style=\"color:Tomato;\"><b> 5) </b></span>\n",
    "    <span  style=\"color:DodgerBlue;\">comment se comporte l'algorithme si dw1=2? (ou autre valeur plus grande que 2)</span>\n",
    "</p>\n",
    "\n",
    "<p>\n",
    "    <span style=\"color:Tomato;\"><b> 6) </b></span>\n",
    "    <span  style=\"color:DodgerBlue;\">comment la dérivée partielle (dmse/dw1) permet de régler le problème en 4)? (Algorithme du gradient)</span>\n",
    "</p>\n",
    "\n",
    "<p>\n",
    "    <span style=\"color:Tomato;\"><b> 7) </b></span>\n",
    "    <span  style=\"color:DodgerBlue;\">comment le learning rate permet de régler le problème en 5)?</span>\n",
    "</p>\n",
    "\n",
    "<p>\n",
    "    <span style=\"color:Tomato;\"><b> 8) </b></span>\n",
    "    <span  style=\"color:DodgerBlue;\">justifier la valeur de mse  trouvé?</span>\n",
    "</p>\n",
    "\n"
   ]
  },
  {
   "cell_type": "markdown",
   "id": "fe1caae1",
   "metadata": {},
   "source": [
    "<h3 style=\"color:Tomato;\">REPONSES</h3>\n",
    "<p>\n",
    "    <span style=\"color:Tomato;\"><b> 1) </b></span>\n",
    "    <span  style=\"color:DodgerBlue;\">comment varie mse à partir de l'itération 0 à l'iération 30?</span>\n",
    "</p>\n",
    "<p>\n",
    "    <span style=\"color:Tomato;\"><b> Réponse </b></span>\n",
    "    <span  style=\"color:black;\"><br>comme montré dans le graphe et à partir des valeurs imprimées pendant l'apprentissage,<br>à l'iération 0, mse=142.2 <br>\n",
    "    à l'itération 1, mse=132.88<br>\n",
    "        ensuite, mse continue à dminuer jusqu'à litération 30.<br>\n",
    "    à l'itération 30, mse=0\n",
    "    </span>\n",
    "</p>\n",
    "\n",
    "<p>\n",
    "    <span style=\"color:Tomato;\"><b> 2) </b></span>\n",
    "    <span  style=\"color:DodgerBlue;\">comment varie mse à partir de l'itération 30 à l'iération 59?</span>\n",
    "</p>\n",
    "<p>\n",
    "    <span style=\"color:Tomato;\"><b> Réponse </b></span>\n",
    "    <span  style=\"color:black;\">\n",
    "        <br>comme montré dans le graphe et à partir des valeurs imprimées pendant l'apprentissage<br>\n",
    "        à l'iération 30, mse=0 <br>\n",
    "    à l'itération 31, mse=0.16<br>\n",
    "        ensuite, mse continue à augmenter jusqu'à litération 59.<br>\n",
    "    à l'itération 59, mse=132.88\n",
    "    </span>\n",
    "</p>\n",
    "\n",
    "\n",
    "<p>\n",
    "    <span style=\"color:Tomato;\"><b> 3) </b></span>\n",
    "    <span  style=\"color:DodgerBlue;\">à quelle itération, mse est minimal?</span>\n",
    "</p>\n",
    "\n",
    "<p>\n",
    "    <span style=\"color:Tomato;\"><b> Réponse </b></span>\n",
    "    <span  style=\"color:black;\"><br>comme montré dans le graphe et à partir des valeurs imprimées pendant l'apprentissage,<br>la valeur de mse est minimal (mse=0) à l'itération 30, et pour w1=3 <br>\n",
    "      </span>\n",
    "</p>\n",
    "\n",
    "\n",
    "<p>\n",
    "    <span style=\"color:Tomato;\"><b> 4) </b></span>\n",
    "    <span  style=\"color:DodgerBlue;\">comment se comporte l'algorithme si on initialise w1 à 6?</span>\n",
    "</p>\n",
    "\n",
    "<p>\n",
    "    <span style=\"color:Tomato;\"><b> Réponse </b></span>\n",
    "    <span  style=\"color:black;\"><br>pour w1 initialisé à 6, <br>\n",
    "        si on analyse le programme, et exatement les deux instructions suivantes:<br>\n",
    "        dw1=0.1\n",
    "        w1=w1+dw1 #augmentation de w1\n",
    "        <br>\n",
    "        la valeur de w1 va contnier à augmenter (s'éloigne de l'optimum w1=3) <br>\n",
    "        ce qui implique l'augmentation de mse (d'après les graphes)\n",
    "      </span>\n",
    "</p>\n",
    "\n",
    "\n",
    "<p>\n",
    "    <span style=\"color:Tomato;\"><b> 5) </b></span>\n",
    "    <span  style=\"color:DodgerBlue;\">comment se comporte l'algorithme si dw1=2? (ou autre valeur plus grande que 2)</span>\n",
    "</p>\n",
    "\n",
    "<p>\n",
    "    <span style=\"color:Tomato;\"><b> Réponse </b></span>\n",
    "    <span  style=\"color:black;\"><br>pour dw1=2, et pour w1 initail (w1=0) <br>\n",
    "        à chaque itération, on ajoute à w1 la valeur 2: w1=0,2,4,6,8...\n",
    "        <br>\n",
    "        ce qui montre que notre algorithme saute le minimum: le pas de mise à jour est grand<br>\n",
    "        \n",
    "      </span>\n",
    "</p>\n",
    "\n",
    "<p>\n",
    "    <span style=\"color:Tomato;\"><b> 6) </b></span>\n",
    "    <span  style=\"color:DodgerBlue;\">comment la dérivée partielle (dmse/dw1) permet de régler le problème en 4)? (Algorithme du gradient)</span>\n",
    "</p>\n",
    "<p>\n",
    "    <span style=\"color:Tomato;\"><b> Réponse </b></span>\n",
    "    <span  style=\"color:black;\"><br>la dérivé partielle aide à trouver l'oientation de mise à jour: signe de la dérivée partielle<br>\n",
    "        si le signe est négative (w1 courant à gauche du w1 optimal (3)): mse diminue, donc aller vers la droite. w1=w1-dw1\n",
    "  <br> et puisque dw1 est négative, w1 va augmenter (ce qu'on cherche à faire)\n",
    "  <br>si le signe est positif (w1 courant à droite du w1 optimal (3)): mse augmente, donc aller vers la gauche. w1=w1-dw1\n",
    "   <br> et puisque dw1 est positif, w1 va diminuer (ce qu'on cherche à faire)\n",
    "  </span>\n",
    "</p>\n",
    "\n",
    "\n",
    "<p>\n",
    "    <span style=\"color:Tomato;\"><b> 7) </b></span>\n",
    "    <span  style=\"color:DodgerBlue;\">comment le learning rate permet de régler le problème en 5)?</span>\n",
    "</p>\n",
    "\n",
    "\n",
    "<p>\n",
    "    <span style=\"color:Tomato;\"><b> Réponse </b></span>\n",
    "    <span  style=\"color:black;\">\n",
    "        <br>le learning rate est une constante qui permet d'assurer des petits pas d'apprentissage pour éviter de sauter l'optimum\n",
    "        <br>cette valeur est à multiplier par dw1.\n",
    "        <br>sa valeur est toujours entre 0 et 1. en général, on met: learning_rate=0,1,0.01,0.001, ...selon les cas\n",
    "        <br> cette valeur affaiblit la quantité de mise à jour à appliquer sur w1.\n",
    "      </span>\n",
    "</p>\n",
    "\n",
    "\n",
    "<p>\n",
    "    <span style=\"color:Tomato;\"><b> 8) </b></span>\n",
    "    <span  style=\"color:DodgerBlue;\">justifier la valeur de mse  trouvé?</span>\n",
    "</p>\n",
    "\n",
    "<p>\n",
    "    <span style=\"color:Tomato;\"><b> Réponse </b></span>\n",
    "    <span  style=\"color:black;\">\n",
    "        <br>mse affiché du modèle (bias,w1) est : 142.2\n",
    "        <br>cette valeur est grande à cause du modèle calculé par le program (bias=1,w1=6)\n",
    "        <br>un modèle loin de ce qu'on attend (bias=1,w1=3)\n",
    "    </span>\n",
    "</p>\n"
   ]
  },
  {
   "cell_type": "markdown",
   "id": "01248a9a",
   "metadata": {},
   "source": [
    "<h3 style=\"color:Tomato;\">I.1.3. Model (version 2- using gradient descent)</h3>"
   ]
  },
  {
   "cell_type": "markdown",
   "id": "57b9751c",
   "metadata": {},
   "source": [
    "<h4 style=\"color:Tomato;\">Step 1: Model Trainig</h4>"
   ]
  },
  {
   "cell_type": "code",
   "execution_count": 1111,
   "id": "bbc41a1e",
   "metadata": {},
   "outputs": [
    {
     "name": "stdout",
     "output_type": "stream",
     "text": [
      "iteration  0 : (bias= 0 ,w1: 0 ) --->mse= 163.6  | update: dbias= -22.4 , dw1= -101.6\n",
      "iteration  1 : (bias= 0.22 ,w1: 1.02 ) --->mse= 73.26419  | update: dbias= -15.04 , dw1= -67.97\n",
      "iteration  2 : (bias= 0.37 ,w1: 1.7 ) --->mse= 32.81804  | update: dbias= -10.12 , dw1= -45.47\n",
      "iteration  3 : (bias= 0.48 ,w1: 2.15 ) --->mse= 14.70895  | update: dbias= -6.83 , dw1= -30.41\n",
      "iteration  4 : (bias= 0.54 ,w1: 2.45 ) --->mse= 6.60082  | update: dbias= -4.62 , dw1= -20.34\n",
      "iteration  5 : (bias= 0.59 ,w1: 2.66 ) --->mse= 2.97042  | update: dbias= -3.15 , dw1= -13.6\n",
      "iteration  6 : (bias= 0.62 ,w1: 2.79 ) --->mse= 1.34483  | update: dbias= -2.16 , dw1= -9.09\n",
      "iteration  7 : (bias= 0.64 ,w1: 2.88 ) --->mse= 0.61685  | update: dbias= -1.5 , dw1= -6.07\n",
      "iteration  8 : (bias= 0.66 ,w1: 2.95 ) --->mse= 0.29076  | update: dbias= -1.05 , dw1= -4.05\n",
      "iteration  9 : (bias= 0.67 ,w1: 2.99 ) --->mse= 0.14462  | update: dbias= -0.76 , dw1= -2.7\n",
      "iteration  10 : (bias= 0.68 ,w1: 3.01 ) --->mse= 0.07903  | update: dbias= -0.56 , dw1= -1.79\n",
      "iteration  11 : (bias= 0.68 ,w1: 3.03 ) --->mse= 0.04952  | update: dbias= -0.43 , dw1= -1.19\n",
      "iteration  12 : (bias= 0.69 ,w1: 3.04 ) --->mse= 0.03617  | update: dbias= -0.34 , dw1= -0.78\n",
      "iteration  13 : (bias= 0.69 ,w1: 3.05 ) --->mse= 0.03004  | update: dbias= -0.28 , dw1= -0.51\n",
      "iteration  14 : (bias= 0.69 ,w1: 3.06 ) --->mse= 0.02716  | update: dbias= -0.24 , dw1= -0.33\n",
      "iteration  15 : (bias= 0.69 ,w1: 3.06 ) --->mse= 0.02573  | update: dbias= -0.21 , dw1= -0.21\n",
      "iteration  16 : (bias= 0.7 ,w1: 3.06 ) --->mse= 0.02495  | update: dbias= -0.19 , dw1= -0.13\n",
      "iteration  17 : (bias= 0.7 ,w1: 3.06 ) --->mse= 0.02446  | update: dbias= -0.18 , dw1= -0.08\n",
      "iteration  18 : (bias= 0.7 ,w1: 3.06 ) --->mse= 0.02411  | update: dbias= -0.17 , dw1= -0.04\n",
      "iteration  19 : (bias= 0.7 ,w1: 3.06 ) --->mse= 0.02382  | update: dbias= -0.16 , dw1= -0.02\n",
      "iteration  20 : (bias= 0.7 ,w1: 3.06 ) --->mse= 0.02355  | update: dbias= -0.16 , dw1= 0.0\n",
      "iteration  21 : (bias= 0.71 ,w1: 3.06 ) --->mse= 0.0233  | update: dbias= -0.16 , dw1= 0.01\n",
      "iteration  22 : (bias= 0.71 ,w1: 3.06 ) --->mse= 0.02306  | update: dbias= -0.15 , dw1= 0.02\n",
      "iteration  23 : (bias= 0.71 ,w1: 3.06 ) --->mse= 0.02282  | update: dbias= -0.15 , dw1= 0.02\n",
      "iteration  24 : (bias= 0.71 ,w1: 3.06 ) --->mse= 0.02259  | update: dbias= -0.15 , dw1= 0.03\n",
      "iteration  25 : (bias= 0.71 ,w1: 3.06 ) --->mse= 0.02236  | update: dbias= -0.15 , dw1= 0.03\n",
      "iteration  26 : (bias= 0.71 ,w1: 3.06 ) --->mse= 0.02213  | update: dbias= -0.15 , dw1= 0.03\n",
      "iteration  27 : (bias= 0.71 ,w1: 3.06 ) --->mse= 0.0219  | update: dbias= -0.15 , dw1= 0.03\n",
      "iteration  28 : (bias= 0.72 ,w1: 3.06 ) --->mse= 0.02168  | update: dbias= -0.15 , dw1= 0.03\n",
      "iteration  29 : (bias= 0.72 ,w1: 3.06 ) --->mse= 0.02146  | update: dbias= -0.15 , dw1= 0.03\n",
      "iteration  30 : (bias= 0.72 ,w1: 3.06 ) --->mse= 0.02124  | update: dbias= -0.14 , dw1= 0.03\n",
      "iteration  31 : (bias= 0.72 ,w1: 3.06 ) --->mse= 0.02102  | update: dbias= -0.14 , dw1= 0.03\n",
      "iteration  32 : (bias= 0.72 ,w1: 3.06 ) --->mse= 0.02081  | update: dbias= -0.14 , dw1= 0.03\n",
      "iteration  33 : (bias= 0.72 ,w1: 3.06 ) --->mse= 0.02059  | update: dbias= -0.14 , dw1= 0.03\n",
      "iteration  34 : (bias= 0.72 ,w1: 3.06 ) --->mse= 0.02038  | update: dbias= -0.14 , dw1= 0.03\n",
      "iteration  35 : (bias= 0.73 ,w1: 3.06 ) --->mse= 0.02017  | update: dbias= -0.14 , dw1= 0.03\n",
      "iteration  36 : (bias= 0.73 ,w1: 3.06 ) --->mse= 0.01997  | update: dbias= -0.14 , dw1= 0.03\n",
      "iteration  37 : (bias= 0.73 ,w1: 3.06 ) --->mse= 0.01976  | update: dbias= -0.14 , dw1= 0.03\n",
      "iteration  38 : (bias= 0.73 ,w1: 3.06 ) --->mse= 0.01956  | update: dbias= -0.14 , dw1= 0.03\n",
      "iteration  39 : (bias= 0.73 ,w1: 3.06 ) --->mse= 0.01936  | update: dbias= -0.14 , dw1= 0.03\n",
      "iteration  40 : (bias= 0.73 ,w1: 3.06 ) --->mse= 0.01916  | update: dbias= -0.14 , dw1= 0.03\n",
      "iteration  41 : (bias= 0.73 ,w1: 3.06 ) --->mse= 0.01897  | update: dbias= -0.14 , dw1= 0.03\n",
      "iteration  42 : (bias= 0.74 ,w1: 3.06 ) --->mse= 0.01877  | update: dbias= -0.14 , dw1= 0.03\n",
      "iteration  43 : (bias= 0.74 ,w1: 3.06 ) --->mse= 0.01858  | update: dbias= -0.13 , dw1= 0.03\n",
      "iteration  44 : (bias= 0.74 ,w1: 3.06 ) --->mse= 0.01839  | update: dbias= -0.13 , dw1= 0.03\n",
      "iteration  45 : (bias= 0.74 ,w1: 3.06 ) --->mse= 0.0182  | update: dbias= -0.13 , dw1= 0.03\n",
      "iteration  46 : (bias= 0.74 ,w1: 3.06 ) --->mse= 0.01802  | update: dbias= -0.13 , dw1= 0.03\n",
      "iteration  47 : (bias= 0.74 ,w1: 3.06 ) --->mse= 0.01783  | update: dbias= -0.13 , dw1= 0.03\n",
      "iteration  48 : (bias= 0.74 ,w1: 3.06 ) --->mse= 0.01765  | update: dbias= -0.13 , dw1= 0.03\n",
      "iteration  49 : (bias= 0.74 ,w1: 3.06 ) --->mse= 0.01747  | update: dbias= -0.13 , dw1= 0.03\n",
      "iteration  50 : (bias= 0.75 ,w1: 3.06 ) --->mse= 0.01729  | update: dbias= -0.13 , dw1= 0.03\n",
      "iteration  51 : (bias= 0.75 ,w1: 3.06 ) --->mse= 0.01711  | update: dbias= -0.13 , dw1= 0.03\n",
      "iteration  52 : (bias= 0.75 ,w1: 3.05 ) --->mse= 0.01694  | update: dbias= -0.13 , dw1= 0.03\n",
      "iteration  53 : (bias= 0.75 ,w1: 3.05 ) --->mse= 0.01677  | update: dbias= -0.13 , dw1= 0.03\n",
      "iteration  54 : (bias= 0.75 ,w1: 3.05 ) --->mse= 0.01659  | update: dbias= -0.13 , dw1= 0.03\n",
      "iteration  55 : (bias= 0.75 ,w1: 3.05 ) --->mse= 0.01643  | update: dbias= -0.13 , dw1= 0.03\n",
      "iteration  56 : (bias= 0.75 ,w1: 3.05 ) --->mse= 0.01626  | update: dbias= -0.13 , dw1= 0.03\n",
      "iteration  57 : (bias= 0.76 ,w1: 3.05 ) --->mse= 0.01609  | update: dbias= -0.13 , dw1= 0.03\n",
      "iteration  58 : (bias= 0.76 ,w1: 3.05 ) --->mse= 0.01593  | update: dbias= -0.12 , dw1= 0.03\n",
      "iteration  59 : (bias= 0.76 ,w1: 3.05 ) --->mse= 0.01576  | update: dbias= -0.12 , dw1= 0.03\n",
      "iteration  60 : (bias= 0.76 ,w1: 3.05 ) --->mse= 0.0156  | update: dbias= -0.12 , dw1= 0.03\n",
      "iteration  61 : (bias= 0.76 ,w1: 3.05 ) --->mse= 0.01544  | update: dbias= -0.12 , dw1= 0.03\n",
      "iteration  62 : (bias= 0.76 ,w1: 3.05 ) --->mse= 0.01528  | update: dbias= -0.12 , dw1= 0.03\n",
      "iteration  63 : (bias= 0.76 ,w1: 3.05 ) --->mse= 0.01513  | update: dbias= -0.12 , dw1= 0.03\n",
      "iteration  64 : (bias= 0.76 ,w1: 3.05 ) --->mse= 0.01497  | update: dbias= -0.12 , dw1= 0.03\n",
      "iteration  65 : (bias= 0.77 ,w1: 3.05 ) --->mse= 0.01482  | update: dbias= -0.12 , dw1= 0.03\n",
      "iteration  66 : (bias= 0.77 ,w1: 3.05 ) --->mse= 0.01467  | update: dbias= -0.12 , dw1= 0.03\n",
      "iteration  67 : (bias= 0.77 ,w1: 3.05 ) --->mse= 0.01452  | update: dbias= -0.12 , dw1= 0.03\n",
      "iteration  68 : (bias= 0.77 ,w1: 3.05 ) --->mse= 0.01437  | update: dbias= -0.12 , dw1= 0.03\n",
      "iteration  69 : (bias= 0.77 ,w1: 3.05 ) --->mse= 0.01422  | update: dbias= -0.12 , dw1= 0.03\n",
      "iteration  70 : (bias= 0.77 ,w1: 3.05 ) --->mse= 0.01408  | update: dbias= -0.12 , dw1= 0.03\n",
      "iteration  71 : (bias= 0.77 ,w1: 3.05 ) --->mse= 0.01393  | update: dbias= -0.12 , dw1= 0.03\n",
      "iteration  72 : (bias= 0.77 ,w1: 3.05 ) --->mse= 0.01379  | update: dbias= -0.12 , dw1= 0.03\n",
      "iteration  73 : (bias= 0.77 ,w1: 3.05 ) --->mse= 0.01365  | update: dbias= -0.12 , dw1= 0.03\n",
      "iteration  74 : (bias= 0.78 ,w1: 3.05 ) --->mse= 0.01351  | update: dbias= -0.11 , dw1= 0.03\n",
      "iteration  75 : (bias= 0.78 ,w1: 3.05 ) --->mse= 0.01337  | update: dbias= -0.11 , dw1= 0.03\n",
      "iteration  76 : (bias= 0.78 ,w1: 3.05 ) --->mse= 0.01324  | update: dbias= -0.11 , dw1= 0.02\n",
      "iteration  77 : (bias= 0.78 ,w1: 3.05 ) --->mse= 0.0131  | update: dbias= -0.11 , dw1= 0.02\n",
      "iteration  78 : (bias= 0.78 ,w1: 3.05 ) --->mse= 0.01297  | update: dbias= -0.11 , dw1= 0.02\n",
      "iteration  79 : (bias= 0.78 ,w1: 3.05 ) --->mse= 0.01283  | update: dbias= -0.11 , dw1= 0.02\n",
      "iteration  80 : (bias= 0.78 ,w1: 3.05 ) --->mse= 0.0127  | update: dbias= -0.11 , dw1= 0.02\n",
      "iteration  81 : (bias= 0.78 ,w1: 3.05 ) --->mse= 0.01257  | update: dbias= -0.11 , dw1= 0.02\n",
      "iteration  82 : (bias= 0.78 ,w1: 3.05 ) --->mse= 0.01244  | update: dbias= -0.11 , dw1= 0.02\n",
      "iteration  83 : (bias= 0.79 ,w1: 3.05 ) --->mse= 0.01232  | update: dbias= -0.11 , dw1= 0.02\n",
      "iteration  84 : (bias= 0.79 ,w1: 3.05 ) --->mse= 0.01219  | update: dbias= -0.11 , dw1= 0.02\n",
      "iteration  85 : (bias= 0.79 ,w1: 3.05 ) --->mse= 0.01207  | update: dbias= -0.11 , dw1= 0.02\n",
      "iteration  86 : (bias= 0.79 ,w1: 3.05 ) --->mse= 0.01194  | update: dbias= -0.11 , dw1= 0.02\n",
      "iteration  87 : (bias= 0.79 ,w1: 3.05 ) --->mse= 0.01182  | update: dbias= -0.11 , dw1= 0.02\n",
      "iteration  88 : (bias= 0.79 ,w1: 3.05 ) --->mse= 0.0117  | update: dbias= -0.11 , dw1= 0.02\n",
      "iteration  89 : (bias= 0.79 ,w1: 3.05 ) --->mse= 0.01158  | update: dbias= -0.11 , dw1= 0.02\n",
      "iteration  90 : (bias= 0.79 ,w1: 3.05 ) --->mse= 0.01146  | update: dbias= -0.11 , dw1= 0.02\n",
      "iteration  91 : (bias= 0.79 ,w1: 3.04 ) --->mse= 0.01135  | update: dbias= -0.11 , dw1= 0.02\n",
      "iteration  92 : (bias= 0.8 ,w1: 3.04 ) --->mse= 0.01123  | update: dbias= -0.1 , dw1= 0.02\n",
      "iteration  93 : (bias= 0.8 ,w1: 3.04 ) --->mse= 0.01111  | update: dbias= -0.1 , dw1= 0.02\n",
      "iteration  94 : (bias= 0.8 ,w1: 3.04 ) --->mse= 0.011  | update: dbias= -0.1 , dw1= 0.02\n",
      "iteration  95 : (bias= 0.8 ,w1: 3.04 ) --->mse= 0.01089  | update: dbias= -0.1 , dw1= 0.02\n",
      "iteration  96 : (bias= 0.8 ,w1: 3.04 ) --->mse= 0.01078  | update: dbias= -0.1 , dw1= 0.02\n",
      "iteration  97 : (bias= 0.8 ,w1: 3.04 ) --->mse= 0.01067  | update: dbias= -0.1 , dw1= 0.02\n",
      "iteration  98 : (bias= 0.8 ,w1: 3.04 ) --->mse= 0.01056  | update: dbias= -0.1 , dw1= 0.02\n",
      "iteration  99 : (bias= 0.8 ,w1: 3.04 ) --->mse= 0.01045  | update: dbias= -0.1 , dw1= 0.02\n",
      "iteration  100 : (bias= 0.8 ,w1: 3.04 ) --->mse= 0.01034  | update: dbias= -0.1 , dw1= 0.02\n",
      "iteration  101 : (bias= 0.8 ,w1: 3.04 ) --->mse= 0.01024  | update: dbias= -0.1 , dw1= 0.02\n",
      "iteration  102 : (bias= 0.81 ,w1: 3.04 ) --->mse= 0.01013  | update: dbias= -0.1 , dw1= 0.02\n",
      "iteration  103 : (bias= 0.81 ,w1: 3.04 ) --->mse= 0.01003  | update: dbias= -0.1 , dw1= 0.02\n",
      "iteration  104 : (bias= 0.81 ,w1: 3.04 ) --->mse= 0.00993  | update: dbias= -0.1 , dw1= 0.02\n",
      "iteration  105 : (bias= 0.81 ,w1: 3.04 ) --->mse= 0.00982  | update: dbias= -0.1 , dw1= 0.02\n",
      "iteration  106 : (bias= 0.81 ,w1: 3.04 ) --->mse= 0.00972  | update: dbias= -0.1 , dw1= 0.02\n",
      "iteration  107 : (bias= 0.81 ,w1: 3.04 ) --->mse= 0.00962  | update: dbias= -0.1 , dw1= 0.02\n",
      "iteration  108 : (bias= 0.81 ,w1: 3.04 ) --->mse= 0.00953  | update: dbias= -0.1 , dw1= 0.02\n",
      "iteration  109 : (bias= 0.81 ,w1: 3.04 ) --->mse= 0.00943  | update: dbias= -0.1 , dw1= 0.02\n",
      "iteration  110 : (bias= 0.81 ,w1: 3.04 ) --->mse= 0.00933  | update: dbias= -0.1 , dw1= 0.02\n",
      "iteration  111 : (bias= 0.81 ,w1: 3.04 ) --->mse= 0.00924  | update: dbias= -0.1 , dw1= 0.02\n",
      "iteration  112 : (bias= 0.82 ,w1: 3.04 ) --->mse= 0.00914  | update: dbias= -0.09 , dw1= 0.02\n",
      "iteration  113 : (bias= 0.82 ,w1: 3.04 ) --->mse= 0.00905  | update: dbias= -0.09 , dw1= 0.02\n",
      "iteration  114 : (bias= 0.82 ,w1: 3.04 ) --->mse= 0.00896  | update: dbias= -0.09 , dw1= 0.02\n",
      "iteration  115 : (bias= 0.82 ,w1: 3.04 ) --->mse= 0.00887  | update: dbias= -0.09 , dw1= 0.02\n",
      "iteration  116 : (bias= 0.82 ,w1: 3.04 ) --->mse= 0.00877  | update: dbias= -0.09 , dw1= 0.02\n",
      "iteration  117 : (bias= 0.82 ,w1: 3.04 ) --->mse= 0.00868  | update: dbias= -0.09 , dw1= 0.02\n",
      "iteration  118 : (bias= 0.82 ,w1: 3.04 ) --->mse= 0.0086  | update: dbias= -0.09 , dw1= 0.02\n",
      "iteration  119 : (bias= 0.82 ,w1: 3.04 ) --->mse= 0.00851  | update: dbias= -0.09 , dw1= 0.02\n",
      "iteration  120 : (bias= 0.82 ,w1: 3.04 ) --->mse= 0.00842  | update: dbias= -0.09 , dw1= 0.02\n",
      "iteration  121 : (bias= 0.82 ,w1: 3.04 ) --->mse= 0.00834  | update: dbias= -0.09 , dw1= 0.02\n",
      "iteration  122 : (bias= 0.82 ,w1: 3.04 ) --->mse= 0.00825  | update: dbias= -0.09 , dw1= 0.02\n",
      "iteration  123 : (bias= 0.83 ,w1: 3.04 ) --->mse= 0.00817  | update: dbias= -0.09 , dw1= 0.02\n",
      "iteration  124 : (bias= 0.83 ,w1: 3.04 ) --->mse= 0.00808  | update: dbias= -0.09 , dw1= 0.02\n",
      "iteration  125 : (bias= 0.83 ,w1: 3.04 ) --->mse= 0.008  | update: dbias= -0.09 , dw1= 0.02\n",
      "iteration  126 : (bias= 0.83 ,w1: 3.04 ) --->mse= 0.00792  | update: dbias= -0.09 , dw1= 0.02\n",
      "iteration  127 : (bias= 0.83 ,w1: 3.04 ) --->mse= 0.00784  | update: dbias= -0.09 , dw1= 0.02\n",
      "iteration  128 : (bias= 0.83 ,w1: 3.04 ) --->mse= 0.00776  | update: dbias= -0.09 , dw1= 0.02\n",
      "iteration  129 : (bias= 0.83 ,w1: 3.04 ) --->mse= 0.00768  | update: dbias= -0.09 , dw1= 0.02\n",
      "iteration  130 : (bias= 0.83 ,w1: 3.04 ) --->mse= 0.0076  | update: dbias= -0.09 , dw1= 0.02\n",
      "iteration  131 : (bias= 0.83 ,w1: 3.04 ) --->mse= 0.00752  | update: dbias= -0.09 , dw1= 0.02\n",
      "iteration  132 : (bias= 0.83 ,w1: 3.04 ) --->mse= 0.00744  | update: dbias= -0.09 , dw1= 0.02\n",
      "iteration  133 : (bias= 0.83 ,w1: 3.04 ) --->mse= 0.00737  | update: dbias= -0.08 , dw1= 0.02\n",
      "iteration  134 : (bias= 0.84 ,w1: 3.04 ) --->mse= 0.00729  | update: dbias= -0.08 , dw1= 0.02\n",
      "iteration  135 : (bias= 0.84 ,w1: 3.04 ) --->mse= 0.00722  | update: dbias= -0.08 , dw1= 0.02\n",
      "iteration  136 : (bias= 0.84 ,w1: 3.04 ) --->mse= 0.00714  | update: dbias= -0.08 , dw1= 0.02\n",
      "iteration  137 : (bias= 0.84 ,w1: 3.04 ) --->mse= 0.00707  | update: dbias= -0.08 , dw1= 0.02\n",
      "iteration  138 : (bias= 0.84 ,w1: 3.04 ) --->mse= 0.007  | update: dbias= -0.08 , dw1= 0.02\n",
      "iteration  139 : (bias= 0.84 ,w1: 3.04 ) --->mse= 0.00693  | update: dbias= -0.08 , dw1= 0.02\n",
      "iteration  140 : (bias= 0.84 ,w1: 3.03 ) --->mse= 0.00686  | update: dbias= -0.08 , dw1= 0.02\n",
      "iteration  141 : (bias= 0.84 ,w1: 3.03 ) --->mse= 0.00679  | update: dbias= -0.08 , dw1= 0.02\n",
      "iteration  142 : (bias= 0.84 ,w1: 3.03 ) --->mse= 0.00672  | update: dbias= -0.08 , dw1= 0.02\n",
      "iteration  143 : (bias= 0.84 ,w1: 3.03 ) --->mse= 0.00665  | update: dbias= -0.08 , dw1= 0.02\n",
      "iteration  144 : (bias= 0.84 ,w1: 3.03 ) --->mse= 0.00658  | update: dbias= -0.08 , dw1= 0.02\n",
      "iteration  145 : (bias= 0.84 ,w1: 3.03 ) --->mse= 0.00651  | update: dbias= -0.08 , dw1= 0.02\n",
      "iteration  146 : (bias= 0.85 ,w1: 3.03 ) --->mse= 0.00645  | update: dbias= -0.08 , dw1= 0.02\n",
      "iteration  147 : (bias= 0.85 ,w1: 3.03 ) --->mse= 0.00638  | update: dbias= -0.08 , dw1= 0.02\n",
      "iteration  148 : (bias= 0.85 ,w1: 3.03 ) --->mse= 0.00632  | update: dbias= -0.08 , dw1= 0.02\n",
      "iteration  149 : (bias= 0.85 ,w1: 3.03 ) --->mse= 0.00625  | update: dbias= -0.08 , dw1= 0.02\n",
      "iteration  150 : (bias= 0.85 ,w1: 3.03 ) --->mse= 0.00619  | update: dbias= -0.08 , dw1= 0.02\n",
      "iteration  151 : (bias= 0.85 ,w1: 3.03 ) --->mse= 0.00612  | update: dbias= -0.08 , dw1= 0.02\n",
      "iteration  152 : (bias= 0.85 ,w1: 3.03 ) --->mse= 0.00606  | update: dbias= -0.08 , dw1= 0.02\n",
      "iteration  153 : (bias= 0.85 ,w1: 3.03 ) --->mse= 0.006  | update: dbias= -0.08 , dw1= 0.02\n",
      "iteration  154 : (bias= 0.85 ,w1: 3.03 ) --->mse= 0.00594  | update: dbias= -0.08 , dw1= 0.02\n",
      "iteration  155 : (bias= 0.85 ,w1: 3.03 ) --->mse= 0.00588  | update: dbias= -0.08 , dw1= 0.02\n",
      "iteration  156 : (bias= 0.85 ,w1: 3.03 ) --->mse= 0.00582  | update: dbias= -0.08 , dw1= 0.02\n",
      "iteration  157 : (bias= 0.85 ,w1: 3.03 ) --->mse= 0.00576  | update: dbias= -0.08 , dw1= 0.02\n",
      "iteration  158 : (bias= 0.85 ,w1: 3.03 ) --->mse= 0.0057  | update: dbias= -0.07 , dw1= 0.02\n",
      "iteration  159 : (bias= 0.86 ,w1: 3.03 ) --->mse= 0.00564  | update: dbias= -0.07 , dw1= 0.02\n",
      "iteration  160 : (bias= 0.86 ,w1: 3.03 ) --->mse= 0.00558  | update: dbias= -0.07 , dw1= 0.02\n",
      "iteration  161 : (bias= 0.86 ,w1: 3.03 ) --->mse= 0.00553  | update: dbias= -0.07 , dw1= 0.02\n",
      "iteration  162 : (bias= 0.86 ,w1: 3.03 ) --->mse= 0.00547  | update: dbias= -0.07 , dw1= 0.02\n",
      "iteration  163 : (bias= 0.86 ,w1: 3.03 ) --->mse= 0.00541  | update: dbias= -0.07 , dw1= 0.02\n",
      "iteration  164 : (bias= 0.86 ,w1: 3.03 ) --->mse= 0.00536  | update: dbias= -0.07 , dw1= 0.02\n",
      "iteration  165 : (bias= 0.86 ,w1: 3.03 ) --->mse= 0.0053  | update: dbias= -0.07 , dw1= 0.02\n",
      "iteration  166 : (bias= 0.86 ,w1: 3.03 ) --->mse= 0.00525  | update: dbias= -0.07 , dw1= 0.02\n",
      "iteration  167 : (bias= 0.86 ,w1: 3.03 ) --->mse= 0.00519  | update: dbias= -0.07 , dw1= 0.02\n",
      "iteration  168 : (bias= 0.86 ,w1: 3.03 ) --->mse= 0.00514  | update: dbias= -0.07 , dw1= 0.02\n",
      "iteration  169 : (bias= 0.86 ,w1: 3.03 ) --->mse= 0.00509  | update: dbias= -0.07 , dw1= 0.02\n",
      "iteration  170 : (bias= 0.86 ,w1: 3.03 ) --->mse= 0.00504  | update: dbias= -0.07 , dw1= 0.02\n",
      "iteration  171 : (bias= 0.86 ,w1: 3.03 ) --->mse= 0.00499  | update: dbias= -0.07 , dw1= 0.02\n",
      "iteration  172 : (bias= 0.86 ,w1: 3.03 ) --->mse= 0.00493  | update: dbias= -0.07 , dw1= 0.02\n",
      "iteration  173 : (bias= 0.87 ,w1: 3.03 ) --->mse= 0.00488  | update: dbias= -0.07 , dw1= 0.02\n",
      "iteration  174 : (bias= 0.87 ,w1: 3.03 ) --->mse= 0.00483  | update: dbias= -0.07 , dw1= 0.02\n",
      "iteration  175 : (bias= 0.87 ,w1: 3.03 ) --->mse= 0.00478  | update: dbias= -0.07 , dw1= 0.01\n",
      "iteration  176 : (bias= 0.87 ,w1: 3.03 ) --->mse= 0.00474  | update: dbias= -0.07 , dw1= 0.01\n",
      "iteration  177 : (bias= 0.87 ,w1: 3.03 ) --->mse= 0.00469  | update: dbias= -0.07 , dw1= 0.01\n",
      "iteration  178 : (bias= 0.87 ,w1: 3.03 ) --->mse= 0.00464  | update: dbias= -0.07 , dw1= 0.01\n",
      "iteration  179 : (bias= 0.87 ,w1: 3.03 ) --->mse= 0.00459  | update: dbias= -0.07 , dw1= 0.01\n",
      "iteration  180 : (bias= 0.87 ,w1: 3.03 ) --->mse= 0.00455  | update: dbias= -0.07 , dw1= 0.01\n",
      "iteration  181 : (bias= 0.87 ,w1: 3.03 ) --->mse= 0.0045  | update: dbias= -0.07 , dw1= 0.01\n",
      "iteration  182 : (bias= 0.87 ,w1: 3.03 ) --->mse= 0.00445  | update: dbias= -0.07 , dw1= 0.01\n",
      "iteration  183 : (bias= 0.87 ,w1: 3.03 ) --->mse= 0.00441  | update: dbias= -0.07 , dw1= 0.01\n",
      "iteration  184 : (bias= 0.87 ,w1: 3.03 ) --->mse= 0.00436  | update: dbias= -0.07 , dw1= 0.01\n",
      "iteration  185 : (bias= 0.87 ,w1: 3.03 ) --->mse= 0.00432  | update: dbias= -0.06 , dw1= 0.01\n",
      "iteration  186 : (bias= 0.87 ,w1: 3.03 ) --->mse= 0.00427  | update: dbias= -0.06 , dw1= 0.01\n",
      "iteration  187 : (bias= 0.87 ,w1: 3.03 ) --->mse= 0.00423  | update: dbias= -0.06 , dw1= 0.01\n",
      "iteration  188 : (bias= 0.88 ,w1: 3.03 ) --->mse= 0.00419  | update: dbias= -0.06 , dw1= 0.01\n",
      "iteration  189 : (bias= 0.88 ,w1: 3.03 ) --->mse= 0.00414  | update: dbias= -0.06 , dw1= 0.01\n",
      "iteration  190 : (bias= 0.88 ,w1: 3.03 ) --->mse= 0.0041  | update: dbias= -0.06 , dw1= 0.01\n",
      "iteration  191 : (bias= 0.88 ,w1: 3.03 ) --->mse= 0.00406  | update: dbias= -0.06 , dw1= 0.01\n",
      "iteration  192 : (bias= 0.88 ,w1: 3.03 ) --->mse= 0.00402  | update: dbias= -0.06 , dw1= 0.01\n",
      "iteration  193 : (bias= 0.88 ,w1: 3.03 ) --->mse= 0.00398  | update: dbias= -0.06 , dw1= 0.01\n",
      "iteration  194 : (bias= 0.88 ,w1: 3.03 ) --->mse= 0.00394  | update: dbias= -0.06 , dw1= 0.01\n",
      "iteration  195 : (bias= 0.88 ,w1: 3.03 ) --->mse= 0.0039  | update: dbias= -0.06 , dw1= 0.01\n",
      "iteration  196 : (bias= 0.88 ,w1: 3.03 ) --->mse= 0.00386  | update: dbias= -0.06 , dw1= 0.01\n",
      "iteration  197 : (bias= 0.88 ,w1: 3.03 ) --->mse= 0.00382  | update: dbias= -0.06 , dw1= 0.01\n",
      "iteration  198 : (bias= 0.88 ,w1: 3.03 ) --->mse= 0.00378  | update: dbias= -0.06 , dw1= 0.01\n",
      "iteration  199 : (bias= 0.88 ,w1: 3.03 ) --->mse= 0.00374  | update: dbias= -0.06 , dw1= 0.01\n",
      "iteration  200 : (bias= 0.88 ,w1: 3.03 ) --->mse= 0.0037  | update: dbias= -0.06 , dw1= 0.01\n",
      "iteration  201 : (bias= 0.88 ,w1: 3.03 ) --->mse= 0.00366  | update: dbias= -0.06 , dw1= 0.01\n",
      "iteration  202 : (bias= 0.88 ,w1: 3.03 ) --->mse= 0.00363  | update: dbias= -0.06 , dw1= 0.01\n",
      "iteration  203 : (bias= 0.88 ,w1: 3.03 ) --->mse= 0.00359  | update: dbias= -0.06 , dw1= 0.01\n",
      "iteration  204 : (bias= 0.89 ,w1: 3.03 ) --->mse= 0.00355  | update: dbias= -0.06 , dw1= 0.01\n",
      "iteration  205 : (bias= 0.89 ,w1: 3.03 ) --->mse= 0.00352  | update: dbias= -0.06 , dw1= 0.01\n",
      "iteration  206 : (bias= 0.89 ,w1: 3.02 ) --->mse= 0.00348  | update: dbias= -0.06 , dw1= 0.01\n",
      "iteration  207 : (bias= 0.89 ,w1: 3.02 ) --->mse= 0.00344  | update: dbias= -0.06 , dw1= 0.01\n",
      "iteration  208 : (bias= 0.89 ,w1: 3.02 ) --->mse= 0.00341  | update: dbias= -0.06 , dw1= 0.01\n",
      "iteration  209 : (bias= 0.89 ,w1: 3.02 ) --->mse= 0.00337  | update: dbias= -0.06 , dw1= 0.01\n",
      "iteration  210 : (bias= 0.89 ,w1: 3.02 ) --->mse= 0.00334  | update: dbias= -0.06 , dw1= 0.01\n",
      "iteration  211 : (bias= 0.89 ,w1: 3.02 ) --->mse= 0.00331  | update: dbias= -0.06 , dw1= 0.01\n",
      "iteration  212 : (bias= 0.89 ,w1: 3.02 ) --->mse= 0.00327  | update: dbias= -0.06 , dw1= 0.01\n",
      "iteration  213 : (bias= 0.89 ,w1: 3.02 ) --->mse= 0.00324  | update: dbias= -0.06 , dw1= 0.01\n",
      "iteration  214 : (bias= 0.89 ,w1: 3.02 ) --->mse= 0.0032  | update: dbias= -0.06 , dw1= 0.01\n",
      "iteration  215 : (bias= 0.89 ,w1: 3.02 ) --->mse= 0.00317  | update: dbias= -0.06 , dw1= 0.01\n",
      "iteration  216 : (bias= 0.89 ,w1: 3.02 ) --->mse= 0.00314  | update: dbias= -0.06 , dw1= 0.01\n",
      "iteration  217 : (bias= 0.89 ,w1: 3.02 ) --->mse= 0.00311  | update: dbias= -0.06 , dw1= 0.01\n",
      "iteration  218 : (bias= 0.89 ,w1: 3.02 ) --->mse= 0.00308  | update: dbias= -0.05 , dw1= 0.01\n",
      "iteration  219 : (bias= 0.89 ,w1: 3.02 ) --->mse= 0.00304  | update: dbias= -0.05 , dw1= 0.01\n",
      "iteration  220 : (bias= 0.89 ,w1: 3.02 ) --->mse= 0.00301  | update: dbias= -0.05 , dw1= 0.01\n",
      "iteration  221 : (bias= 0.89 ,w1: 3.02 ) --->mse= 0.00298  | update: dbias= -0.05 , dw1= 0.01\n",
      "iteration  222 : (bias= 0.9 ,w1: 3.02 ) --->mse= 0.00295  | update: dbias= -0.05 , dw1= 0.01\n",
      "iteration  223 : (bias= 0.9 ,w1: 3.02 ) --->mse= 0.00292  | update: dbias= -0.05 , dw1= 0.01\n",
      "iteration  224 : (bias= 0.9 ,w1: 3.02 ) --->mse= 0.00289  | update: dbias= -0.05 , dw1= 0.01\n",
      "iteration  225 : (bias= 0.9 ,w1: 3.02 ) --->mse= 0.00286  | update: dbias= -0.05 , dw1= 0.01\n",
      "iteration  226 : (bias= 0.9 ,w1: 3.02 ) --->mse= 0.00283  | update: dbias= -0.05 , dw1= 0.01\n",
      "iteration  227 : (bias= 0.9 ,w1: 3.02 ) --->mse= 0.0028  | update: dbias= -0.05 , dw1= 0.01\n",
      "iteration  228 : (bias= 0.9 ,w1: 3.02 ) --->mse= 0.00278  | update: dbias= -0.05 , dw1= 0.01\n",
      "iteration  229 : (bias= 0.9 ,w1: 3.02 ) --->mse= 0.00275  | update: dbias= -0.05 , dw1= 0.01\n",
      "iteration  230 : (bias= 0.9 ,w1: 3.02 ) --->mse= 0.00272  | update: dbias= -0.05 , dw1= 0.01\n",
      "iteration  231 : (bias= 0.9 ,w1: 3.02 ) --->mse= 0.00269  | update: dbias= -0.05 , dw1= 0.01\n",
      "iteration  232 : (bias= 0.9 ,w1: 3.02 ) --->mse= 0.00266  | update: dbias= -0.05 , dw1= 0.01\n",
      "iteration  233 : (bias= 0.9 ,w1: 3.02 ) --->mse= 0.00264  | update: dbias= -0.05 , dw1= 0.01\n",
      "iteration  234 : (bias= 0.9 ,w1: 3.02 ) --->mse= 0.00261  | update: dbias= -0.05 , dw1= 0.01\n",
      "iteration  235 : (bias= 0.9 ,w1: 3.02 ) --->mse= 0.00258  | update: dbias= -0.05 , dw1= 0.01\n",
      "iteration  236 : (bias= 0.9 ,w1: 3.02 ) --->mse= 0.00256  | update: dbias= -0.05 , dw1= 0.01\n",
      "iteration  237 : (bias= 0.9 ,w1: 3.02 ) --->mse= 0.00253  | update: dbias= -0.05 , dw1= 0.01\n",
      "iteration  238 : (bias= 0.9 ,w1: 3.02 ) --->mse= 0.0025  | update: dbias= -0.05 , dw1= 0.01\n",
      "iteration  239 : (bias= 0.9 ,w1: 3.02 ) --->mse= 0.00248  | update: dbias= -0.05 , dw1= 0.01\n",
      "iteration  240 : (bias= 0.9 ,w1: 3.02 ) --->mse= 0.00245  | update: dbias= -0.05 , dw1= 0.01\n",
      "iteration  241 : (bias= 0.9 ,w1: 3.02 ) --->mse= 0.00243  | update: dbias= -0.05 , dw1= 0.01\n",
      "iteration  242 : (bias= 0.91 ,w1: 3.02 ) --->mse= 0.0024  | update: dbias= -0.05 , dw1= 0.01\n",
      "iteration  243 : (bias= 0.91 ,w1: 3.02 ) --->mse= 0.00238  | update: dbias= -0.05 , dw1= 0.01\n",
      "iteration  244 : (bias= 0.91 ,w1: 3.02 ) --->mse= 0.00235  | update: dbias= -0.05 , dw1= 0.01\n",
      "iteration  245 : (bias= 0.91 ,w1: 3.02 ) --->mse= 0.00233  | update: dbias= -0.05 , dw1= 0.01\n",
      "iteration  246 : (bias= 0.91 ,w1: 3.02 ) --->mse= 0.00231  | update: dbias= -0.05 , dw1= 0.01\n",
      "iteration  247 : (bias= 0.91 ,w1: 3.02 ) --->mse= 0.00228  | update: dbias= -0.05 , dw1= 0.01\n",
      "iteration  248 : (bias= 0.91 ,w1: 3.02 ) --->mse= 0.00226  | update: dbias= -0.05 , dw1= 0.01\n",
      "iteration  249 : (bias= 0.91 ,w1: 3.02 ) --->mse= 0.00224  | update: dbias= -0.05 , dw1= 0.01\n",
      "iteration  250 : (bias= 0.91 ,w1: 3.02 ) --->mse= 0.00221  | update: dbias= -0.05 , dw1= 0.01\n",
      "iteration  251 : (bias= 0.91 ,w1: 3.02 ) --->mse= 0.00219  | update: dbias= -0.05 , dw1= 0.01\n",
      "iteration  252 : (bias= 0.91 ,w1: 3.02 ) --->mse= 0.00217  | update: dbias= -0.05 , dw1= 0.01\n",
      "iteration  253 : (bias= 0.91 ,w1: 3.02 ) --->mse= 0.00215  | update: dbias= -0.05 , dw1= 0.01\n",
      "iteration  254 : (bias= 0.91 ,w1: 3.02 ) --->mse= 0.00212  | update: dbias= -0.05 , dw1= 0.01\n",
      "iteration  255 : (bias= 0.91 ,w1: 3.02 ) --->mse= 0.0021  | update: dbias= -0.05 , dw1= 0.01\n",
      "iteration  256 : (bias= 0.91 ,w1: 3.02 ) --->mse= 0.00208  | update: dbias= -0.05 , dw1= 0.01\n",
      "iteration  257 : (bias= 0.91 ,w1: 3.02 ) --->mse= 0.00206  | update: dbias= -0.04 , dw1= 0.01\n",
      "iteration  258 : (bias= 0.91 ,w1: 3.02 ) --->mse= 0.00204  | update: dbias= -0.04 , dw1= 0.01\n",
      "iteration  259 : (bias= 0.91 ,w1: 3.02 ) --->mse= 0.00202  | update: dbias= -0.04 , dw1= 0.01\n",
      "iteration  260 : (bias= 0.91 ,w1: 3.02 ) --->mse= 0.002  | update: dbias= -0.04 , dw1= 0.01\n",
      "iteration  261 : (bias= 0.91 ,w1: 3.02 ) --->mse= 0.00198  | update: dbias= -0.04 , dw1= 0.01\n",
      "iteration  262 : (bias= 0.91 ,w1: 3.02 ) --->mse= 0.00196  | update: dbias= -0.04 , dw1= 0.01\n",
      "iteration  263 : (bias= 0.92 ,w1: 3.02 ) --->mse= 0.00194  | update: dbias= -0.04 , dw1= 0.01\n",
      "iteration  264 : (bias= 0.92 ,w1: 3.02 ) --->mse= 0.00192  | update: dbias= -0.04 , dw1= 0.01\n",
      "iteration  265 : (bias= 0.92 ,w1: 3.02 ) --->mse= 0.0019  | update: dbias= -0.04 , dw1= 0.01\n",
      "iteration  266 : (bias= 0.92 ,w1: 3.02 ) --->mse= 0.00188  | update: dbias= -0.04 , dw1= 0.01\n",
      "iteration  267 : (bias= 0.92 ,w1: 3.02 ) --->mse= 0.00186  | update: dbias= -0.04 , dw1= 0.01\n",
      "iteration  268 : (bias= 0.92 ,w1: 3.02 ) --->mse= 0.00184  | update: dbias= -0.04 , dw1= 0.01\n",
      "iteration  269 : (bias= 0.92 ,w1: 3.02 ) --->mse= 0.00182  | update: dbias= -0.04 , dw1= 0.01\n",
      "iteration  270 : (bias= 0.92 ,w1: 3.02 ) --->mse= 0.0018  | update: dbias= -0.04 , dw1= 0.01\n",
      "iteration  271 : (bias= 0.92 ,w1: 3.02 ) --->mse= 0.00178  | update: dbias= -0.04 , dw1= 0.01\n",
      "iteration  272 : (bias= 0.92 ,w1: 3.02 ) --->mse= 0.00177  | update: dbias= -0.04 , dw1= 0.01\n",
      "iteration  273 : (bias= 0.92 ,w1: 3.02 ) --->mse= 0.00175  | update: dbias= -0.04 , dw1= 0.01\n",
      "iteration  274 : (bias= 0.92 ,w1: 3.02 ) --->mse= 0.00173  | update: dbias= -0.04 , dw1= 0.01\n",
      "iteration  275 : (bias= 0.92 ,w1: 3.02 ) --->mse= 0.00171  | update: dbias= -0.04 , dw1= 0.01\n",
      "iteration  276 : (bias= 0.92 ,w1: 3.02 ) --->mse= 0.00169  | update: dbias= -0.04 , dw1= 0.01\n",
      "iteration  277 : (bias= 0.92 ,w1: 3.02 ) --->mse= 0.00168  | update: dbias= -0.04 , dw1= 0.01\n",
      "iteration  278 : (bias= 0.92 ,w1: 3.02 ) --->mse= 0.00166  | update: dbias= -0.04 , dw1= 0.01\n",
      "iteration  279 : (bias= 0.92 ,w1: 3.02 ) --->mse= 0.00164  | update: dbias= -0.04 , dw1= 0.01\n",
      "iteration  280 : (bias= 0.92 ,w1: 3.02 ) --->mse= 0.00163  | update: dbias= -0.04 , dw1= 0.01\n",
      "iteration  281 : (bias= 0.92 ,w1: 3.02 ) --->mse= 0.00161  | update: dbias= -0.04 , dw1= 0.01\n",
      "iteration  282 : (bias= 0.92 ,w1: 3.02 ) --->mse= 0.00159  | update: dbias= -0.04 , dw1= 0.01\n",
      "iteration  283 : (bias= 0.92 ,w1: 3.02 ) --->mse= 0.00158  | update: dbias= -0.04 , dw1= 0.01\n",
      "iteration  284 : (bias= 0.92 ,w1: 3.02 ) --->mse= 0.00156  | update: dbias= -0.04 , dw1= 0.01\n",
      "iteration  285 : (bias= 0.92 ,w1: 3.02 ) --->mse= 0.00154  | update: dbias= -0.04 , dw1= 0.01\n",
      "iteration  286 : (bias= 0.92 ,w1: 3.02 ) --->mse= 0.00153  | update: dbias= -0.04 , dw1= 0.01\n",
      "iteration  287 : (bias= 0.92 ,w1: 3.02 ) --->mse= 0.00151  | update: dbias= -0.04 , dw1= 0.01\n",
      "iteration  288 : (bias= 0.93 ,w1: 3.02 ) --->mse= 0.0015  | update: dbias= -0.04 , dw1= 0.01\n",
      "iteration  289 : (bias= 0.93 ,w1: 3.02 ) --->mse= 0.00148  | update: dbias= -0.04 , dw1= 0.01\n",
      "iteration  290 : (bias= 0.93 ,w1: 3.02 ) --->mse= 0.00147  | update: dbias= -0.04 , dw1= 0.01\n",
      "iteration  291 : (bias= 0.93 ,w1: 3.02 ) --->mse= 0.00145  | update: dbias= -0.04 , dw1= 0.01\n",
      "iteration  292 : (bias= 0.93 ,w1: 3.02 ) --->mse= 0.00144  | update: dbias= -0.04 , dw1= 0.01\n",
      "iteration  293 : (bias= 0.93 ,w1: 3.02 ) --->mse= 0.00142  | update: dbias= -0.04 , dw1= 0.01\n",
      "iteration  294 : (bias= 0.93 ,w1: 3.02 ) --->mse= 0.00141  | update: dbias= -0.04 , dw1= 0.01\n",
      "iteration  295 : (bias= 0.93 ,w1: 3.02 ) --->mse= 0.00139  | update: dbias= -0.04 , dw1= 0.01\n",
      "iteration  296 : (bias= 0.93 ,w1: 3.02 ) --->mse= 0.00138  | update: dbias= -0.04 , dw1= 0.01\n",
      "iteration  297 : (bias= 0.93 ,w1: 3.02 ) --->mse= 0.00137  | update: dbias= -0.04 , dw1= 0.01\n",
      "iteration  298 : (bias= 0.93 ,w1: 3.02 ) --->mse= 0.00135  | update: dbias= -0.04 , dw1= 0.01\n",
      "iteration  299 : (bias= 0.93 ,w1: 3.02 ) --->mse= 0.00134  | update: dbias= -0.04 , dw1= 0.01\n",
      "iteration  300 : (bias= 0.93 ,w1: 3.02 ) --->mse= 0.00132  | update: dbias= -0.04 , dw1= 0.01\n",
      "iteration  301 : (bias= 0.93 ,w1: 3.02 ) --->mse= 0.00131  | update: dbias= -0.04 , dw1= 0.01\n",
      "iteration  302 : (bias= 0.93 ,w1: 3.02 ) --->mse= 0.0013  | update: dbias= -0.04 , dw1= 0.01\n",
      "iteration  303 : (bias= 0.93 ,w1: 3.02 ) --->mse= 0.00128  | update: dbias= -0.04 , dw1= 0.01\n",
      "iteration  304 : (bias= 0.93 ,w1: 3.02 ) --->mse= 0.00127  | update: dbias= -0.04 , dw1= 0.01\n",
      "iteration  305 : (bias= 0.93 ,w1: 3.01 ) --->mse= 0.00126  | update: dbias= -0.04 , dw1= 0.01\n",
      "iteration  306 : (bias= 0.93 ,w1: 3.01 ) --->mse= 0.00124  | update: dbias= -0.03 , dw1= 0.01\n",
      "iteration  307 : (bias= 0.93 ,w1: 3.01 ) --->mse= 0.00123  | update: dbias= -0.03 , dw1= 0.01\n",
      "iteration  308 : (bias= 0.93 ,w1: 3.01 ) --->mse= 0.00122  | update: dbias= -0.03 , dw1= 0.01\n",
      "iteration  309 : (bias= 0.93 ,w1: 3.01 ) --->mse= 0.00121  | update: dbias= -0.03 , dw1= 0.01\n",
      "iteration  310 : (bias= 0.93 ,w1: 3.01 ) --->mse= 0.00119  | update: dbias= -0.03 , dw1= 0.01\n",
      "iteration  311 : (bias= 0.93 ,w1: 3.01 ) --->mse= 0.00118  | update: dbias= -0.03 , dw1= 0.01\n",
      "iteration  312 : (bias= 0.93 ,w1: 3.01 ) --->mse= 0.00117  | update: dbias= -0.03 , dw1= 0.01\n",
      "iteration  313 : (bias= 0.93 ,w1: 3.01 ) --->mse= 0.00116  | update: dbias= -0.03 , dw1= 0.01\n",
      "iteration  314 : (bias= 0.93 ,w1: 3.01 ) --->mse= 0.00115  | update: dbias= -0.03 , dw1= 0.01\n",
      "iteration  315 : (bias= 0.93 ,w1: 3.01 ) --->mse= 0.00113  | update: dbias= -0.03 , dw1= 0.01\n",
      "iteration  316 : (bias= 0.94 ,w1: 3.01 ) --->mse= 0.00112  | update: dbias= -0.03 , dw1= 0.01\n",
      "iteration  317 : (bias= 0.94 ,w1: 3.01 ) --->mse= 0.00111  | update: dbias= -0.03 , dw1= 0.01\n",
      "iteration  318 : (bias= 0.94 ,w1: 3.01 ) --->mse= 0.0011  | update: dbias= -0.03 , dw1= 0.01\n",
      "iteration  319 : (bias= 0.94 ,w1: 3.01 ) --->mse= 0.00109  | update: dbias= -0.03 , dw1= 0.01\n",
      "iteration  320 : (bias= 0.94 ,w1: 3.01 ) --->mse= 0.00108  | update: dbias= -0.03 , dw1= 0.01\n",
      "iteration  321 : (bias= 0.94 ,w1: 3.01 ) --->mse= 0.00107  | update: dbias= -0.03 , dw1= 0.01\n",
      "iteration  322 : (bias= 0.94 ,w1: 3.01 ) --->mse= 0.00106  | update: dbias= -0.03 , dw1= 0.01\n",
      "iteration  323 : (bias= 0.94 ,w1: 3.01 ) --->mse= 0.00105  | update: dbias= -0.03 , dw1= 0.01\n",
      "iteration  324 : (bias= 0.94 ,w1: 3.01 ) --->mse= 0.00103  | update: dbias= -0.03 , dw1= 0.01\n",
      "iteration  325 : (bias= 0.94 ,w1: 3.01 ) --->mse= 0.00102  | update: dbias= -0.03 , dw1= 0.01\n",
      "iteration  326 : (bias= 0.94 ,w1: 3.01 ) --->mse= 0.00101  | update: dbias= -0.03 , dw1= 0.01\n",
      "iteration  327 : (bias= 0.94 ,w1: 3.01 ) --->mse= 0.001  | update: dbias= -0.03 , dw1= 0.01\n",
      "iteration  328 : (bias= 0.94 ,w1: 3.01 ) --->mse= 0.00099  | update: dbias= -0.03 , dw1= 0.01\n",
      "iteration  329 : (bias= 0.94 ,w1: 3.01 ) --->mse= 0.00098  | update: dbias= -0.03 , dw1= 0.01\n",
      "iteration  330 : (bias= 0.94 ,w1: 3.01 ) --->mse= 0.00097  | update: dbias= -0.03 , dw1= 0.01\n",
      "iteration  331 : (bias= 0.94 ,w1: 3.01 ) --->mse= 0.00096  | update: dbias= -0.03 , dw1= 0.01\n",
      "iteration  332 : (bias= 0.94 ,w1: 3.01 ) --->mse= 0.00095  | update: dbias= -0.03 , dw1= 0.01\n",
      "iteration  333 : (bias= 0.94 ,w1: 3.01 ) --->mse= 0.00094  | update: dbias= -0.03 , dw1= 0.01\n",
      "iteration  334 : (bias= 0.94 ,w1: 3.01 ) --->mse= 0.00093  | update: dbias= -0.03 , dw1= 0.01\n",
      "iteration  335 : (bias= 0.94 ,w1: 3.01 ) --->mse= 0.00092  | update: dbias= -0.03 , dw1= 0.01\n",
      "iteration  336 : (bias= 0.94 ,w1: 3.01 ) --->mse= 0.00091  | update: dbias= -0.03 , dw1= 0.01\n",
      "iteration  337 : (bias= 0.94 ,w1: 3.01 ) --->mse= 0.00091  | update: dbias= -0.03 , dw1= 0.01\n",
      "iteration  338 : (bias= 0.94 ,w1: 3.01 ) --->mse= 0.0009  | update: dbias= -0.03 , dw1= 0.01\n",
      "iteration  339 : (bias= 0.94 ,w1: 3.01 ) --->mse= 0.00089  | update: dbias= -0.03 , dw1= 0.01\n",
      "iteration  340 : (bias= 0.94 ,w1: 3.01 ) --->mse= 0.00088  | update: dbias= -0.03 , dw1= 0.01\n",
      "iteration  341 : (bias= 0.94 ,w1: 3.01 ) --->mse= 0.00087  | update: dbias= -0.03 , dw1= 0.01\n",
      "iteration  342 : (bias= 0.94 ,w1: 3.01 ) --->mse= 0.00086  | update: dbias= -0.03 , dw1= 0.01\n",
      "iteration  343 : (bias= 0.94 ,w1: 3.01 ) --->mse= 0.00085  | update: dbias= -0.03 , dw1= 0.01\n",
      "iteration  344 : (bias= 0.94 ,w1: 3.01 ) --->mse= 0.00084  | update: dbias= -0.03 , dw1= 0.01\n",
      "iteration  345 : (bias= 0.94 ,w1: 3.01 ) --->mse= 0.00083  | update: dbias= -0.03 , dw1= 0.01\n",
      "iteration  346 : (bias= 0.94 ,w1: 3.01 ) --->mse= 0.00083  | update: dbias= -0.03 , dw1= 0.01\n",
      "iteration  347 : (bias= 0.94 ,w1: 3.01 ) --->mse= 0.00082  | update: dbias= -0.03 , dw1= 0.01\n",
      "iteration  348 : (bias= 0.95 ,w1: 3.01 ) --->mse= 0.00081  | update: dbias= -0.03 , dw1= 0.01\n",
      "iteration  349 : (bias= 0.95 ,w1: 3.01 ) --->mse= 0.0008  | update: dbias= -0.03 , dw1= 0.01\n",
      "iteration  350 : (bias= 0.95 ,w1: 3.01 ) --->mse= 0.00079  | update: dbias= -0.03 , dw1= 0.01\n",
      "iteration  351 : (bias= 0.95 ,w1: 3.01 ) --->mse= 0.00078  | update: dbias= -0.03 , dw1= 0.01\n",
      "iteration  352 : (bias= 0.95 ,w1: 3.01 ) --->mse= 0.00078  | update: dbias= -0.03 , dw1= 0.01\n",
      "iteration  353 : (bias= 0.95 ,w1: 3.01 ) --->mse= 0.00077  | update: dbias= -0.03 , dw1= 0.01\n",
      "iteration  354 : (bias= 0.95 ,w1: 3.01 ) --->mse= 0.00076  | update: dbias= -0.03 , dw1= 0.01\n",
      "iteration  355 : (bias= 0.95 ,w1: 3.01 ) --->mse= 0.00075  | update: dbias= -0.03 , dw1= 0.01\n",
      "iteration  356 : (bias= 0.95 ,w1: 3.01 ) --->mse= 0.00074  | update: dbias= -0.03 , dw1= 0.01\n",
      "iteration  357 : (bias= 0.95 ,w1: 3.01 ) --->mse= 0.00074  | update: dbias= -0.03 , dw1= 0.01\n",
      "iteration  358 : (bias= 0.95 ,w1: 3.01 ) --->mse= 0.00073  | update: dbias= -0.03 , dw1= 0.01\n",
      "iteration  359 : (bias= 0.95 ,w1: 3.01 ) --->mse= 0.00072  | update: dbias= -0.03 , dw1= 0.01\n",
      "iteration  360 : (bias= 0.95 ,w1: 3.01 ) --->mse= 0.00071  | update: dbias= -0.03 , dw1= 0.01\n",
      "iteration  361 : (bias= 0.95 ,w1: 3.01 ) --->mse= 0.00071  | update: dbias= -0.03 , dw1= 0.01\n",
      "iteration  362 : (bias= 0.95 ,w1: 3.01 ) --->mse= 0.0007  | update: dbias= -0.03 , dw1= 0.01\n",
      "iteration  363 : (bias= 0.95 ,w1: 3.01 ) --->mse= 0.00069  | update: dbias= -0.03 , dw1= 0.01\n",
      "iteration  364 : (bias= 0.95 ,w1: 3.01 ) --->mse= 0.00069  | update: dbias= -0.03 , dw1= 0.01\n",
      "iteration  365 : (bias= 0.95 ,w1: 3.01 ) --->mse= 0.00068  | update: dbias= -0.03 , dw1= 0.01\n",
      "iteration  366 : (bias= 0.95 ,w1: 3.01 ) --->mse= 0.00067  | update: dbias= -0.03 , dw1= 0.01\n",
      "iteration  367 : (bias= 0.95 ,w1: 3.01 ) --->mse= 0.00067  | update: dbias= -0.03 , dw1= 0.01\n",
      "iteration  368 : (bias= 0.95 ,w1: 3.01 ) --->mse= 0.00066  | update: dbias= -0.03 , dw1= 0.01\n",
      "iteration  369 : (bias= 0.95 ,w1: 3.01 ) --->mse= 0.00065  | update: dbias= -0.03 , dw1= 0.01\n",
      "iteration  370 : (bias= 0.95 ,w1: 3.01 ) --->mse= 0.00064  | update: dbias= -0.03 , dw1= 0.01\n",
      "iteration  371 : (bias= 0.95 ,w1: 3.01 ) --->mse= 0.00064  | update: dbias= -0.02 , dw1= 0.01\n",
      "iteration  372 : (bias= 0.95 ,w1: 3.01 ) --->mse= 0.00063  | update: dbias= -0.02 , dw1= 0.01\n",
      "iteration  373 : (bias= 0.95 ,w1: 3.01 ) --->mse= 0.00063  | update: dbias= -0.02 , dw1= 0.01\n",
      "iteration  374 : (bias= 0.95 ,w1: 3.01 ) --->mse= 0.00062  | update: dbias= -0.02 , dw1= 0.01\n",
      "iteration  375 : (bias= 0.95 ,w1: 3.01 ) --->mse= 0.00061  | update: dbias= -0.02 , dw1= 0.01\n",
      "iteration  376 : (bias= 0.95 ,w1: 3.01 ) --->mse= 0.00061  | update: dbias= -0.02 , dw1= 0.01\n",
      "iteration  377 : (bias= 0.95 ,w1: 3.01 ) --->mse= 0.0006  | update: dbias= -0.02 , dw1= 0.01\n",
      "iteration  378 : (bias= 0.95 ,w1: 3.01 ) --->mse= 0.00059  | update: dbias= -0.02 , dw1= 0.01\n",
      "iteration  379 : (bias= 0.95 ,w1: 3.01 ) --->mse= 0.00059  | update: dbias= -0.02 , dw1= 0.01\n",
      "iteration  380 : (bias= 0.95 ,w1: 3.01 ) --->mse= 0.00058  | update: dbias= -0.02 , dw1= 0.01\n",
      "iteration  381 : (bias= 0.95 ,w1: 3.01 ) --->mse= 0.00058  | update: dbias= -0.02 , dw1= 0.01\n",
      "iteration  382 : (bias= 0.95 ,w1: 3.01 ) --->mse= 0.00057  | update: dbias= -0.02 , dw1= 0.01\n",
      "iteration  383 : (bias= 0.95 ,w1: 3.01 ) --->mse= 0.00056  | update: dbias= -0.02 , dw1= 0.01\n",
      "iteration  384 : (bias= 0.95 ,w1: 3.01 ) --->mse= 0.00056  | update: dbias= -0.02 , dw1= 0.01\n",
      "iteration  385 : (bias= 0.95 ,w1: 3.01 ) --->mse= 0.00055  | update: dbias= -0.02 , dw1= 0.01\n",
      "iteration  386 : (bias= 0.95 ,w1: 3.01 ) --->mse= 0.00055  | update: dbias= -0.02 , dw1= 0.01\n",
      "iteration  387 : (bias= 0.96 ,w1: 3.01 ) --->mse= 0.00054  | update: dbias= -0.02 , dw1= 0.01\n",
      "iteration  388 : (bias= 0.96 ,w1: 3.01 ) --->mse= 0.00054  | update: dbias= -0.02 , dw1= 0.01\n",
      "iteration  389 : (bias= 0.96 ,w1: 3.01 ) --->mse= 0.00053  | update: dbias= -0.02 , dw1= 0.0\n",
      "iteration  390 : (bias= 0.96 ,w1: 3.01 ) --->mse= 0.00053  | update: dbias= -0.02 , dw1= 0.0\n",
      "iteration  391 : (bias= 0.96 ,w1: 3.01 ) --->mse= 0.00052  | update: dbias= -0.02 , dw1= 0.0\n",
      "iteration  392 : (bias= 0.96 ,w1: 3.01 ) --->mse= 0.00051  | update: dbias= -0.02 , dw1= 0.0\n",
      "iteration  393 : (bias= 0.96 ,w1: 3.01 ) --->mse= 0.00051  | update: dbias= -0.02 , dw1= 0.0\n",
      "iteration  394 : (bias= 0.96 ,w1: 3.01 ) --->mse= 0.0005  | update: dbias= -0.02 , dw1= 0.0\n",
      "iteration  395 : (bias= 0.96 ,w1: 3.01 ) --->mse= 0.0005  | update: dbias= -0.02 , dw1= 0.0\n",
      "iteration  396 : (bias= 0.96 ,w1: 3.01 ) --->mse= 0.00049  | update: dbias= -0.02 , dw1= 0.0\n",
      "iteration  397 : (bias= 0.96 ,w1: 3.01 ) --->mse= 0.00049  | update: dbias= -0.02 , dw1= 0.0\n",
      "iteration  398 : (bias= 0.96 ,w1: 3.01 ) --->mse= 0.00048  | update: dbias= -0.02 , dw1= 0.0\n",
      "iteration  399 : (bias= 0.96 ,w1: 3.01 ) --->mse= 0.00048  | update: dbias= -0.02 , dw1= 0.0\n",
      "iteration  400 : (bias= 0.96 ,w1: 3.01 ) --->mse= 0.00047  | update: dbias= -0.02 , dw1= 0.0\n",
      "iteration  401 : (bias= 0.96 ,w1: 3.01 ) --->mse= 0.00047  | update: dbias= -0.02 , dw1= 0.0\n",
      "iteration  402 : (bias= 0.96 ,w1: 3.01 ) --->mse= 0.00046  | update: dbias= -0.02 , dw1= 0.0\n",
      "iteration  403 : (bias= 0.96 ,w1: 3.01 ) --->mse= 0.00046  | update: dbias= -0.02 , dw1= 0.0\n",
      "iteration  404 : (bias= 0.96 ,w1: 3.01 ) --->mse= 0.00045  | update: dbias= -0.02 , dw1= 0.0\n",
      "iteration  405 : (bias= 0.96 ,w1: 3.01 ) --->mse= 0.00045  | update: dbias= -0.02 , dw1= 0.0\n",
      "iteration  406 : (bias= 0.96 ,w1: 3.01 ) --->mse= 0.00045  | update: dbias= -0.02 , dw1= 0.0\n",
      "iteration  407 : (bias= 0.96 ,w1: 3.01 ) --->mse= 0.00044  | update: dbias= -0.02 , dw1= 0.0\n",
      "iteration  408 : (bias= 0.96 ,w1: 3.01 ) --->mse= 0.00044  | update: dbias= -0.02 , dw1= 0.0\n",
      "iteration  409 : (bias= 0.96 ,w1: 3.01 ) --->mse= 0.00043  | update: dbias= -0.02 , dw1= 0.0\n",
      "iteration  410 : (bias= 0.96 ,w1: 3.01 ) --->mse= 0.00043  | update: dbias= -0.02 , dw1= 0.0\n",
      "iteration  411 : (bias= 0.96 ,w1: 3.01 ) --->mse= 0.00042  | update: dbias= -0.02 , dw1= 0.0\n",
      "iteration  412 : (bias= 0.96 ,w1: 3.01 ) --->mse= 0.00042  | update: dbias= -0.02 , dw1= 0.0\n",
      "iteration  413 : (bias= 0.96 ,w1: 3.01 ) --->mse= 0.00041  | update: dbias= -0.02 , dw1= 0.0\n",
      "iteration  414 : (bias= 0.96 ,w1: 3.01 ) --->mse= 0.00041  | update: dbias= -0.02 , dw1= 0.0\n",
      "iteration  415 : (bias= 0.96 ,w1: 3.01 ) --->mse= 0.00041  | update: dbias= -0.02 , dw1= 0.0\n",
      "iteration  416 : (bias= 0.96 ,w1: 3.01 ) --->mse= 0.0004  | update: dbias= -0.02 , dw1= 0.0\n",
      "iteration  417 : (bias= 0.96 ,w1: 3.01 ) --->mse= 0.0004  | update: dbias= -0.02 , dw1= 0.0\n",
      "iteration  418 : (bias= 0.96 ,w1: 3.01 ) --->mse= 0.00039  | update: dbias= -0.02 , dw1= 0.0\n",
      "iteration  419 : (bias= 0.96 ,w1: 3.01 ) --->mse= 0.00039  | update: dbias= -0.02 , dw1= 0.0\n",
      "iteration  420 : (bias= 0.96 ,w1: 3.01 ) --->mse= 0.00039  | update: dbias= -0.02 , dw1= 0.0\n",
      "iteration  421 : (bias= 0.96 ,w1: 3.01 ) --->mse= 0.00038  | update: dbias= -0.02 , dw1= 0.0\n",
      "iteration  422 : (bias= 0.96 ,w1: 3.01 ) --->mse= 0.00038  | update: dbias= -0.02 , dw1= 0.0\n",
      "iteration  423 : (bias= 0.96 ,w1: 3.01 ) --->mse= 0.00037  | update: dbias= -0.02 , dw1= 0.0\n",
      "iteration  424 : (bias= 0.96 ,w1: 3.01 ) --->mse= 0.00037  | update: dbias= -0.02 , dw1= 0.0\n",
      "iteration  425 : (bias= 0.96 ,w1: 3.01 ) --->mse= 0.00037  | update: dbias= -0.02 , dw1= 0.0\n",
      "iteration  426 : (bias= 0.96 ,w1: 3.01 ) --->mse= 0.00036  | update: dbias= -0.02 , dw1= 0.0\n",
      "iteration  427 : (bias= 0.96 ,w1: 3.01 ) --->mse= 0.00036  | update: dbias= -0.02 , dw1= 0.0\n",
      "iteration  428 : (bias= 0.96 ,w1: 3.01 ) --->mse= 0.00036  | update: dbias= -0.02 , dw1= 0.0\n",
      "iteration  429 : (bias= 0.96 ,w1: 3.01 ) --->mse= 0.00035  | update: dbias= -0.02 , dw1= 0.0\n",
      "iteration  430 : (bias= 0.96 ,w1: 3.01 ) --->mse= 0.00035  | update: dbias= -0.02 , dw1= 0.0\n",
      "iteration  431 : (bias= 0.96 ,w1: 3.01 ) --->mse= 0.00034  | update: dbias= -0.02 , dw1= 0.0\n",
      "iteration  432 : (bias= 0.96 ,w1: 3.01 ) --->mse= 0.00034  | update: dbias= -0.02 , dw1= 0.0\n",
      "iteration  433 : (bias= 0.96 ,w1: 3.01 ) --->mse= 0.00034  | update: dbias= -0.02 , dw1= 0.0\n",
      "iteration  434 : (bias= 0.96 ,w1: 3.01 ) --->mse= 0.00033  | update: dbias= -0.02 , dw1= 0.0\n",
      "iteration  435 : (bias= 0.96 ,w1: 3.01 ) --->mse= 0.00033  | update: dbias= -0.02 , dw1= 0.0\n",
      "iteration  436 : (bias= 0.97 ,w1: 3.01 ) --->mse= 0.00033  | update: dbias= -0.02 , dw1= 0.0\n",
      "iteration  437 : (bias= 0.97 ,w1: 3.01 ) --->mse= 0.00032  | update: dbias= -0.02 , dw1= 0.0\n",
      "iteration  438 : (bias= 0.97 ,w1: 3.01 ) --->mse= 0.00032  | update: dbias= -0.02 , dw1= 0.0\n",
      "iteration  439 : (bias= 0.97 ,w1: 3.01 ) --->mse= 0.00032  | update: dbias= -0.02 , dw1= 0.0\n",
      "iteration  440 : (bias= 0.97 ,w1: 3.01 ) --->mse= 0.00031  | update: dbias= -0.02 , dw1= 0.0\n",
      "iteration  441 : (bias= 0.97 ,w1: 3.01 ) --->mse= 0.00031  | update: dbias= -0.02 , dw1= 0.0\n",
      "iteration  442 : (bias= 0.97 ,w1: 3.01 ) --->mse= 0.00031  | update: dbias= -0.02 , dw1= 0.0\n",
      "iteration  443 : (bias= 0.97 ,w1: 3.01 ) --->mse= 0.0003  | update: dbias= -0.02 , dw1= 0.0\n",
      "iteration  444 : (bias= 0.97 ,w1: 3.01 ) --->mse= 0.0003  | update: dbias= -0.02 , dw1= 0.0\n",
      "iteration  445 : (bias= 0.97 ,w1: 3.01 ) --->mse= 0.0003  | update: dbias= -0.02 , dw1= 0.0\n",
      "iteration  446 : (bias= 0.97 ,w1: 3.01 ) --->mse= 0.0003  | update: dbias= -0.02 , dw1= 0.0\n",
      "iteration  447 : (bias= 0.97 ,w1: 3.01 ) --->mse= 0.00029  | update: dbias= -0.02 , dw1= 0.0\n",
      "iteration  448 : (bias= 0.97 ,w1: 3.01 ) --->mse= 0.00029  | update: dbias= -0.02 , dw1= 0.0\n",
      "iteration  449 : (bias= 0.97 ,w1: 3.01 ) --->mse= 0.00029  | update: dbias= -0.02 , dw1= 0.0\n",
      "iteration  450 : (bias= 0.97 ,w1: 3.01 ) --->mse= 0.00028  | update: dbias= -0.02 , dw1= 0.0\n",
      "iteration  451 : (bias= 0.97 ,w1: 3.01 ) --->mse= 0.00028  | update: dbias= -0.02 , dw1= 0.0\n",
      "iteration  452 : (bias= 0.97 ,w1: 3.01 ) --->mse= 0.00028  | update: dbias= -0.02 , dw1= 0.0\n",
      "iteration  453 : (bias= 0.97 ,w1: 3.01 ) --->mse= 0.00027  | update: dbias= -0.02 , dw1= 0.0\n",
      "iteration  454 : (bias= 0.97 ,w1: 3.01 ) --->mse= 0.00027  | update: dbias= -0.02 , dw1= 0.0\n",
      "iteration  455 : (bias= 0.97 ,w1: 3.01 ) --->mse= 0.00027  | update: dbias= -0.02 , dw1= 0.0\n",
      "iteration  456 : (bias= 0.97 ,w1: 3.01 ) --->mse= 0.00027  | update: dbias= -0.02 , dw1= 0.0\n",
      "iteration  457 : (bias= 0.97 ,w1: 3.01 ) --->mse= 0.00026  | update: dbias= -0.02 , dw1= 0.0\n",
      "iteration  458 : (bias= 0.97 ,w1: 3.01 ) --->mse= 0.00026  | update: dbias= -0.02 , dw1= 0.0\n",
      "iteration  459 : (bias= 0.97 ,w1: 3.01 ) --->mse= 0.00026  | update: dbias= -0.02 , dw1= 0.0\n",
      "iteration  460 : (bias= 0.97 ,w1: 3.01 ) --->mse= 0.00026  | update: dbias= -0.02 , dw1= 0.0\n",
      "iteration  461 : (bias= 0.97 ,w1: 3.01 ) --->mse= 0.00025  | update: dbias= -0.02 , dw1= 0.0\n",
      "iteration  462 : (bias= 0.97 ,w1: 3.01 ) --->mse= 0.00025  | update: dbias= -0.02 , dw1= 0.0\n",
      "iteration  463 : (bias= 0.97 ,w1: 3.01 ) --->mse= 0.00025  | update: dbias= -0.02 , dw1= 0.0\n",
      "iteration  464 : (bias= 0.97 ,w1: 3.01 ) --->mse= 0.00025  | update: dbias= -0.02 , dw1= 0.0\n",
      "iteration  465 : (bias= 0.97 ,w1: 3.01 ) --->mse= 0.00024  | update: dbias= -0.02 , dw1= 0.0\n",
      "iteration  466 : (bias= 0.97 ,w1: 3.01 ) --->mse= 0.00024  | update: dbias= -0.02 , dw1= 0.0\n",
      "iteration  467 : (bias= 0.97 ,w1: 3.01 ) --->mse= 0.00024  | update: dbias= -0.02 , dw1= 0.0\n",
      "iteration  468 : (bias= 0.97 ,w1: 3.01 ) --->mse= 0.00024  | update: dbias= -0.02 , dw1= 0.0\n",
      "iteration  469 : (bias= 0.97 ,w1: 3.01 ) --->mse= 0.00023  | update: dbias= -0.02 , dw1= 0.0\n",
      "iteration  470 : (bias= 0.97 ,w1: 3.01 ) --->mse= 0.00023  | update: dbias= -0.02 , dw1= 0.0\n",
      "iteration  471 : (bias= 0.97 ,w1: 3.01 ) --->mse= 0.00023  | update: dbias= -0.01 , dw1= 0.0\n",
      "iteration  472 : (bias= 0.97 ,w1: 3.01 ) --->mse= 0.00023  | update: dbias= -0.01 , dw1= 0.0\n",
      "iteration  473 : (bias= 0.97 ,w1: 3.01 ) --->mse= 0.00022  | update: dbias= -0.01 , dw1= 0.0\n",
      "iteration  474 : (bias= 0.97 ,w1: 3.01 ) --->mse= 0.00022  | update: dbias= -0.01 , dw1= 0.0\n",
      "iteration  475 : (bias= 0.97 ,w1: 3.01 ) --->mse= 0.00022  | update: dbias= -0.01 , dw1= 0.0\n",
      "iteration  476 : (bias= 0.97 ,w1: 3.01 ) --->mse= 0.00022  | update: dbias= -0.01 , dw1= 0.0\n",
      "iteration  477 : (bias= 0.97 ,w1: 3.01 ) --->mse= 0.00021  | update: dbias= -0.01 , dw1= 0.0\n",
      "iteration  478 : (bias= 0.97 ,w1: 3.01 ) --->mse= 0.00021  | update: dbias= -0.01 , dw1= 0.0\n",
      "iteration  479 : (bias= 0.97 ,w1: 3.01 ) --->mse= 0.00021  | update: dbias= -0.01 , dw1= 0.0\n",
      "iteration  480 : (bias= 0.97 ,w1: 3.01 ) --->mse= 0.00021  | update: dbias= -0.01 , dw1= 0.0\n",
      "iteration  481 : (bias= 0.97 ,w1: 3.01 ) --->mse= 0.00021  | update: dbias= -0.01 , dw1= 0.0\n",
      "iteration  482 : (bias= 0.97 ,w1: 3.01 ) --->mse= 0.0002  | update: dbias= -0.01 , dw1= 0.0\n",
      "iteration  483 : (bias= 0.97 ,w1: 3.01 ) --->mse= 0.0002  | update: dbias= -0.01 , dw1= 0.0\n",
      "iteration  484 : (bias= 0.97 ,w1: 3.01 ) --->mse= 0.0002  | update: dbias= -0.01 , dw1= 0.0\n",
      "iteration  485 : (bias= 0.97 ,w1: 3.01 ) --->mse= 0.0002  | update: dbias= -0.01 , dw1= 0.0\n",
      "iteration  486 : (bias= 0.97 ,w1: 3.01 ) --->mse= 0.0002  | update: dbias= -0.01 , dw1= 0.0\n",
      "iteration  487 : (bias= 0.97 ,w1: 3.01 ) --->mse= 0.00019  | update: dbias= -0.01 , dw1= 0.0\n",
      "iteration  488 : (bias= 0.97 ,w1: 3.01 ) --->mse= 0.00019  | update: dbias= -0.01 , dw1= 0.0\n",
      "iteration  489 : (bias= 0.97 ,w1: 3.01 ) --->mse= 0.00019  | update: dbias= -0.01 , dw1= 0.0\n",
      "iteration  490 : (bias= 0.97 ,w1: 3.01 ) --->mse= 0.00019  | update: dbias= -0.01 , dw1= 0.0\n",
      "iteration  491 : (bias= 0.97 ,w1: 3.01 ) --->mse= 0.00019  | update: dbias= -0.01 , dw1= 0.0\n",
      "iteration  492 : (bias= 0.97 ,w1: 3.01 ) --->mse= 0.00018  | update: dbias= -0.01 , dw1= 0.0\n",
      "iteration  493 : (bias= 0.97 ,w1: 3.01 ) --->mse= 0.00018  | update: dbias= -0.01 , dw1= 0.0\n",
      "iteration  494 : (bias= 0.97 ,w1: 3.01 ) --->mse= 0.00018  | update: dbias= -0.01 , dw1= 0.0\n",
      "iteration  495 : (bias= 0.97 ,w1: 3.01 ) --->mse= 0.00018  | update: dbias= -0.01 , dw1= 0.0\n",
      "iteration  496 : (bias= 0.97 ,w1: 3.01 ) --->mse= 0.00018  | update: dbias= -0.01 , dw1= 0.0\n",
      "iteration  497 : (bias= 0.97 ,w1: 3.01 ) --->mse= 0.00017  | update: dbias= -0.01 , dw1= 0.0\n",
      "iteration  498 : (bias= 0.97 ,w1: 3.01 ) --->mse= 0.00017  | update: dbias= -0.01 , dw1= 0.0\n",
      "iteration  499 : (bias= 0.97 ,w1: 3.01 ) --->mse= 0.00017  | update: dbias= -0.01 , dw1= 0.0\n"
     ]
    },
    {
     "data": {
      "image/png": "[encoded data removed]",
      "text/plain": [
       "<Figure size 1000x300 with 2 Axes>"
      ]
     },
     "metadata": {},
     "output_type": "display_data"
    }
   ],
   "source": [
    "def train2(X,y):\n",
    "    #hyperparameters initialisation: tuning parameters\n",
    "    learning_rate=0.01\n",
    "    epochs=500\n",
    "    #model parameters initialisation\n",
    "    w1=0 #w1 attendu c'est 3\n",
    "    bias=0 # attendu 1\n",
    "    #----------------------\n",
    "    n=len(X) #data size\n",
    "    global w1List\n",
    "    w1List=[] #list of w1: each iteration, we have a w1 value.\n",
    "    global mseList\n",
    "    mseList=[] # list of means squared errors: each iteration, we have a mse  \n",
    "\n",
    "    #training\n",
    "    for i in range(epochs):\n",
    "          #error calculation\n",
    "        yhat=bias+w1*X #prediction\n",
    "        error=y-yhat # Error\n",
    "        squared_error=error**2 #squared error\n",
    "        mse=(1/n)*sum(squared_error) #mean squared error\n",
    "        #print(\"(\",bias, \",\", w1, \") ----->\",mse)\n",
    "        mseList.append(mse)\n",
    "        w1List.append(w1)\n",
    "        dw1=(-2/n)*np.sum(X*(y-yhat)) # partial derivate of mse / w1////0.1\n",
    "        dbias=(-2/n)*np.sum((y-yhat)) #partial derivate of mse / w1\n",
    "        \n",
    "        print(\"iteration \",i,\": (bias=\",round(bias,2),\",w1:\",round(w1,2),\") --->mse=\",round(mse,5),\" | update: dbias=\",round(dbias,2),\", dw1=\",round(dw1,2))\n",
    "    \n",
    "        w1=w1-dw1*learning_rate # orientation (-) + pas d'apprentissage (l)\n",
    "        bias=bias-dbias*learning_rate\n",
    "        \n",
    "        \n",
    "    return bias,w1\n",
    "        \n",
    "\n",
    "#execution\n",
    "bias,w1=train2(X,y)\n",
    "tracer_graphes(w1List,mseList,[i for i in range(500)])"
   ]
  },
  {
   "cell_type": "code",
   "execution_count": 1112,
   "id": "e8282aed",
   "metadata": {},
   "outputs": [
    {
     "name": "stdout",
     "output_type": "stream",
     "text": [
      "mean squared error du modèle est: 0.00017\n"
     ]
    }
   ],
   "source": [
    "yhat=predict(X)\n",
    "print(\"mean squared error du modèle est:\",round(mse(y,yhat),5))"
   ]
  },
  {
   "cell_type": "markdown",
   "id": "561e33fd",
   "metadata": {},
   "source": [
    "<h3 style=\"color:Tomato;\">questions</h3>\n",
    "<p>\n",
    "    <span style=\"color:Tomato;\"><b> 1) </b></span>\n",
    "    <span  style=\"color:DodgerBlue;\">comment varie mse dans les 6 premières itérations? comment justifier ce résultat</span>\n",
    "</p>\n",
    "<p>\n",
    "    <span style=\"color:Tomato;\"><b> réponse </b></span>\n",
    "    <span  style=\"color:black;\">des les 6 premières itérations, mse diminue. <br>à l'itération 0, mse vaut 163.6 et à l'itération 6 vaut 1.34</span>\n",
    "</p>\n",
    "\n",
    "<p>\n",
    "    <span style=\"color:Tomato;\"><b> 2) </b></span>\n",
    "    <span  style=\"color:DodgerBlue;\">initiliaser w1 à la valeur 10, comment varie l'erreur? comment justifier ce résultat en se comparant à l'algorithm train1</span>\n",
    "</p>\n",
    "\n",
    "\n",
    "<p>\n",
    "    <span style=\"color:Tomato;\"><b> réponse </b></span>\n",
    "    <span  style=\"color:black;\">si on initialise w1 à 10(valeur supérieur à l'optimum w1=3), la valeur de w1 va diminuer continuellement vers la valeur 3 . <br>ce résultat est justifié par le fait que la dérivée partielle  dmse/dw1 permet de connaitre l'orientation de mise à jour au contraire du programme train1</span>\n",
    "</p>\n",
    "\n",
    "<p>\n",
    "    <span style=\"color:Tomato;\"><b> 3) </b></span>\n",
    "    <span  style=\"color:DodgerBlue;\">Augmenter le nombre d'epochs (500 par exemple), interpréter le résultat obtenu </span>\n",
    "</p>\n",
    "<p>\n",
    "    <span style=\"color:Tomato;\"><b> réponse </b></span>\n",
    "    <span  style=\"color:black;\">si on augmente le nombre d'itération à 500, la valeur de w1 va continuer à diminuer mais avec des valeurs très petites,<br> et ce est du à la dérivée qui devient tres faible une fois s'approcher du minimum d'une part, et d'autre à cause de learning_rate qui affaiblit davantage la valeur de mise à jour . <br></span>\n",
    "</p>\n",
    "\n",
    "<p>\n",
    "    <span style=\"color:Tomato;\"><b> 4) </b></span>\n",
    "    <span  style=\"color:DodgerBlue;\">justifier la valeur de mse  trouvé?</span>\n",
    "</p>\n",
    "\n",
    "<p>\n",
    "    <span style=\"color:Tomato;\"><b> réponse </b></span><br>\n",
    "    <span  style=\"color:black;\">pour le nombre d'epochs ègal à 10, le mse trouvé est 0.079.<br>\n",
    "        pour le nombre d'epochs ègal à 500, le mse trouvé est 0.00017.\n",
    "        <br>ce résultat est obtenu grâce aux paramètres trouvés par le programme train2. \n",
    "        <br>\n",
    "    le règlage utilisé (combinaison de epochs et de learning_rate) a permis de touver un modèle qui donne une bonne performance \n",
    "    </span>\n",
    "</p>\n",
    "\n"
   ]
  },
  {
   "cell_type": "markdown",
   "id": "00acda32",
   "metadata": {},
   "source": [
    "<p>\n",
    "    <span style=\"color:Tomato;\"><b> modification de learning_rate </b></span>\n",
    "    <span  style=\"color:DodgerBlue;\">dans cette version de train2, learning_rate=0.1 au lieu de 0.01 </span>\n",
    "</p>\n"
   ]
  },
  {
   "cell_type": "code",
   "execution_count": 1113,
   "id": "f7aa0f17",
   "metadata": {},
   "outputs": [
    {
     "name": "stdout",
     "output_type": "stream",
     "text": [
      "iteration  0 : (bias= 0 ,w1: 0 ) --->mse= 163.6  | update: dbias= -22.4 , dw1= -101.6\n",
      "iteration  1 : (bias= 2.24 ,w1: 10.16 ) --->mse= 871.9072  | update: dbias= 51.17 , dw1= 234.69\n",
      "iteration  2 : (bias= -2.88 ,w1: -13.31 ) --->mse= 4647.40201  | update: dbias= -118.65 , dw1= -541.72\n",
      "iteration  3 : (bias= 8.99 ,w1: 40.86 ) --->mse= 24771.89161  | update: dbias= 273.45 , dw1= 1250.8\n",
      "iteration  4 : (bias= -18.36 ,w1: -84.22 ) --->mse= 132041.24575  | update: dbias= -631.79 , dw1= -2887.67\n",
      "iteration  5 : (bias= 44.82 ,w1: 204.55 ) --->mse= 703817.90384  | update: dbias= 1458.19 , dw1= 6666.99\n",
      "iteration  6 : (bias= -101.0 ,w1: -462.15 ) --->mse= 3751552.69198  | update: dbias= -3367.0 , dw1= -15392.26\n",
      "iteration  7 : (bias= 235.7 ,w1: 1077.08 ) --->mse= 19996859.64191  | update: dbias= 7773.14 , dw1= 35536.84\n",
      "iteration  8 : (bias= -541.61 ,w1: -2476.61 ) --->mse= 106589039.12638  | update: dbias= -17946.54 , dw1= -82045.32\n",
      "iteration  9 : (bias= 1253.04 ,w1: 5727.92 ) --->mse= 568150373.14684  | update: dbias= 41433.58 , dw1= 189421.53\n"
     ]
    },
    {
     "data": {
      "image/png": "[encoded data removed]",
      "text/plain": [
       "<Figure size 1000x300 with 2 Axes>"
      ]
     },
     "metadata": {},
     "output_type": "display_data"
    }
   ],
   "source": [
    "def train2(X,y):\n",
    "    #hyperparameters initialisation: tuning parameters\n",
    "    learning_rate=0.1\n",
    "    epochs=10\n",
    "    #model parameters initialisation\n",
    "    w1=0 #w1 attendu c'est 3\n",
    "    bias=0 # attendu 1\n",
    "    #----------------------\n",
    "    n=len(X) #data size\n",
    "    global w1List\n",
    "    w1List=[] #list of w1: each iteration, we have a w1 value.\n",
    "    global mseList\n",
    "    mseList=[] # list of means squared errors: each iteration, we have a mse  \n",
    "\n",
    "    #training\n",
    "    for i in range(epochs):\n",
    "          #error calculation\n",
    "        yhat=bias+w1*X #prediction\n",
    "        error=y-yhat # Error\n",
    "        squared_error=error**2 #squared error\n",
    "        mse=(1/n)*sum(squared_error) #mean squared error\n",
    "        #print(\"(\",bias, \",\", w1, \") ----->\",mse)\n",
    "        mseList.append(mse)\n",
    "        w1List.append(w1)\n",
    "        dw1=(-2/n)*np.sum(X*(y-yhat)) # partial derivate of mse / w1////0.1\n",
    "        dbias=(-2/n)*np.sum((y-yhat)) #partial derivate of mse / w1\n",
    "        print(\"iteration \",i,\": (bias=\",round(bias,2),\",w1:\",round(w1,2),\") --->mse=\",round(mse,5),\" | update: dbias=\",round(dbias,2),\", dw1=\",round(dw1,2))\n",
    "    \n",
    "        w1=w1-dw1*learning_rate # orientation (-) + pas d'apprentissage (l)\n",
    "        bias=bias-dbias*learning_rate\n",
    "    return bias,w1\n",
    "        \n",
    "#execution\n",
    "bias,w1=train2(X,y)\n",
    "tracer_graphes(w1List,mseList,[i for i in range(10)])\n",
    "    "
   ]
  },
  {
   "cell_type": "markdown",
   "id": "ec5166e0",
   "metadata": {},
   "source": [
    "<h4 style=\"color:Tomato;\">Step 2: Model Prediction</h4>"
   ]
  },
  {
   "cell_type": "code",
   "execution_count": 1114,
   "id": "50ab5d58",
   "metadata": {},
   "outputs": [],
   "source": [
    "def predict(x1):\n",
    "    return bias+w1*x1"
   ]
  },
  {
   "cell_type": "markdown",
   "id": "55ee2f86",
   "metadata": {},
   "source": [
    "<h4 style=\"color:Tomato;\">Step 3: Model Evaluation</h4>\n",
    "<p>vu que le dataset est tres petit, nous allons utiliser le dataset de training (X) pour évaluer le modèle (bad practice)\n",
    "<br>pour le deuxième dataset (nuage de points: 100), nous allons utiliser une partie d'entrainement (70%) pour entrainer le modèle  et une partie pour de test (30%) pour évaluer le modèle</p>"
   ]
  },
  {
   "cell_type": "code",
   "execution_count": 1115,
   "id": "04da4adc",
   "metadata": {
    "scrolled": false
   },
   "outputs": [
    {
     "name": "stdout",
     "output_type": "stream",
     "text": [
      "mean squared error ddu modèle est: 3028405633.249\n"
     ]
    }
   ],
   "source": [
    "yhat=predict(X)\n",
    "print(\"mean squared error ddu modèle est:\",round(mse(y,yhat),3))"
   ]
  },
  {
   "cell_type": "markdown",
   "id": "59d369d1",
   "metadata": {},
   "source": [
    "\n"
   ]
  },
  {
   "cell_type": "markdown",
   "id": "5bd8ba58",
   "metadata": {},
   "source": [
    "<h3 style=\"color:Tomato;\">questions</h3>\n",
    "<p>\n",
    "    <span style=\"color:Tomato;\"><b> 1) </b></span>\n",
    "    <span  style=\"color:DodgerBlue;\">comment varie mse dans les 6 premières itérations? comment justifier ce résultat</span>\n",
    "</p>\n",
    "<p>\n",
    "    <span style=\"color:Tomato;\"><b> 2) </b></span>\n",
    "    <span  style=\"color:DodgerBlue;\">qu'est ce qui se passe si on augmente le nombre d'itération(500)?. Expliquer le résultat obtenu</span>\n",
    "</p>\n",
    "\n",
    "\n",
    "\n"
   ]
  },
  {
   "cell_type": "markdown",
   "id": "708b57a7",
   "metadata": {},
   "source": [
    "<h3 style=\"color:Tomato;\">Réponses</h3>\n",
    "<p>\n",
    "    <span style=\"color:Tomato;\"><b> 1) </b></span>\n",
    "    <span  style=\"color:DodgerBlue;\">comment varie mse dans les 6 premières itérations? comment justifier ce résultat</span>\n",
    "</p>\n",
    "<p>\n",
    "    <span style=\"color:Tomato;\"><b> Réponse </b><br></span>\n",
    "    <span  style=\"color:black;\">dans les six premières itérations, <br> dans la première itération mse est 163.6 et dans l'itération 6 mse est: 3751552.69198. <br> on constate que mse augmente continuellement avec de très grand pas <br> en 6 itérations seulement, la valeur de mse est dèjà très grande<br> ce résultat est à cause d'une mauvaise mise à jour de w1<br>\n",
    "    <br>selon les résultats imprimés et le graphe, w1 oscille autour du minimu, mais avec des pas très grandes. et à chaque itération le pas est plus grand que le pas précédent.\n",
    "        <br> dans le programme, la dérivée partielle permet de trouver la bonne orientation, cependant, le learning_rate utilisé n'assure pas un bon pas de mise à jour (la valeur utilisée est grande contrairement à la version précédente de train2).\n",
    "        <br>\n",
    "    </span>\n",
    "</p>\n",
    "\n",
    "<p>\n",
    "    <span style=\"color:Tomato;\"><b> 2) </b></span>\n",
    "    <span  style=\"color:DodgerBlue;\">qu'est ce qui se passe si on augmente le nombre d'itération(500)?. Expliquer le résultat obtenu</span>\n",
    "</p>\n",
    "\n",
    "<p>\n",
    "    <span style=\"color:Tomato;\"><b> réponse </b><br></span>\n",
    "    <span  style=\"color:black;\">si on augmente le nombre d'epochs à 500, les valeurs de mise à jours deviennent très grandes ce qui conduit à des valeurs exponentielles de mse</span>\n",
    "</p>\n",
    "\n",
    "\n",
    "\n"
   ]
  },
  {
   "cell_type": "markdown",
   "id": "c76dcc03",
   "metadata": {},
   "source": [
    "<h3 style=\"color:Tomato;\">Conclusion 1</h3>\n",
    "<p>\n",
    "<span  style=\"color:MediumSeaGreen;\"><b>dans la partie précédente et pour un dataset simple, nous avons vu de près les éléments suivants:</b><br>\n",
    "    </span>\n",
    "    <span  style=\"color:MediumSeaGreen;\">\n",
    "   <br>1- ce que c'est un modèle de régression linéaire\n",
    "   <br>2- ce que c'est un algorithme d'apprentissage\n",
    "   <br>3- ce que c'est le gradient descent\n",
    "   <br>4- le rôle des hyperparamètres: epochs et learning_rate\n",
    "    </span>\n",
    "</p>\n",
    "\n",
    "<p>\n",
    "<span  style=\"color:MediumSeaGreen;\"><b>dans la partie suivante, nous allons étudier un nuage de points</b>\n",
    "    </span>\n",
    "</p>"
   ]
  },
  {
   "cell_type": "code",
   "execution_count": null,
   "id": "adb96bc6",
   "metadata": {},
   "outputs": [],
   "source": []
  },
  {
   "cell_type": "markdown",
   "id": "da6fbb83",
   "metadata": {},
   "source": [
    "<h3 style=\"color:DodgerBlue;\">I.2. Linear Regression Model: One feature (nuage de points)</h3>\n",
    "<p style=\"color:DodgerBlue;\">comme dans la partie précédente, dans cette partie nous allons traiter un dataset dont l'output (y) dépend d'une seule variable (x).<br>le modèle à obtenir aura la forme suivante:h(x)=bias+w1.x</p>"
   ]
  },
  {
   "cell_type": "markdown",
   "id": "12c8a2d1",
   "metadata": {},
   "source": [
    "<h3 style=\"color:Tomato;\">I.1.1. Data</h3>"
   ]
  },
  {
   "cell_type": "markdown",
   "id": "0301831b",
   "metadata": {},
   "source": [
    "<h4 style=\"color:Tomato;\">Step 1: Load / Initialize Data</h4>"
   ]
  },
  {
   "cell_type": "code",
   "execution_count": 1116,
   "id": "45bc520a",
   "metadata": {},
   "outputs": [],
   "source": [
    "X=np.linspace(0,10,100) # générer 100 valeurs entre 0 et 10\n",
    "y=2+3*X     # y à générer sur une droite bias=2, w1=3 (ideal model +/-)\n",
    " # valeurs aléatoires à ajouter à y\n",
    "r=np.random.uniform(-7, 7, size=len(y))\n",
    "y=y+r # update de y autour de la droite\n"
   ]
  },
  {
   "cell_type": "markdown",
   "id": "6f93579d",
   "metadata": {},
   "source": [
    "<h4 style=\"color:Tomato;\">Step 2: Plot Data</h4>"
   ]
  },
  {
   "cell_type": "code",
   "execution_count": 1117,
   "id": "faa524ac",
   "metadata": {},
   "outputs": [],
   "source": [
    "#fonction qui trace :\n",
    "#---1. un nuage de points\n",
    "#---2. la droite sur la quelle nous nous sommes basés pour créer les y (modèle atendu)\n",
    "def plot_data(X,y):\n",
    "    import matplotlib.pyplot as plt\n",
    "    plt.scatter(X,y,color=\"black\")\n",
    "    plt.plot(X,2+3*X,color=\"r\") # model to find +/- (bias=2, w1=3)\n",
    "    plt.show()\n"
   ]
  },
  {
   "cell_type": "code",
   "execution_count": 1118,
   "id": "f421b666",
   "metadata": {},
   "outputs": [],
   "source": [
    "#fonction qui trace :\n",
    "#---1. un nuage de points\n",
    "#---2. la droite sur la quelle nous nous sommes basés pour créer les y (modèle atendu)\n",
    "#---3. le modèle résultat de l'apprentissage (bias,w1)\n",
    "\n",
    "def plot_data_model(X,y,bias,w1):\n",
    "    import matplotlib.pyplot as plt\n",
    "    plt.scatter(X,y,color=\"black\")\n",
    "    plt.plot(X,2+3*X,color=\"r\") # model to find +/- (bias=2, w1=3)\n",
    "    plt.plot(X,bias+w1*X,color=\"b\") #initial model (bias=1, w1=0)\n",
    "    plt.show()\n"
   ]
  },
  {
   "cell_type": "code",
   "execution_count": null,
   "id": "6c8682f6",
   "metadata": {},
   "outputs": [],
   "source": []
  },
  {
   "cell_type": "code",
   "execution_count": 1119,
   "id": "337d1ea3",
   "metadata": {},
   "outputs": [
    {
     "data": {
      "image/png": "[encoded data removed]",
      "text/plain": [
       "<Figure size 640x480 with 1 Axes>"
      ]
     },
     "metadata": {},
     "output_type": "display_data"
    }
   ],
   "source": [
    "plot_data(X,y)"
   ]
  },
  {
   "cell_type": "markdown",
   "id": "1c4d5ad0",
   "metadata": {},
   "source": [
    "<h4 style=\"color:Tomato;\">Step 3: Split Data</h4>"
   ]
  },
  {
   "cell_type": "markdown",
   "id": "33f1b3cc",
   "metadata": {},
   "source": [
    "<h4 style=\"color:DodgerBlue;\">Pourquoi?</h4>\n",
    "<p style=\"color:DodgerBlue;\">En machine learning, toujours il faut diviser le dataset d'origine en training dataset et en testdataset afin d'évaluer la performance du modèle sur un dataset non utilisé dans la phase d'entrainement.<br></p>"
   ]
  },
  {
   "cell_type": "code",
   "execution_count": 1120,
   "id": "08385735",
   "metadata": {},
   "outputs": [],
   "source": [
    "#data(X,y)-->data_train(X_train,y_train),data_test(X_test,y_test)\n",
    "\n",
    "X_train, X_test, y_train, y_test = train_test_split(X, y, test_size=0.3, random_state=44) #\n",
    "#valeur utiliser pendant la genearation des datasets de manièere aleoire"
   ]
  },
  {
   "cell_type": "code",
   "execution_count": 1121,
   "id": "e1534689",
   "metadata": {},
   "outputs": [
    {
     "data": {
      "text/plain": [
       "<matplotlib.collections.PathCollection at 0x20620d299d0>"
      ]
     },
     "execution_count": 1121,
     "metadata": {},
     "output_type": "execute_result"
    },
    {
     "data": {
      "image/png": "[encoded data removed]",
      "text/plain": [
       "<Figure size 640x480 with 1 Axes>"
      ]
     },
     "metadata": {},
     "output_type": "display_data"
    }
   ],
   "source": [
    "plt.scatter(X_train,y_train,color=\"black\")\n",
    "plt.scatter(X_test,y_test,color=\"green\")\n",
    "\n"
   ]
  },
  {
   "cell_type": "markdown",
   "id": "fb3aea2b",
   "metadata": {},
   "source": [
    "<p style=\"color:DodgerBlue;\">En noir, le dataset d'entrainement.<br>\n",
    "En vert, le dataset de test.\n",
    "</p>"
   ]
  },
  {
   "cell_type": "markdown",
   "id": "c26b5df8",
   "metadata": {},
   "source": [
    "<h3 style=\"color:Tomato;\">I.1.2. Model (using gradient descent)</h3>"
   ]
  },
  {
   "cell_type": "markdown",
   "id": "21d5b44c",
   "metadata": {},
   "source": [
    "<h4 style=\"color:Tomato;\">Step 1: Model Trainig</h4>"
   ]
  },
  {
   "cell_type": "markdown",
   "id": "1b43147b",
   "metadata": {},
   "source": [
    "<p style=\"color:DodgerBlue;\">la fonction train3 présente \n",
    "</p>"
   ]
  },
  {
   "cell_type": "code",
   "execution_count": 1122,
   "id": "30b53811",
   "metadata": {},
   "outputs": [
    {
     "name": "stdout",
     "output_type": "stream",
     "text": [
      "iteration  0 : (bias= 1 ,w1: 0.5 ) --->mse= 217.99  | update: dbias= -24.18 , dw1= -155.97\n"
     ]
    },
    {
     "data": {
      "image/png": "[encoded data removed]",
      "text/plain": [
       "<Figure size 640x480 with 1 Axes>"
      ]
     },
     "metadata": {},
     "output_type": "display_data"
    },
    {
     "name": "stdout",
     "output_type": "stream",
     "text": [
      "iteration  1 : (bias= 3.42 ,w1: 16.1 ) --->mse= 5419.84  | update: dbias= 126.32 , dw1= 807.16\n"
     ]
    },
    {
     "data": {
      "image/png": "[encoded data removed]",
      "text/plain": [
       "<Figure size 640x480 with 1 Axes>"
      ]
     },
     "metadata": {},
     "output_type": "display_data"
    },
    {
     "name": "stdout",
     "output_type": "stream",
     "text": [
      "iteration  2 : (bias= -9.21 ,w1: -64.62 ) --->mse= 144789.15  | update: dbias= -652.75 , dw1= -4178.11\n"
     ]
    },
    {
     "data": {
      "image/png": "[encoded data removed]",
      "text/plain": [
       "<Figure size 640x480 with 1 Axes>"
      ]
     },
     "metadata": {},
     "output_type": "display_data"
    },
    {
     "name": "stdout",
     "output_type": "stream",
     "text": [
      "iteration  3 : (bias= 56.06 ,w1: 353.19 ) --->mse= 3878798.65  | update: dbias= 3379.78 , dw1= 21626.22\n"
     ]
    },
    {
     "data": {
      "image/png": "[encoded data removed]",
      "text/plain": [
       "<Figure size 640x480 with 1 Axes>"
      ]
     },
     "metadata": {},
     "output_type": "display_data"
    },
    {
     "name": "stdout",
     "output_type": "stream",
     "text": [
      "iteration  4 : (bias= -281.92 ,w1: -1809.43 ) --->mse= 103921102.78  | update: dbias= -17493.13 , dw1= -111940.02\n"
     ]
    },
    {
     "data": {
      "image/png": "[encoded data removed]",
      "text/plain": [
       "<Figure size 640x480 with 1 Axes>"
      ]
     },
     "metadata": {},
     "output_type": "display_data"
    },
    {
     "data": {
      "image/png": "[encoded data removed]",
      "text/plain": [
       "<Figure size 1000x300 with 2 Axes>"
      ]
     },
     "metadata": {},
     "output_type": "display_data"
    }
   ],
   "source": [
    "def train3(X,y):\n",
    "    #hyperparameters initialisation: tuning parameters\n",
    "    learning_rate=0.1\n",
    "    epochs=5\n",
    "    #model parameters initialisation\n",
    "    w1=0.5 #\n",
    "    bias=1\n",
    "    #----------------------\n",
    "    n=len(X) #data size\n",
    "    global mseList\n",
    "    global w1List\n",
    "    mseList=[]\n",
    "    w1List=[]\n",
    "       \n",
    " \n",
    "    #training\n",
    "    for i in range(epochs):\n",
    "        yhat=bias+w1*X #prediction\n",
    "        \n",
    "        error=y-yhat # Error\n",
    "        squared_error=error**2 #squared error\n",
    "        mse=(1/n)*sum(squared_error) #mean squared error\n",
    "        #print(\"(\",bias, \",\", w1, \") ----->\",mse)\n",
    "        mseList.append(mse)\n",
    "        w1List.append(w1)\n",
    "       \n",
    "    \n",
    "        dw1=(-2/n)*np.sum(X*(y-yhat)) # partial derivate of mse / w1\n",
    "        dbias=(-2/n)*np.sum((y-yhat)) #partial derivate of mse / w1\n",
    "        print(\"iteration \",i,\": (bias=\",round(bias,2),\",w1:\",round(w1,2),\") --->mse=\",round(mse,2),\" | update: dbias=\",round(dbias,2),\", dw1=\",round(dw1,2))\n",
    "\n",
    "        w1=w1-dw1*learning_rate # orientation (-) + pas d'apprentissage (l)\n",
    "        bias=bias-dbias*learning_rate\n",
    "        plot_data_model(X,y,bias,w1)\n",
    "        \n",
    "    return bias,w1\n",
    "        \n",
    "#exécution\n",
    "bias,w1=train3(X_train,y_train)\n",
    "tracer_graphes(w1List,mseList,[i for i in range(5)])"
   ]
  },
  {
   "cell_type": "code",
   "execution_count": null,
   "id": "ccf7449b",
   "metadata": {},
   "outputs": [],
   "source": []
  },
  {
   "cell_type": "code",
   "execution_count": null,
   "id": "0a485ed0",
   "metadata": {},
   "outputs": [],
   "source": []
  },
  {
   "cell_type": "markdown",
   "id": "268dc917",
   "metadata": {},
   "source": [
    "<h3 style=\"color:Tomato;\">questions</h3>\n",
    "<p>\n",
    "    <span style=\"color:Tomato;\"><b> 1) </b></span>\n",
    "    <span  style=\"color:DodgerBlue;\">comment varie mse dans les 5 premières itérations? comment justifier ce résultat? il s'agit de quel problème? </span>\n",
    "</p>\n",
    "<p>\n",
    "    <span style=\"color:Tomato;\"><b> 2) </b></span>\n",
    "    <span  style=\"color:DodgerBlue;\">qu'est ce qui se passe si on augmente le nombre d'itération(500)?. Expliquer le résultat obtenu</span>\n",
    "</p>\n",
    "\n",
    "<p>\n",
    "    <span style=\"color:Tomato;\"><b> 3) </b></span>\n",
    "    <span  style=\"color:DodgerBlue;\">quelles sont les recommandations à faire pour corriger ce problème</span>\n",
    "</p>\n",
    "\n",
    "\n",
    "\n",
    "\n"
   ]
  },
  {
   "cell_type": "markdown",
   "id": "eed88a06",
   "metadata": {},
   "source": [
    "<h3 style=\"color:Tomato;\">Réponses</h3>\n",
    "<p>\n",
    "    <span style=\"color:Tomato;\"><b> 1) </b></span>\n",
    "    <span  style=\"color:DodgerBlue;\">comment varie mse dans les 5 premières itérations? comment justifier ce résultat? il s'agit de quel problème? </span>\n",
    "</p>\n",
    "\n",
    "<p>\n",
    "    <span style=\"color:Tomato;\"><b> réponse </b></span><br>\n",
    "    <span  style=\"color:black;\">dans les cinq premières itérations on constate que la valeur de mse continue à augmenter au lieu de diminuer.<br> vu que l'algorithme de gradient descent est implémenté correctement, alors le résultat obtenu est à cause d'un mauvais règlage: soit le nombre d'epchos ou le learning_rate<br>et vu que la valeur de mse augmente des les premières itérations alors le problème concerne le learning_rate<br> la valeur de learning_rate (0.1) cause un pas de mise à jour qui est grand  et qui conduit à chaque itération de s'éloigner davantage de l'optimum (w1=3) </span>\n",
    "</p>\n",
    "\n",
    "<p>\n",
    "    <span style=\"color:Tomato;\"><b> 2) </b></span>\n",
    "    <span  style=\"color:DodgerBlue;\">qu'est ce qui se passe si on augmente le nombre d'itération(500)?. Expliquer le résultat obtenu</span>\n",
    "</p>\n",
    "\n",
    "<p>\n",
    "    <span style=\"color:Tomato;\"><b> réponse </b></span><br>\n",
    "    <span  style=\"color:black;\">si on augmente le nombre d'itéraiton à 500, les mises à jour de mse deviennent exponentielles</span>\n",
    "</p>\n",
    "\n",
    "<p>\n",
    "    <span style=\"color:Tomato;\"><b> 3) </b></span>\n",
    "    <span  style=\"color:DodgerBlue;\">quelles sont les recommandations à faire pour corriger ce problème</span>\n",
    "</p>\n",
    "\n",
    "<p>\n",
    "    <span style=\"color:Tomato;\"><b> réponse </b></span><br>\n",
    "    <span  style=\"color:black;\">Les recommandations à faire pour corriger ce problème: fixer learning_rate à une valeur plus petite à 0.1, par exemple 0.01 et voir ce qui se passe, si ce n'est pas suffissant, essayer la valeur 0.001 et ainsi de suite. il s'agit d'un problème de règlage, on peut essayer plusieurs valeurs de learning_rate jusqu'à trouver la valeur qui donne de résultat statisfaisants. pas très petits qui peut causer au programme de ne pas converger vers le bon modèle. et pas grande qui peut causer des mises à jour exponentielles</span>\n",
    "</p>\n",
    "\n",
    "\n",
    "\n",
    "\n"
   ]
  },
  {
   "cell_type": "markdown",
   "id": "f2d782fb",
   "metadata": {},
   "source": [
    "<p>\n",
    "    <span  style=\"color:DodgerBlue;\">Dans la version suivante, nous allons initialisr learning_rate à 0.01 au lieu de 0.1 </span>\n",
    "</p>\n"
   ]
  },
  {
   "cell_type": "code",
   "execution_count": 1123,
   "id": "c0331a53",
   "metadata": {},
   "outputs": [
    {
     "name": "stdout",
     "output_type": "stream",
     "text": [
      "iteration  0 : (bias= 1 ,w1: 0.5 ) --->mse= 217.99  | update: dbias= -24.18 , dw1= -155.97\n"
     ]
    },
    {
     "data": {
      "image/png": "[encoded data removed]",
      "text/plain": [
       "<Figure size 640x480 with 1 Axes>"
      ]
     },
     "metadata": {},
     "output_type": "display_data"
    },
    {
     "name": "stdout",
     "output_type": "stream",
     "text": [
      "iteration  1 : (bias= 1.24 ,w1: 2.06 ) --->mse= 45.79  | update: dbias= -9.13 , dw1= -59.66\n",
      "iteration  2 : (bias= 1.33 ,w1: 2.66 ) --->mse= 20.61  | update: dbias= -3.37 , dw1= -22.83\n",
      "iteration  3 : (bias= 1.37 ,w1: 2.88 ) --->mse= 16.93  | update: dbias= -1.17 , dw1= -8.75\n",
      "iteration  4 : (bias= 1.38 ,w1: 2.97 ) --->mse= 16.39  | update: dbias= -0.33 , dw1= -3.36\n",
      "iteration  5 : (bias= 1.38 ,w1: 3.01 ) --->mse= 16.31  | update: dbias= -0.01 , dw1= -1.3\n",
      "iteration  6 : (bias= 1.38 ,w1: 3.02 ) --->mse= 16.3  | update: dbias= 0.11 , dw1= -0.52\n",
      "iteration  7 : (bias= 1.38 ,w1: 3.02 ) --->mse= 16.3  | update: dbias= 0.16 , dw1= -0.22\n",
      "iteration  8 : (bias= 1.38 ,w1: 3.03 ) --->mse= 16.3  | update: dbias= 0.17 , dw1= -0.1\n",
      "iteration  9 : (bias= 1.38 ,w1: 3.03 ) --->mse= 16.3  | update: dbias= 0.18 , dw1= -0.06\n",
      "iteration  10 : (bias= 1.38 ,w1: 3.03 ) --->mse= 16.3  | update: dbias= 0.18 , dw1= -0.04\n",
      "iteration  11 : (bias= 1.37 ,w1: 3.03 ) --->mse= 16.3  | update: dbias= 0.18 , dw1= -0.03\n",
      "iteration  12 : (bias= 1.37 ,w1: 3.03 ) --->mse= 16.3  | update: dbias= 0.18 , dw1= -0.03\n",
      "iteration  13 : (bias= 1.37 ,w1: 3.03 ) --->mse= 16.3  | update: dbias= 0.18 , dw1= -0.03\n",
      "iteration  14 : (bias= 1.37 ,w1: 3.03 ) --->mse= 16.3  | update: dbias= 0.18 , dw1= -0.03\n",
      "iteration  15 : (bias= 1.37 ,w1: 3.03 ) --->mse= 16.3  | update: dbias= 0.18 , dw1= -0.03\n",
      "iteration  16 : (bias= 1.37 ,w1: 3.03 ) --->mse= 16.3  | update: dbias= 0.18 , dw1= -0.03\n",
      "iteration  17 : (bias= 1.36 ,w1: 3.03 ) --->mse= 16.3  | update: dbias= 0.17 , dw1= -0.03\n",
      "iteration  18 : (bias= 1.36 ,w1: 3.03 ) --->mse= 16.3  | update: dbias= 0.17 , dw1= -0.03\n",
      "iteration  19 : (bias= 1.36 ,w1: 3.03 ) --->mse= 16.3  | update: dbias= 0.17 , dw1= -0.03\n",
      "iteration  20 : (bias= 1.36 ,w1: 3.03 ) --->mse= 16.29  | update: dbias= 0.17 , dw1= -0.03\n",
      "iteration  21 : (bias= 1.36 ,w1: 3.03 ) --->mse= 16.29  | update: dbias= 0.17 , dw1= -0.03\n",
      "iteration  22 : (bias= 1.35 ,w1: 3.03 ) --->mse= 16.29  | update: dbias= 0.17 , dw1= -0.03\n",
      "iteration  23 : (bias= 1.35 ,w1: 3.03 ) --->mse= 16.29  | update: dbias= 0.17 , dw1= -0.03\n",
      "iteration  24 : (bias= 1.35 ,w1: 3.03 ) --->mse= 16.29  | update: dbias= 0.17 , dw1= -0.03\n",
      "iteration  25 : (bias= 1.35 ,w1: 3.03 ) --->mse= 16.29  | update: dbias= 0.17 , dw1= -0.03\n",
      "iteration  26 : (bias= 1.35 ,w1: 3.03 ) --->mse= 16.29  | update: dbias= 0.17 , dw1= -0.03\n",
      "iteration  27 : (bias= 1.35 ,w1: 3.03 ) --->mse= 16.29  | update: dbias= 0.17 , dw1= -0.03\n",
      "iteration  28 : (bias= 1.34 ,w1: 3.03 ) --->mse= 16.29  | update: dbias= 0.16 , dw1= -0.03\n",
      "iteration  29 : (bias= 1.34 ,w1: 3.03 ) --->mse= 16.29  | update: dbias= 0.16 , dw1= -0.03\n",
      "iteration  30 : (bias= 1.34 ,w1: 3.03 ) --->mse= 16.29  | update: dbias= 0.16 , dw1= -0.03\n",
      "iteration  31 : (bias= 1.34 ,w1: 3.03 ) --->mse= 16.29  | update: dbias= 0.16 , dw1= -0.03\n",
      "iteration  32 : (bias= 1.34 ,w1: 3.03 ) --->mse= 16.29  | update: dbias= 0.16 , dw1= -0.03\n",
      "iteration  33 : (bias= 1.34 ,w1: 3.03 ) --->mse= 16.29  | update: dbias= 0.16 , dw1= -0.03\n",
      "iteration  34 : (bias= 1.33 ,w1: 3.03 ) --->mse= 16.29  | update: dbias= 0.16 , dw1= -0.02\n",
      "iteration  35 : (bias= 1.33 ,w1: 3.03 ) --->mse= 16.29  | update: dbias= 0.16 , dw1= -0.02\n",
      "iteration  36 : (bias= 1.33 ,w1: 3.03 ) --->mse= 16.29  | update: dbias= 0.16 , dw1= -0.02\n",
      "iteration  37 : (bias= 1.33 ,w1: 3.04 ) --->mse= 16.29  | update: dbias= 0.16 , dw1= -0.02\n",
      "iteration  38 : (bias= 1.33 ,w1: 3.04 ) --->mse= 16.29  | update: dbias= 0.16 , dw1= -0.02\n",
      "iteration  39 : (bias= 1.33 ,w1: 3.04 ) --->mse= 16.29  | update: dbias= 0.15 , dw1= -0.02\n",
      "iteration  40 : (bias= 1.33 ,w1: 3.04 ) --->mse= 16.29  | update: dbias= 0.15 , dw1= -0.02\n",
      "iteration  41 : (bias= 1.32 ,w1: 3.04 ) --->mse= 16.29  | update: dbias= 0.15 , dw1= -0.02\n",
      "iteration  42 : (bias= 1.32 ,w1: 3.04 ) --->mse= 16.29  | update: dbias= 0.15 , dw1= -0.02\n",
      "iteration  43 : (bias= 1.32 ,w1: 3.04 ) --->mse= 16.29  | update: dbias= 0.15 , dw1= -0.02\n",
      "iteration  44 : (bias= 1.32 ,w1: 3.04 ) --->mse= 16.29  | update: dbias= 0.15 , dw1= -0.02\n",
      "iteration  45 : (bias= 1.32 ,w1: 3.04 ) --->mse= 16.29  | update: dbias= 0.15 , dw1= -0.02\n",
      "iteration  46 : (bias= 1.32 ,w1: 3.04 ) --->mse= 16.29  | update: dbias= 0.15 , dw1= -0.02\n",
      "iteration  47 : (bias= 1.31 ,w1: 3.04 ) --->mse= 16.29  | update: dbias= 0.15 , dw1= -0.02\n",
      "iteration  48 : (bias= 1.31 ,w1: 3.04 ) --->mse= 16.29  | update: dbias= 0.15 , dw1= -0.02\n",
      "iteration  49 : (bias= 1.31 ,w1: 3.04 ) --->mse= 16.29  | update: dbias= 0.15 , dw1= -0.02\n",
      "iteration  50 : (bias= 1.31 ,w1: 3.04 ) --->mse= 16.29  | update: dbias= 0.15 , dw1= -0.02\n",
      "iteration  51 : (bias= 1.31 ,w1: 3.04 ) --->mse= 16.29  | update: dbias= 0.15 , dw1= -0.02\n",
      "iteration  52 : (bias= 1.31 ,w1: 3.04 ) --->mse= 16.29  | update: dbias= 0.14 , dw1= -0.02\n",
      "iteration  53 : (bias= 1.31 ,w1: 3.04 ) --->mse= 16.29  | update: dbias= 0.14 , dw1= -0.02\n",
      "iteration  54 : (bias= 1.3 ,w1: 3.04 ) --->mse= 16.29  | update: dbias= 0.14 , dw1= -0.02\n",
      "iteration  55 : (bias= 1.3 ,w1: 3.04 ) --->mse= 16.29  | update: dbias= 0.14 , dw1= -0.02\n",
      "iteration  56 : (bias= 1.3 ,w1: 3.04 ) --->mse= 16.29  | update: dbias= 0.14 , dw1= -0.02\n",
      "iteration  57 : (bias= 1.3 ,w1: 3.04 ) --->mse= 16.29  | update: dbias= 0.14 , dw1= -0.02\n",
      "iteration  58 : (bias= 1.3 ,w1: 3.04 ) --->mse= 16.29  | update: dbias= 0.14 , dw1= -0.02\n",
      "iteration  59 : (bias= 1.3 ,w1: 3.04 ) --->mse= 16.29  | update: dbias= 0.14 , dw1= -0.02\n",
      "iteration  60 : (bias= 1.3 ,w1: 3.04 ) --->mse= 16.29  | update: dbias= 0.14 , dw1= -0.02\n",
      "iteration  61 : (bias= 1.29 ,w1: 3.04 ) --->mse= 16.28  | update: dbias= 0.14 , dw1= -0.02\n",
      "iteration  62 : (bias= 1.29 ,w1: 3.04 ) --->mse= 16.28  | update: dbias= 0.14 , dw1= -0.02\n",
      "iteration  63 : (bias= 1.29 ,w1: 3.04 ) --->mse= 16.28  | update: dbias= 0.14 , dw1= -0.02\n",
      "iteration  64 : (bias= 1.29 ,w1: 3.04 ) --->mse= 16.28  | update: dbias= 0.14 , dw1= -0.02\n",
      "iteration  65 : (bias= 1.29 ,w1: 3.04 ) --->mse= 16.28  | update: dbias= 0.13 , dw1= -0.02\n",
      "iteration  66 : (bias= 1.29 ,w1: 3.04 ) --->mse= 16.28  | update: dbias= 0.13 , dw1= -0.02\n",
      "iteration  67 : (bias= 1.29 ,w1: 3.04 ) --->mse= 16.28  | update: dbias= 0.13 , dw1= -0.02\n",
      "iteration  68 : (bias= 1.29 ,w1: 3.04 ) --->mse= 16.28  | update: dbias= 0.13 , dw1= -0.02\n",
      "iteration  69 : (bias= 1.28 ,w1: 3.04 ) --->mse= 16.28  | update: dbias= 0.13 , dw1= -0.02\n",
      "iteration  70 : (bias= 1.28 ,w1: 3.04 ) --->mse= 16.28  | update: dbias= 0.13 , dw1= -0.02\n",
      "iteration  71 : (bias= 1.28 ,w1: 3.04 ) --->mse= 16.28  | update: dbias= 0.13 , dw1= -0.02\n",
      "iteration  72 : (bias= 1.28 ,w1: 3.04 ) --->mse= 16.28  | update: dbias= 0.13 , dw1= -0.02\n",
      "iteration  73 : (bias= 1.28 ,w1: 3.04 ) --->mse= 16.28  | update: dbias= 0.13 , dw1= -0.02\n",
      "iteration  74 : (bias= 1.28 ,w1: 3.04 ) --->mse= 16.28  | update: dbias= 0.13 , dw1= -0.02\n",
      "iteration  75 : (bias= 1.28 ,w1: 3.04 ) --->mse= 16.28  | update: dbias= 0.13 , dw1= -0.02\n",
      "iteration  76 : (bias= 1.28 ,w1: 3.04 ) --->mse= 16.28  | update: dbias= 0.13 , dw1= -0.02\n",
      "iteration  77 : (bias= 1.27 ,w1: 3.04 ) --->mse= 16.28  | update: dbias= 0.13 , dw1= -0.02\n",
      "iteration  78 : (bias= 1.27 ,w1: 3.04 ) --->mse= 16.28  | update: dbias= 0.13 , dw1= -0.02\n",
      "iteration  79 : (bias= 1.27 ,w1: 3.04 ) --->mse= 16.28  | update: dbias= 0.12 , dw1= -0.02\n",
      "iteration  80 : (bias= 1.27 ,w1: 3.04 ) --->mse= 16.28  | update: dbias= 0.12 , dw1= -0.02\n",
      "iteration  81 : (bias= 1.27 ,w1: 3.04 ) --->mse= 16.28  | update: dbias= 0.12 , dw1= -0.02\n",
      "iteration  82 : (bias= 1.27 ,w1: 3.04 ) --->mse= 16.28  | update: dbias= 0.12 , dw1= -0.02\n",
      "iteration  83 : (bias= 1.27 ,w1: 3.05 ) --->mse= 16.28  | update: dbias= 0.12 , dw1= -0.02\n",
      "iteration  84 : (bias= 1.27 ,w1: 3.05 ) --->mse= 16.28  | update: dbias= 0.12 , dw1= -0.02\n",
      "iteration  85 : (bias= 1.26 ,w1: 3.05 ) --->mse= 16.28  | update: dbias= 0.12 , dw1= -0.02\n",
      "iteration  86 : (bias= 1.26 ,w1: 3.05 ) --->mse= 16.28  | update: dbias= 0.12 , dw1= -0.02\n",
      "iteration  87 : (bias= 1.26 ,w1: 3.05 ) --->mse= 16.28  | update: dbias= 0.12 , dw1= -0.02\n",
      "iteration  88 : (bias= 1.26 ,w1: 3.05 ) --->mse= 16.28  | update: dbias= 0.12 , dw1= -0.02\n",
      "iteration  89 : (bias= 1.26 ,w1: 3.05 ) --->mse= 16.28  | update: dbias= 0.12 , dw1= -0.02\n",
      "iteration  90 : (bias= 1.26 ,w1: 3.05 ) --->mse= 16.28  | update: dbias= 0.12 , dw1= -0.02\n",
      "iteration  91 : (bias= 1.26 ,w1: 3.05 ) --->mse= 16.28  | update: dbias= 0.12 , dw1= -0.02\n",
      "iteration  92 : (bias= 1.26 ,w1: 3.05 ) --->mse= 16.28  | update: dbias= 0.12 , dw1= -0.02\n",
      "iteration  93 : (bias= 1.25 ,w1: 3.05 ) --->mse= 16.28  | update: dbias= 0.12 , dw1= -0.02\n",
      "iteration  94 : (bias= 1.25 ,w1: 3.05 ) --->mse= 16.28  | update: dbias= 0.12 , dw1= -0.02\n",
      "iteration  95 : (bias= 1.25 ,w1: 3.05 ) --->mse= 16.28  | update: dbias= 0.11 , dw1= -0.02\n",
      "iteration  96 : (bias= 1.25 ,w1: 3.05 ) --->mse= 16.28  | update: dbias= 0.11 , dw1= -0.02\n",
      "iteration  97 : (bias= 1.25 ,w1: 3.05 ) --->mse= 16.28  | update: dbias= 0.11 , dw1= -0.02\n",
      "iteration  98 : (bias= 1.25 ,w1: 3.05 ) --->mse= 16.28  | update: dbias= 0.11 , dw1= -0.02\n",
      "iteration  99 : (bias= 1.25 ,w1: 3.05 ) --->mse= 16.28  | update: dbias= 0.11 , dw1= -0.02\n",
      "iteration  100 : (bias= 1.25 ,w1: 3.05 ) --->mse= 16.28  | update: dbias= 0.11 , dw1= -0.02\n"
     ]
    },
    {
     "data": {
      "image/png": "[encoded data removed]",
      "text/plain": [
       "<Figure size 640x480 with 1 Axes>"
      ]
     },
     "metadata": {},
     "output_type": "display_data"
    },
    {
     "name": "stdout",
     "output_type": "stream",
     "text": [
      "iteration  101 : (bias= 1.25 ,w1: 3.05 ) --->mse= 16.28  | update: dbias= 0.11 , dw1= -0.02\n",
      "iteration  102 : (bias= 1.24 ,w1: 3.05 ) --->mse= 16.28  | update: dbias= 0.11 , dw1= -0.02\n",
      "iteration  103 : (bias= 1.24 ,w1: 3.05 ) --->mse= 16.28  | update: dbias= 0.11 , dw1= -0.02\n",
      "iteration  104 : (bias= 1.24 ,w1: 3.05 ) --->mse= 16.28  | update: dbias= 0.11 , dw1= -0.02\n",
      "iteration  105 : (bias= 1.24 ,w1: 3.05 ) --->mse= 16.28  | update: dbias= 0.11 , dw1= -0.02\n",
      "iteration  106 : (bias= 1.24 ,w1: 3.05 ) --->mse= 16.28  | update: dbias= 0.11 , dw1= -0.02\n",
      "iteration  107 : (bias= 1.24 ,w1: 3.05 ) --->mse= 16.28  | update: dbias= 0.11 , dw1= -0.02\n",
      "iteration  108 : (bias= 1.24 ,w1: 3.05 ) --->mse= 16.28  | update: dbias= 0.11 , dw1= -0.02\n",
      "iteration  109 : (bias= 1.24 ,w1: 3.05 ) --->mse= 16.28  | update: dbias= 0.11 , dw1= -0.02\n",
      "iteration  110 : (bias= 1.24 ,w1: 3.05 ) --->mse= 16.28  | update: dbias= 0.11 , dw1= -0.02\n",
      "iteration  111 : (bias= 1.23 ,w1: 3.05 ) --->mse= 16.28  | update: dbias= 0.1 , dw1= -0.02\n",
      "iteration  112 : (bias= 1.23 ,w1: 3.05 ) --->mse= 16.28  | update: dbias= 0.1 , dw1= -0.02\n",
      "iteration  113 : (bias= 1.23 ,w1: 3.05 ) --->mse= 16.28  | update: dbias= 0.1 , dw1= -0.02\n",
      "iteration  114 : (bias= 1.23 ,w1: 3.05 ) --->mse= 16.28  | update: dbias= 0.1 , dw1= -0.02\n",
      "iteration  115 : (bias= 1.23 ,w1: 3.05 ) --->mse= 16.28  | update: dbias= 0.1 , dw1= -0.02\n",
      "iteration  116 : (bias= 1.23 ,w1: 3.05 ) --->mse= 16.28  | update: dbias= 0.1 , dw1= -0.02\n",
      "iteration  117 : (bias= 1.23 ,w1: 3.05 ) --->mse= 16.28  | update: dbias= 0.1 , dw1= -0.02\n",
      "iteration  118 : (bias= 1.23 ,w1: 3.05 ) --->mse= 16.28  | update: dbias= 0.1 , dw1= -0.02\n",
      "iteration  119 : (bias= 1.23 ,w1: 3.05 ) --->mse= 16.28  | update: dbias= 0.1 , dw1= -0.02\n",
      "iteration  120 : (bias= 1.23 ,w1: 3.05 ) --->mse= 16.28  | update: dbias= 0.1 , dw1= -0.02\n",
      "iteration  121 : (bias= 1.22 ,w1: 3.05 ) --->mse= 16.28  | update: dbias= 0.1 , dw1= -0.02\n",
      "iteration  122 : (bias= 1.22 ,w1: 3.05 ) --->mse= 16.28  | update: dbias= 0.1 , dw1= -0.02\n",
      "iteration  123 : (bias= 1.22 ,w1: 3.05 ) --->mse= 16.28  | update: dbias= 0.1 , dw1= -0.02\n",
      "iteration  124 : (bias= 1.22 ,w1: 3.05 ) --->mse= 16.28  | update: dbias= 0.1 , dw1= -0.02\n",
      "iteration  125 : (bias= 1.22 ,w1: 3.05 ) --->mse= 16.28  | update: dbias= 0.1 , dw1= -0.02\n",
      "iteration  126 : (bias= 1.22 ,w1: 3.05 ) --->mse= 16.28  | update: dbias= 0.1 , dw1= -0.02\n",
      "iteration  127 : (bias= 1.22 ,w1: 3.05 ) --->mse= 16.28  | update: dbias= 0.1 , dw1= -0.02\n",
      "iteration  128 : (bias= 1.22 ,w1: 3.05 ) --->mse= 16.28  | update: dbias= 0.1 , dw1= -0.01\n",
      "iteration  129 : (bias= 1.22 ,w1: 3.05 ) --->mse= 16.28  | update: dbias= 0.1 , dw1= -0.01\n",
      "iteration  130 : (bias= 1.22 ,w1: 3.05 ) --->mse= 16.28  | update: dbias= 0.09 , dw1= -0.01\n",
      "iteration  131 : (bias= 1.21 ,w1: 3.05 ) --->mse= 16.28  | update: dbias= 0.09 , dw1= -0.01\n",
      "iteration  132 : (bias= 1.21 ,w1: 3.05 ) --->mse= 16.28  | update: dbias= 0.09 , dw1= -0.01\n",
      "iteration  133 : (bias= 1.21 ,w1: 3.05 ) --->mse= 16.28  | update: dbias= 0.09 , dw1= -0.01\n",
      "iteration  134 : (bias= 1.21 ,w1: 3.05 ) --->mse= 16.28  | update: dbias= 0.09 , dw1= -0.01\n",
      "iteration  135 : (bias= 1.21 ,w1: 3.05 ) --->mse= 16.27  | update: dbias= 0.09 , dw1= -0.01\n",
      "iteration  136 : (bias= 1.21 ,w1: 3.05 ) --->mse= 16.27  | update: dbias= 0.09 , dw1= -0.01\n",
      "iteration  137 : (bias= 1.21 ,w1: 3.05 ) --->mse= 16.27  | update: dbias= 0.09 , dw1= -0.01\n",
      "iteration  138 : (bias= 1.21 ,w1: 3.05 ) --->mse= 16.27  | update: dbias= 0.09 , dw1= -0.01\n",
      "iteration  139 : (bias= 1.21 ,w1: 3.05 ) --->mse= 16.27  | update: dbias= 0.09 , dw1= -0.01\n",
      "iteration  140 : (bias= 1.21 ,w1: 3.05 ) --->mse= 16.27  | update: dbias= 0.09 , dw1= -0.01\n",
      "iteration  141 : (bias= 1.21 ,w1: 3.05 ) --->mse= 16.27  | update: dbias= 0.09 , dw1= -0.01\n",
      "iteration  142 : (bias= 1.2 ,w1: 3.05 ) --->mse= 16.27  | update: dbias= 0.09 , dw1= -0.01\n",
      "iteration  143 : (bias= 1.2 ,w1: 3.05 ) --->mse= 16.27  | update: dbias= 0.09 , dw1= -0.01\n",
      "iteration  144 : (bias= 1.2 ,w1: 3.05 ) --->mse= 16.27  | update: dbias= 0.09 , dw1= -0.01\n",
      "iteration  145 : (bias= 1.2 ,w1: 3.06 ) --->mse= 16.27  | update: dbias= 0.09 , dw1= -0.01\n",
      "iteration  146 : (bias= 1.2 ,w1: 3.06 ) --->mse= 16.27  | update: dbias= 0.09 , dw1= -0.01\n",
      "iteration  147 : (bias= 1.2 ,w1: 3.06 ) --->mse= 16.27  | update: dbias= 0.09 , dw1= -0.01\n",
      "iteration  148 : (bias= 1.2 ,w1: 3.06 ) --->mse= 16.27  | update: dbias= 0.09 , dw1= -0.01\n",
      "iteration  149 : (bias= 1.2 ,w1: 3.06 ) --->mse= 16.27  | update: dbias= 0.09 , dw1= -0.01\n",
      "iteration  150 : (bias= 1.2 ,w1: 3.06 ) --->mse= 16.27  | update: dbias= 0.08 , dw1= -0.01\n",
      "iteration  151 : (bias= 1.2 ,w1: 3.06 ) --->mse= 16.27  | update: dbias= 0.08 , dw1= -0.01\n",
      "iteration  152 : (bias= 1.2 ,w1: 3.06 ) --->mse= 16.27  | update: dbias= 0.08 , dw1= -0.01\n",
      "iteration  153 : (bias= 1.19 ,w1: 3.06 ) --->mse= 16.27  | update: dbias= 0.08 , dw1= -0.01\n",
      "iteration  154 : (bias= 1.19 ,w1: 3.06 ) --->mse= 16.27  | update: dbias= 0.08 , dw1= -0.01\n",
      "iteration  155 : (bias= 1.19 ,w1: 3.06 ) --->mse= 16.27  | update: dbias= 0.08 , dw1= -0.01\n",
      "iteration  156 : (bias= 1.19 ,w1: 3.06 ) --->mse= 16.27  | update: dbias= 0.08 , dw1= -0.01\n",
      "iteration  157 : (bias= 1.19 ,w1: 3.06 ) --->mse= 16.27  | update: dbias= 0.08 , dw1= -0.01\n",
      "iteration  158 : (bias= 1.19 ,w1: 3.06 ) --->mse= 16.27  | update: dbias= 0.08 , dw1= -0.01\n",
      "iteration  159 : (bias= 1.19 ,w1: 3.06 ) --->mse= 16.27  | update: dbias= 0.08 , dw1= -0.01\n",
      "iteration  160 : (bias= 1.19 ,w1: 3.06 ) --->mse= 16.27  | update: dbias= 0.08 , dw1= -0.01\n",
      "iteration  161 : (bias= 1.19 ,w1: 3.06 ) --->mse= 16.27  | update: dbias= 0.08 , dw1= -0.01\n",
      "iteration  162 : (bias= 1.19 ,w1: 3.06 ) --->mse= 16.27  | update: dbias= 0.08 , dw1= -0.01\n",
      "iteration  163 : (bias= 1.19 ,w1: 3.06 ) --->mse= 16.27  | update: dbias= 0.08 , dw1= -0.01\n",
      "iteration  164 : (bias= 1.19 ,w1: 3.06 ) --->mse= 16.27  | update: dbias= 0.08 , dw1= -0.01\n",
      "iteration  165 : (bias= 1.19 ,w1: 3.06 ) --->mse= 16.27  | update: dbias= 0.08 , dw1= -0.01\n",
      "iteration  166 : (bias= 1.18 ,w1: 3.06 ) --->mse= 16.27  | update: dbias= 0.08 , dw1= -0.01\n",
      "iteration  167 : (bias= 1.18 ,w1: 3.06 ) --->mse= 16.27  | update: dbias= 0.08 , dw1= -0.01\n",
      "iteration  168 : (bias= 1.18 ,w1: 3.06 ) --->mse= 16.27  | update: dbias= 0.08 , dw1= -0.01\n",
      "iteration  169 : (bias= 1.18 ,w1: 3.06 ) --->mse= 16.27  | update: dbias= 0.08 , dw1= -0.01\n",
      "iteration  170 : (bias= 1.18 ,w1: 3.06 ) --->mse= 16.27  | update: dbias= 0.08 , dw1= -0.01\n",
      "iteration  171 : (bias= 1.18 ,w1: 3.06 ) --->mse= 16.27  | update: dbias= 0.08 , dw1= -0.01\n",
      "iteration  172 : (bias= 1.18 ,w1: 3.06 ) --->mse= 16.27  | update: dbias= 0.08 , dw1= -0.01\n",
      "iteration  173 : (bias= 1.18 ,w1: 3.06 ) --->mse= 16.27  | update: dbias= 0.07 , dw1= -0.01\n",
      "iteration  174 : (bias= 1.18 ,w1: 3.06 ) --->mse= 16.27  | update: dbias= 0.07 , dw1= -0.01\n",
      "iteration  175 : (bias= 1.18 ,w1: 3.06 ) --->mse= 16.27  | update: dbias= 0.07 , dw1= -0.01\n",
      "iteration  176 : (bias= 1.18 ,w1: 3.06 ) --->mse= 16.27  | update: dbias= 0.07 , dw1= -0.01\n",
      "iteration  177 : (bias= 1.18 ,w1: 3.06 ) --->mse= 16.27  | update: dbias= 0.07 , dw1= -0.01\n",
      "iteration  178 : (bias= 1.18 ,w1: 3.06 ) --->mse= 16.27  | update: dbias= 0.07 , dw1= -0.01\n",
      "iteration  179 : (bias= 1.17 ,w1: 3.06 ) --->mse= 16.27  | update: dbias= 0.07 , dw1= -0.01\n",
      "iteration  180 : (bias= 1.17 ,w1: 3.06 ) --->mse= 16.27  | update: dbias= 0.07 , dw1= -0.01\n",
      "iteration  181 : (bias= 1.17 ,w1: 3.06 ) --->mse= 16.27  | update: dbias= 0.07 , dw1= -0.01\n",
      "iteration  182 : (bias= 1.17 ,w1: 3.06 ) --->mse= 16.27  | update: dbias= 0.07 , dw1= -0.01\n",
      "iteration  183 : (bias= 1.17 ,w1: 3.06 ) --->mse= 16.27  | update: dbias= 0.07 , dw1= -0.01\n",
      "iteration  184 : (bias= 1.17 ,w1: 3.06 ) --->mse= 16.27  | update: dbias= 0.07 , dw1= -0.01\n",
      "iteration  185 : (bias= 1.17 ,w1: 3.06 ) --->mse= 16.27  | update: dbias= 0.07 , dw1= -0.01\n",
      "iteration  186 : (bias= 1.17 ,w1: 3.06 ) --->mse= 16.27  | update: dbias= 0.07 , dw1= -0.01\n",
      "iteration  187 : (bias= 1.17 ,w1: 3.06 ) --->mse= 16.27  | update: dbias= 0.07 , dw1= -0.01\n",
      "iteration  188 : (bias= 1.17 ,w1: 3.06 ) --->mse= 16.27  | update: dbias= 0.07 , dw1= -0.01\n",
      "iteration  189 : (bias= 1.17 ,w1: 3.06 ) --->mse= 16.27  | update: dbias= 0.07 , dw1= -0.01\n",
      "iteration  190 : (bias= 1.17 ,w1: 3.06 ) --->mse= 16.27  | update: dbias= 0.07 , dw1= -0.01\n",
      "iteration  191 : (bias= 1.17 ,w1: 3.06 ) --->mse= 16.27  | update: dbias= 0.07 , dw1= -0.01\n",
      "iteration  192 : (bias= 1.17 ,w1: 3.06 ) --->mse= 16.27  | update: dbias= 0.07 , dw1= -0.01\n",
      "iteration  193 : (bias= 1.16 ,w1: 3.06 ) --->mse= 16.27  | update: dbias= 0.07 , dw1= -0.01\n",
      "iteration  194 : (bias= 1.16 ,w1: 3.06 ) --->mse= 16.27  | update: dbias= 0.07 , dw1= -0.01\n",
      "iteration  195 : (bias= 1.16 ,w1: 3.06 ) --->mse= 16.27  | update: dbias= 0.07 , dw1= -0.01\n",
      "iteration  196 : (bias= 1.16 ,w1: 3.06 ) --->mse= 16.27  | update: dbias= 0.07 , dw1= -0.01\n",
      "iteration  197 : (bias= 1.16 ,w1: 3.06 ) --->mse= 16.27  | update: dbias= 0.07 , dw1= -0.01\n",
      "iteration  198 : (bias= 1.16 ,w1: 3.06 ) --->mse= 16.27  | update: dbias= 0.07 , dw1= -0.01\n",
      "iteration  199 : (bias= 1.16 ,w1: 3.06 ) --->mse= 16.27  | update: dbias= 0.07 , dw1= -0.01\n",
      "iteration  200 : (bias= 1.16 ,w1: 3.06 ) --->mse= 16.27  | update: dbias= 0.06 , dw1= -0.01\n"
     ]
    },
    {
     "data": {
      "image/png": "[encoded data removed]",
      "text/plain": [
       "<Figure size 640x480 with 1 Axes>"
      ]
     },
     "metadata": {},
     "output_type": "display_data"
    },
    {
     "name": "stdout",
     "output_type": "stream",
     "text": [
      "iteration  201 : (bias= 1.16 ,w1: 3.06 ) --->mse= 16.27  | update: dbias= 0.06 , dw1= -0.01\n",
      "iteration  202 : (bias= 1.16 ,w1: 3.06 ) --->mse= 16.27  | update: dbias= 0.06 , dw1= -0.01\n",
      "iteration  203 : (bias= 1.16 ,w1: 3.06 ) --->mse= 16.27  | update: dbias= 0.06 , dw1= -0.01\n",
      "iteration  204 : (bias= 1.16 ,w1: 3.06 ) --->mse= 16.27  | update: dbias= 0.06 , dw1= -0.01\n",
      "iteration  205 : (bias= 1.16 ,w1: 3.06 ) --->mse= 16.27  | update: dbias= 0.06 , dw1= -0.01\n",
      "iteration  206 : (bias= 1.16 ,w1: 3.06 ) --->mse= 16.27  | update: dbias= 0.06 , dw1= -0.01\n",
      "iteration  207 : (bias= 1.16 ,w1: 3.06 ) --->mse= 16.27  | update: dbias= 0.06 , dw1= -0.01\n",
      "iteration  208 : (bias= 1.16 ,w1: 3.06 ) --->mse= 16.27  | update: dbias= 0.06 , dw1= -0.01\n",
      "iteration  209 : (bias= 1.15 ,w1: 3.06 ) --->mse= 16.27  | update: dbias= 0.06 , dw1= -0.01\n",
      "iteration  210 : (bias= 1.15 ,w1: 3.06 ) --->mse= 16.27  | update: dbias= 0.06 , dw1= -0.01\n",
      "iteration  211 : (bias= 1.15 ,w1: 3.06 ) --->mse= 16.27  | update: dbias= 0.06 , dw1= -0.01\n",
      "iteration  212 : (bias= 1.15 ,w1: 3.06 ) --->mse= 16.27  | update: dbias= 0.06 , dw1= -0.01\n",
      "iteration  213 : (bias= 1.15 ,w1: 3.06 ) --->mse= 16.27  | update: dbias= 0.06 , dw1= -0.01\n",
      "iteration  214 : (bias= 1.15 ,w1: 3.06 ) --->mse= 16.27  | update: dbias= 0.06 , dw1= -0.01\n",
      "iteration  215 : (bias= 1.15 ,w1: 3.06 ) --->mse= 16.27  | update: dbias= 0.06 , dw1= -0.01\n",
      "iteration  216 : (bias= 1.15 ,w1: 3.06 ) --->mse= 16.27  | update: dbias= 0.06 , dw1= -0.01\n",
      "iteration  217 : (bias= 1.15 ,w1: 3.06 ) --->mse= 16.27  | update: dbias= 0.06 , dw1= -0.01\n",
      "iteration  218 : (bias= 1.15 ,w1: 3.06 ) --->mse= 16.27  | update: dbias= 0.06 , dw1= -0.01\n",
      "iteration  219 : (bias= 1.15 ,w1: 3.06 ) --->mse= 16.27  | update: dbias= 0.06 , dw1= -0.01\n",
      "iteration  220 : (bias= 1.15 ,w1: 3.06 ) --->mse= 16.27  | update: dbias= 0.06 , dw1= -0.01\n",
      "iteration  221 : (bias= 1.15 ,w1: 3.06 ) --->mse= 16.27  | update: dbias= 0.06 , dw1= -0.01\n",
      "iteration  222 : (bias= 1.15 ,w1: 3.06 ) --->mse= 16.27  | update: dbias= 0.06 , dw1= -0.01\n",
      "iteration  223 : (bias= 1.15 ,w1: 3.06 ) --->mse= 16.27  | update: dbias= 0.06 , dw1= -0.01\n",
      "iteration  224 : (bias= 1.15 ,w1: 3.06 ) --->mse= 16.27  | update: dbias= 0.06 , dw1= -0.01\n",
      "iteration  225 : (bias= 1.15 ,w1: 3.06 ) --->mse= 16.27  | update: dbias= 0.06 , dw1= -0.01\n",
      "iteration  226 : (bias= 1.14 ,w1: 3.06 ) --->mse= 16.27  | update: dbias= 0.06 , dw1= -0.01\n",
      "iteration  227 : (bias= 1.14 ,w1: 3.06 ) --->mse= 16.27  | update: dbias= 0.06 , dw1= -0.01\n",
      "iteration  228 : (bias= 1.14 ,w1: 3.06 ) --->mse= 16.27  | update: dbias= 0.06 , dw1= -0.01\n",
      "iteration  229 : (bias= 1.14 ,w1: 3.06 ) --->mse= 16.27  | update: dbias= 0.06 , dw1= -0.01\n",
      "iteration  230 : (bias= 1.14 ,w1: 3.06 ) --->mse= 16.27  | update: dbias= 0.06 , dw1= -0.01\n",
      "iteration  231 : (bias= 1.14 ,w1: 3.06 ) --->mse= 16.27  | update: dbias= 0.05 , dw1= -0.01\n",
      "iteration  232 : (bias= 1.14 ,w1: 3.06 ) --->mse= 16.27  | update: dbias= 0.05 , dw1= -0.01\n",
      "iteration  233 : (bias= 1.14 ,w1: 3.06 ) --->mse= 16.27  | update: dbias= 0.05 , dw1= -0.01\n",
      "iteration  234 : (bias= 1.14 ,w1: 3.06 ) --->mse= 16.27  | update: dbias= 0.05 , dw1= -0.01\n",
      "iteration  235 : (bias= 1.14 ,w1: 3.06 ) --->mse= 16.27  | update: dbias= 0.05 , dw1= -0.01\n",
      "iteration  236 : (bias= 1.14 ,w1: 3.06 ) --->mse= 16.27  | update: dbias= 0.05 , dw1= -0.01\n",
      "iteration  237 : (bias= 1.14 ,w1: 3.06 ) --->mse= 16.27  | update: dbias= 0.05 , dw1= -0.01\n",
      "iteration  238 : (bias= 1.14 ,w1: 3.07 ) --->mse= 16.27  | update: dbias= 0.05 , dw1= -0.01\n",
      "iteration  239 : (bias= 1.14 ,w1: 3.07 ) --->mse= 16.27  | update: dbias= 0.05 , dw1= -0.01\n",
      "iteration  240 : (bias= 1.14 ,w1: 3.07 ) --->mse= 16.27  | update: dbias= 0.05 , dw1= -0.01\n",
      "iteration  241 : (bias= 1.14 ,w1: 3.07 ) --->mse= 16.27  | update: dbias= 0.05 , dw1= -0.01\n",
      "iteration  242 : (bias= 1.14 ,w1: 3.07 ) --->mse= 16.27  | update: dbias= 0.05 , dw1= -0.01\n",
      "iteration  243 : (bias= 1.14 ,w1: 3.07 ) --->mse= 16.27  | update: dbias= 0.05 , dw1= -0.01\n",
      "iteration  244 : (bias= 1.13 ,w1: 3.07 ) --->mse= 16.27  | update: dbias= 0.05 , dw1= -0.01\n",
      "iteration  245 : (bias= 1.13 ,w1: 3.07 ) --->mse= 16.27  | update: dbias= 0.05 , dw1= -0.01\n",
      "iteration  246 : (bias= 1.13 ,w1: 3.07 ) --->mse= 16.27  | update: dbias= 0.05 , dw1= -0.01\n",
      "iteration  247 : (bias= 1.13 ,w1: 3.07 ) --->mse= 16.27  | update: dbias= 0.05 , dw1= -0.01\n",
      "iteration  248 : (bias= 1.13 ,w1: 3.07 ) --->mse= 16.27  | update: dbias= 0.05 , dw1= -0.01\n",
      "iteration  249 : (bias= 1.13 ,w1: 3.07 ) --->mse= 16.27  | update: dbias= 0.05 , dw1= -0.01\n",
      "iteration  250 : (bias= 1.13 ,w1: 3.07 ) --->mse= 16.27  | update: dbias= 0.05 , dw1= -0.01\n",
      "iteration  251 : (bias= 1.13 ,w1: 3.07 ) --->mse= 16.27  | update: dbias= 0.05 , dw1= -0.01\n",
      "iteration  252 : (bias= 1.13 ,w1: 3.07 ) --->mse= 16.27  | update: dbias= 0.05 , dw1= -0.01\n",
      "iteration  253 : (bias= 1.13 ,w1: 3.07 ) --->mse= 16.27  | update: dbias= 0.05 , dw1= -0.01\n",
      "iteration  254 : (bias= 1.13 ,w1: 3.07 ) --->mse= 16.27  | update: dbias= 0.05 , dw1= -0.01\n",
      "iteration  255 : (bias= 1.13 ,w1: 3.07 ) --->mse= 16.27  | update: dbias= 0.05 , dw1= -0.01\n",
      "iteration  256 : (bias= 1.13 ,w1: 3.07 ) --->mse= 16.27  | update: dbias= 0.05 , dw1= -0.01\n",
      "iteration  257 : (bias= 1.13 ,w1: 3.07 ) --->mse= 16.27  | update: dbias= 0.05 , dw1= -0.01\n",
      "iteration  258 : (bias= 1.13 ,w1: 3.07 ) --->mse= 16.27  | update: dbias= 0.05 , dw1= -0.01\n",
      "iteration  259 : (bias= 1.13 ,w1: 3.07 ) --->mse= 16.27  | update: dbias= 0.05 , dw1= -0.01\n",
      "iteration  260 : (bias= 1.13 ,w1: 3.07 ) --->mse= 16.27  | update: dbias= 0.05 , dw1= -0.01\n",
      "iteration  261 : (bias= 1.13 ,w1: 3.07 ) --->mse= 16.27  | update: dbias= 0.05 , dw1= -0.01\n",
      "iteration  262 : (bias= 1.13 ,w1: 3.07 ) --->mse= 16.27  | update: dbias= 0.05 , dw1= -0.01\n",
      "iteration  263 : (bias= 1.13 ,w1: 3.07 ) --->mse= 16.27  | update: dbias= 0.05 , dw1= -0.01\n",
      "iteration  264 : (bias= 1.13 ,w1: 3.07 ) --->mse= 16.27  | update: dbias= 0.05 , dw1= -0.01\n",
      "iteration  265 : (bias= 1.12 ,w1: 3.07 ) --->mse= 16.27  | update: dbias= 0.05 , dw1= -0.01\n",
      "iteration  266 : (bias= 1.12 ,w1: 3.07 ) --->mse= 16.27  | update: dbias= 0.05 , dw1= -0.01\n",
      "iteration  267 : (bias= 1.12 ,w1: 3.07 ) --->mse= 16.27  | update: dbias= 0.05 , dw1= -0.01\n",
      "iteration  268 : (bias= 1.12 ,w1: 3.07 ) --->mse= 16.27  | update: dbias= 0.04 , dw1= -0.01\n",
      "iteration  269 : (bias= 1.12 ,w1: 3.07 ) --->mse= 16.27  | update: dbias= 0.04 , dw1= -0.01\n",
      "iteration  270 : (bias= 1.12 ,w1: 3.07 ) --->mse= 16.27  | update: dbias= 0.04 , dw1= -0.01\n",
      "iteration  271 : (bias= 1.12 ,w1: 3.07 ) --->mse= 16.27  | update: dbias= 0.04 , dw1= -0.01\n",
      "iteration  272 : (bias= 1.12 ,w1: 3.07 ) --->mse= 16.27  | update: dbias= 0.04 , dw1= -0.01\n",
      "iteration  273 : (bias= 1.12 ,w1: 3.07 ) --->mse= 16.27  | update: dbias= 0.04 , dw1= -0.01\n",
      "iteration  274 : (bias= 1.12 ,w1: 3.07 ) --->mse= 16.27  | update: dbias= 0.04 , dw1= -0.01\n",
      "iteration  275 : (bias= 1.12 ,w1: 3.07 ) --->mse= 16.27  | update: dbias= 0.04 , dw1= -0.01\n",
      "iteration  276 : (bias= 1.12 ,w1: 3.07 ) --->mse= 16.27  | update: dbias= 0.04 , dw1= -0.01\n",
      "iteration  277 : (bias= 1.12 ,w1: 3.07 ) --->mse= 16.27  | update: dbias= 0.04 , dw1= -0.01\n",
      "iteration  278 : (bias= 1.12 ,w1: 3.07 ) --->mse= 16.27  | update: dbias= 0.04 , dw1= -0.01\n",
      "iteration  279 : (bias= 1.12 ,w1: 3.07 ) --->mse= 16.27  | update: dbias= 0.04 , dw1= -0.01\n",
      "iteration  280 : (bias= 1.12 ,w1: 3.07 ) --->mse= 16.27  | update: dbias= 0.04 , dw1= -0.01\n",
      "iteration  281 : (bias= 1.12 ,w1: 3.07 ) --->mse= 16.27  | update: dbias= 0.04 , dw1= -0.01\n",
      "iteration  282 : (bias= 1.12 ,w1: 3.07 ) --->mse= 16.27  | update: dbias= 0.04 , dw1= -0.01\n",
      "iteration  283 : (bias= 1.12 ,w1: 3.07 ) --->mse= 16.27  | update: dbias= 0.04 , dw1= -0.01\n",
      "iteration  284 : (bias= 1.12 ,w1: 3.07 ) --->mse= 16.27  | update: dbias= 0.04 , dw1= -0.01\n",
      "iteration  285 : (bias= 1.12 ,w1: 3.07 ) --->mse= 16.27  | update: dbias= 0.04 , dw1= -0.01\n",
      "iteration  286 : (bias= 1.12 ,w1: 3.07 ) --->mse= 16.27  | update: dbias= 0.04 , dw1= -0.01\n",
      "iteration  287 : (bias= 1.12 ,w1: 3.07 ) --->mse= 16.27  | update: dbias= 0.04 , dw1= -0.01\n",
      "iteration  288 : (bias= 1.11 ,w1: 3.07 ) --->mse= 16.27  | update: dbias= 0.04 , dw1= -0.01\n",
      "iteration  289 : (bias= 1.11 ,w1: 3.07 ) --->mse= 16.27  | update: dbias= 0.04 , dw1= -0.01\n",
      "iteration  290 : (bias= 1.11 ,w1: 3.07 ) --->mse= 16.27  | update: dbias= 0.04 , dw1= -0.01\n",
      "iteration  291 : (bias= 1.11 ,w1: 3.07 ) --->mse= 16.27  | update: dbias= 0.04 , dw1= -0.01\n",
      "iteration  292 : (bias= 1.11 ,w1: 3.07 ) --->mse= 16.27  | update: dbias= 0.04 , dw1= -0.01\n",
      "iteration  293 : (bias= 1.11 ,w1: 3.07 ) --->mse= 16.27  | update: dbias= 0.04 , dw1= -0.01\n",
      "iteration  294 : (bias= 1.11 ,w1: 3.07 ) --->mse= 16.27  | update: dbias= 0.04 , dw1= -0.01\n",
      "iteration  295 : (bias= 1.11 ,w1: 3.07 ) --->mse= 16.27  | update: dbias= 0.04 , dw1= -0.01\n",
      "iteration  296 : (bias= 1.11 ,w1: 3.07 ) --->mse= 16.27  | update: dbias= 0.04 , dw1= -0.01\n",
      "iteration  297 : (bias= 1.11 ,w1: 3.07 ) --->mse= 16.27  | update: dbias= 0.04 , dw1= -0.01\n",
      "iteration  298 : (bias= 1.11 ,w1: 3.07 ) --->mse= 16.27  | update: dbias= 0.04 , dw1= -0.01\n",
      "iteration  299 : (bias= 1.11 ,w1: 3.07 ) --->mse= 16.27  | update: dbias= 0.04 , dw1= -0.01\n",
      "iteration  300 : (bias= 1.11 ,w1: 3.07 ) --->mse= 16.27  | update: dbias= 0.04 , dw1= -0.01\n"
     ]
    },
    {
     "data": {
      "image/png": "[encoded data removed]",
      "text/plain": [
       "<Figure size 640x480 with 1 Axes>"
      ]
     },
     "metadata": {},
     "output_type": "display_data"
    },
    {
     "name": "stdout",
     "output_type": "stream",
     "text": [
      "iteration  301 : (bias= 1.11 ,w1: 3.07 ) --->mse= 16.27  | update: dbias= 0.04 , dw1= -0.01\n",
      "iteration  302 : (bias= 1.11 ,w1: 3.07 ) --->mse= 16.27  | update: dbias= 0.04 , dw1= -0.01\n",
      "iteration  303 : (bias= 1.11 ,w1: 3.07 ) --->mse= 16.27  | update: dbias= 0.04 , dw1= -0.01\n",
      "iteration  304 : (bias= 1.11 ,w1: 3.07 ) --->mse= 16.27  | update: dbias= 0.04 , dw1= -0.01\n",
      "iteration  305 : (bias= 1.11 ,w1: 3.07 ) --->mse= 16.27  | update: dbias= 0.04 , dw1= -0.01\n",
      "iteration  306 : (bias= 1.11 ,w1: 3.07 ) --->mse= 16.27  | update: dbias= 0.04 , dw1= -0.01\n",
      "iteration  307 : (bias= 1.11 ,w1: 3.07 ) --->mse= 16.27  | update: dbias= 0.04 , dw1= -0.01\n",
      "iteration  308 : (bias= 1.11 ,w1: 3.07 ) --->mse= 16.27  | update: dbias= 0.04 , dw1= -0.01\n",
      "iteration  309 : (bias= 1.11 ,w1: 3.07 ) --->mse= 16.27  | update: dbias= 0.04 , dw1= -0.01\n",
      "iteration  310 : (bias= 1.11 ,w1: 3.07 ) --->mse= 16.27  | update: dbias= 0.04 , dw1= -0.01\n",
      "iteration  311 : (bias= 1.11 ,w1: 3.07 ) --->mse= 16.27  | update: dbias= 0.04 , dw1= -0.01\n",
      "iteration  312 : (bias= 1.11 ,w1: 3.07 ) --->mse= 16.27  | update: dbias= 0.04 , dw1= -0.01\n",
      "iteration  313 : (bias= 1.11 ,w1: 3.07 ) --->mse= 16.27  | update: dbias= 0.04 , dw1= -0.01\n",
      "iteration  314 : (bias= 1.1 ,w1: 3.07 ) --->mse= 16.27  | update: dbias= 0.03 , dw1= -0.01\n",
      "iteration  315 : (bias= 1.1 ,w1: 3.07 ) --->mse= 16.27  | update: dbias= 0.03 , dw1= -0.01\n",
      "iteration  316 : (bias= 1.1 ,w1: 3.07 ) --->mse= 16.27  | update: dbias= 0.03 , dw1= -0.01\n",
      "iteration  317 : (bias= 1.1 ,w1: 3.07 ) --->mse= 16.27  | update: dbias= 0.03 , dw1= -0.01\n",
      "iteration  318 : (bias= 1.1 ,w1: 3.07 ) --->mse= 16.27  | update: dbias= 0.03 , dw1= -0.01\n",
      "iteration  319 : (bias= 1.1 ,w1: 3.07 ) --->mse= 16.27  | update: dbias= 0.03 , dw1= -0.01\n",
      "iteration  320 : (bias= 1.1 ,w1: 3.07 ) --->mse= 16.27  | update: dbias= 0.03 , dw1= -0.01\n",
      "iteration  321 : (bias= 1.1 ,w1: 3.07 ) --->mse= 16.27  | update: dbias= 0.03 , dw1= -0.01\n",
      "iteration  322 : (bias= 1.1 ,w1: 3.07 ) --->mse= 16.27  | update: dbias= 0.03 , dw1= -0.01\n",
      "iteration  323 : (bias= 1.1 ,w1: 3.07 ) --->mse= 16.27  | update: dbias= 0.03 , dw1= -0.01\n",
      "iteration  324 : (bias= 1.1 ,w1: 3.07 ) --->mse= 16.27  | update: dbias= 0.03 , dw1= -0.01\n",
      "iteration  325 : (bias= 1.1 ,w1: 3.07 ) --->mse= 16.27  | update: dbias= 0.03 , dw1= -0.01\n",
      "iteration  326 : (bias= 1.1 ,w1: 3.07 ) --->mse= 16.27  | update: dbias= 0.03 , dw1= -0.01\n",
      "iteration  327 : (bias= 1.1 ,w1: 3.07 ) --->mse= 16.27  | update: dbias= 0.03 , dw1= -0.01\n",
      "iteration  328 : (bias= 1.1 ,w1: 3.07 ) --->mse= 16.27  | update: dbias= 0.03 , dw1= -0.01\n",
      "iteration  329 : (bias= 1.1 ,w1: 3.07 ) --->mse= 16.27  | update: dbias= 0.03 , dw1= -0.01\n",
      "iteration  330 : (bias= 1.1 ,w1: 3.07 ) --->mse= 16.27  | update: dbias= 0.03 , dw1= -0.01\n",
      "iteration  331 : (bias= 1.1 ,w1: 3.07 ) --->mse= 16.27  | update: dbias= 0.03 , dw1= -0.0\n",
      "iteration  332 : (bias= 1.1 ,w1: 3.07 ) --->mse= 16.27  | update: dbias= 0.03 , dw1= -0.0\n",
      "iteration  333 : (bias= 1.1 ,w1: 3.07 ) --->mse= 16.27  | update: dbias= 0.03 , dw1= -0.0\n",
      "iteration  334 : (bias= 1.1 ,w1: 3.07 ) --->mse= 16.27  | update: dbias= 0.03 , dw1= -0.0\n",
      "iteration  335 : (bias= 1.1 ,w1: 3.07 ) --->mse= 16.27  | update: dbias= 0.03 , dw1= -0.0\n",
      "iteration  336 : (bias= 1.1 ,w1: 3.07 ) --->mse= 16.27  | update: dbias= 0.03 , dw1= -0.0\n",
      "iteration  337 : (bias= 1.1 ,w1: 3.07 ) --->mse= 16.27  | update: dbias= 0.03 , dw1= -0.0\n",
      "iteration  338 : (bias= 1.1 ,w1: 3.07 ) --->mse= 16.27  | update: dbias= 0.03 , dw1= -0.0\n",
      "iteration  339 : (bias= 1.1 ,w1: 3.07 ) --->mse= 16.27  | update: dbias= 0.03 , dw1= -0.0\n",
      "iteration  340 : (bias= 1.1 ,w1: 3.07 ) --->mse= 16.27  | update: dbias= 0.03 , dw1= -0.0\n",
      "iteration  341 : (bias= 1.1 ,w1: 3.07 ) --->mse= 16.27  | update: dbias= 0.03 , dw1= -0.0\n",
      "iteration  342 : (bias= 1.1 ,w1: 3.07 ) --->mse= 16.27  | update: dbias= 0.03 , dw1= -0.0\n",
      "iteration  343 : (bias= 1.1 ,w1: 3.07 ) --->mse= 16.27  | update: dbias= 0.03 , dw1= -0.0\n",
      "iteration  344 : (bias= 1.1 ,w1: 3.07 ) --->mse= 16.27  | update: dbias= 0.03 , dw1= -0.0\n",
      "iteration  345 : (bias= 1.1 ,w1: 3.07 ) --->mse= 16.27  | update: dbias= 0.03 , dw1= -0.0\n",
      "iteration  346 : (bias= 1.09 ,w1: 3.07 ) --->mse= 16.27  | update: dbias= 0.03 , dw1= -0.0\n",
      "iteration  347 : (bias= 1.09 ,w1: 3.07 ) --->mse= 16.27  | update: dbias= 0.03 , dw1= -0.0\n",
      "iteration  348 : (bias= 1.09 ,w1: 3.07 ) --->mse= 16.27  | update: dbias= 0.03 , dw1= -0.0\n",
      "iteration  349 : (bias= 1.09 ,w1: 3.07 ) --->mse= 16.27  | update: dbias= 0.03 , dw1= -0.0\n",
      "iteration  350 : (bias= 1.09 ,w1: 3.07 ) --->mse= 16.27  | update: dbias= 0.03 , dw1= -0.0\n",
      "iteration  351 : (bias= 1.09 ,w1: 3.07 ) --->mse= 16.27  | update: dbias= 0.03 , dw1= -0.0\n",
      "iteration  352 : (bias= 1.09 ,w1: 3.07 ) --->mse= 16.27  | update: dbias= 0.03 , dw1= -0.0\n",
      "iteration  353 : (bias= 1.09 ,w1: 3.07 ) --->mse= 16.27  | update: dbias= 0.03 , dw1= -0.0\n",
      "iteration  354 : (bias= 1.09 ,w1: 3.07 ) --->mse= 16.27  | update: dbias= 0.03 , dw1= -0.0\n",
      "iteration  355 : (bias= 1.09 ,w1: 3.07 ) --->mse= 16.27  | update: dbias= 0.03 , dw1= -0.0\n",
      "iteration  356 : (bias= 1.09 ,w1: 3.07 ) --->mse= 16.27  | update: dbias= 0.03 , dw1= -0.0\n",
      "iteration  357 : (bias= 1.09 ,w1: 3.07 ) --->mse= 16.27  | update: dbias= 0.03 , dw1= -0.0\n",
      "iteration  358 : (bias= 1.09 ,w1: 3.07 ) --->mse= 16.27  | update: dbias= 0.03 , dw1= -0.0\n",
      "iteration  359 : (bias= 1.09 ,w1: 3.07 ) --->mse= 16.27  | update: dbias= 0.03 , dw1= -0.0\n",
      "iteration  360 : (bias= 1.09 ,w1: 3.07 ) --->mse= 16.27  | update: dbias= 0.03 , dw1= -0.0\n",
      "iteration  361 : (bias= 1.09 ,w1: 3.07 ) --->mse= 16.27  | update: dbias= 0.03 , dw1= -0.0\n",
      "iteration  362 : (bias= 1.09 ,w1: 3.07 ) --->mse= 16.27  | update: dbias= 0.03 , dw1= -0.0\n",
      "iteration  363 : (bias= 1.09 ,w1: 3.07 ) --->mse= 16.27  | update: dbias= 0.03 , dw1= -0.0\n",
      "iteration  364 : (bias= 1.09 ,w1: 3.07 ) --->mse= 16.27  | update: dbias= 0.03 , dw1= -0.0\n",
      "iteration  365 : (bias= 1.09 ,w1: 3.07 ) --->mse= 16.27  | update: dbias= 0.03 , dw1= -0.0\n",
      "iteration  366 : (bias= 1.09 ,w1: 3.07 ) --->mse= 16.27  | update: dbias= 0.03 , dw1= -0.0\n",
      "iteration  367 : (bias= 1.09 ,w1: 3.07 ) --->mse= 16.27  | update: dbias= 0.03 , dw1= -0.0\n",
      "iteration  368 : (bias= 1.09 ,w1: 3.07 ) --->mse= 16.27  | update: dbias= 0.03 , dw1= -0.0\n",
      "iteration  369 : (bias= 1.09 ,w1: 3.07 ) --->mse= 16.27  | update: dbias= 0.03 , dw1= -0.0\n",
      "iteration  370 : (bias= 1.09 ,w1: 3.07 ) --->mse= 16.27  | update: dbias= 0.03 , dw1= -0.0\n",
      "iteration  371 : (bias= 1.09 ,w1: 3.07 ) --->mse= 16.27  | update: dbias= 0.03 , dw1= -0.0\n",
      "iteration  372 : (bias= 1.09 ,w1: 3.07 ) --->mse= 16.27  | update: dbias= 0.03 , dw1= -0.0\n",
      "iteration  373 : (bias= 1.09 ,w1: 3.07 ) --->mse= 16.27  | update: dbias= 0.03 , dw1= -0.0\n",
      "iteration  374 : (bias= 1.09 ,w1: 3.07 ) --->mse= 16.27  | update: dbias= 0.03 , dw1= -0.0\n",
      "iteration  375 : (bias= 1.09 ,w1: 3.07 ) --->mse= 16.27  | update: dbias= 0.03 , dw1= -0.0\n",
      "iteration  376 : (bias= 1.09 ,w1: 3.07 ) --->mse= 16.27  | update: dbias= 0.02 , dw1= -0.0\n",
      "iteration  377 : (bias= 1.09 ,w1: 3.07 ) --->mse= 16.27  | update: dbias= 0.02 , dw1= -0.0\n",
      "iteration  378 : (bias= 1.09 ,w1: 3.07 ) --->mse= 16.27  | update: dbias= 0.02 , dw1= -0.0\n",
      "iteration  379 : (bias= 1.09 ,w1: 3.07 ) --->mse= 16.27  | update: dbias= 0.02 , dw1= -0.0\n",
      "iteration  380 : (bias= 1.09 ,w1: 3.07 ) --->mse= 16.27  | update: dbias= 0.02 , dw1= -0.0\n",
      "iteration  381 : (bias= 1.09 ,w1: 3.07 ) --->mse= 16.27  | update: dbias= 0.02 , dw1= -0.0\n",
      "iteration  382 : (bias= 1.09 ,w1: 3.07 ) --->mse= 16.27  | update: dbias= 0.02 , dw1= -0.0\n",
      "iteration  383 : (bias= 1.08 ,w1: 3.07 ) --->mse= 16.27  | update: dbias= 0.02 , dw1= -0.0\n",
      "iteration  384 : (bias= 1.08 ,w1: 3.07 ) --->mse= 16.27  | update: dbias= 0.02 , dw1= -0.0\n",
      "iteration  385 : (bias= 1.08 ,w1: 3.07 ) --->mse= 16.27  | update: dbias= 0.02 , dw1= -0.0\n",
      "iteration  386 : (bias= 1.08 ,w1: 3.07 ) --->mse= 16.27  | update: dbias= 0.02 , dw1= -0.0\n",
      "iteration  387 : (bias= 1.08 ,w1: 3.07 ) --->mse= 16.27  | update: dbias= 0.02 , dw1= -0.0\n",
      "iteration  388 : (bias= 1.08 ,w1: 3.07 ) --->mse= 16.27  | update: dbias= 0.02 , dw1= -0.0\n",
      "iteration  389 : (bias= 1.08 ,w1: 3.07 ) --->mse= 16.27  | update: dbias= 0.02 , dw1= -0.0\n",
      "iteration  390 : (bias= 1.08 ,w1: 3.07 ) --->mse= 16.27  | update: dbias= 0.02 , dw1= -0.0\n",
      "iteration  391 : (bias= 1.08 ,w1: 3.07 ) --->mse= 16.27  | update: dbias= 0.02 , dw1= -0.0\n",
      "iteration  392 : (bias= 1.08 ,w1: 3.07 ) --->mse= 16.27  | update: dbias= 0.02 , dw1= -0.0\n",
      "iteration  393 : (bias= 1.08 ,w1: 3.07 ) --->mse= 16.27  | update: dbias= 0.02 , dw1= -0.0\n",
      "iteration  394 : (bias= 1.08 ,w1: 3.07 ) --->mse= 16.27  | update: dbias= 0.02 , dw1= -0.0\n",
      "iteration  395 : (bias= 1.08 ,w1: 3.07 ) --->mse= 16.27  | update: dbias= 0.02 , dw1= -0.0\n",
      "iteration  396 : (bias= 1.08 ,w1: 3.07 ) --->mse= 16.27  | update: dbias= 0.02 , dw1= -0.0\n",
      "iteration  397 : (bias= 1.08 ,w1: 3.07 ) --->mse= 16.27  | update: dbias= 0.02 , dw1= -0.0\n",
      "iteration  398 : (bias= 1.08 ,w1: 3.07 ) --->mse= 16.27  | update: dbias= 0.02 , dw1= -0.0\n",
      "iteration  399 : (bias= 1.08 ,w1: 3.07 ) --->mse= 16.27  | update: dbias= 0.02 , dw1= -0.0\n",
      "iteration  400 : (bias= 1.08 ,w1: 3.07 ) --->mse= 16.27  | update: dbias= 0.02 , dw1= -0.0\n"
     ]
    },
    {
     "data": {
      "image/png": "[encoded data removed]",
      "text/plain": [
       "<Figure size 640x480 with 1 Axes>"
      ]
     },
     "metadata": {},
     "output_type": "display_data"
    },
    {
     "name": "stdout",
     "output_type": "stream",
     "text": [
      "iteration  401 : (bias= 1.08 ,w1: 3.07 ) --->mse= 16.27  | update: dbias= 0.02 , dw1= -0.0\n",
      "iteration  402 : (bias= 1.08 ,w1: 3.07 ) --->mse= 16.27  | update: dbias= 0.02 , dw1= -0.0\n",
      "iteration  403 : (bias= 1.08 ,w1: 3.07 ) --->mse= 16.27  | update: dbias= 0.02 , dw1= -0.0\n",
      "iteration  404 : (bias= 1.08 ,w1: 3.07 ) --->mse= 16.27  | update: dbias= 0.02 , dw1= -0.0\n",
      "iteration  405 : (bias= 1.08 ,w1: 3.07 ) --->mse= 16.27  | update: dbias= 0.02 , dw1= -0.0\n",
      "iteration  406 : (bias= 1.08 ,w1: 3.07 ) --->mse= 16.27  | update: dbias= 0.02 , dw1= -0.0\n",
      "iteration  407 : (bias= 1.08 ,w1: 3.07 ) --->mse= 16.27  | update: dbias= 0.02 , dw1= -0.0\n",
      "iteration  408 : (bias= 1.08 ,w1: 3.07 ) --->mse= 16.27  | update: dbias= 0.02 , dw1= -0.0\n",
      "iteration  409 : (bias= 1.08 ,w1: 3.07 ) --->mse= 16.27  | update: dbias= 0.02 , dw1= -0.0\n",
      "iteration  410 : (bias= 1.08 ,w1: 3.07 ) --->mse= 16.27  | update: dbias= 0.02 , dw1= -0.0\n",
      "iteration  411 : (bias= 1.08 ,w1: 3.07 ) --->mse= 16.27  | update: dbias= 0.02 , dw1= -0.0\n",
      "iteration  412 : (bias= 1.08 ,w1: 3.07 ) --->mse= 16.27  | update: dbias= 0.02 , dw1= -0.0\n",
      "iteration  413 : (bias= 1.08 ,w1: 3.07 ) --->mse= 16.27  | update: dbias= 0.02 , dw1= -0.0\n",
      "iteration  414 : (bias= 1.08 ,w1: 3.07 ) --->mse= 16.27  | update: dbias= 0.02 , dw1= -0.0\n",
      "iteration  415 : (bias= 1.08 ,w1: 3.07 ) --->mse= 16.27  | update: dbias= 0.02 , dw1= -0.0\n",
      "iteration  416 : (bias= 1.08 ,w1: 3.07 ) --->mse= 16.27  | update: dbias= 0.02 , dw1= -0.0\n",
      "iteration  417 : (bias= 1.08 ,w1: 3.07 ) --->mse= 16.27  | update: dbias= 0.02 , dw1= -0.0\n",
      "iteration  418 : (bias= 1.08 ,w1: 3.07 ) --->mse= 16.27  | update: dbias= 0.02 , dw1= -0.0\n",
      "iteration  419 : (bias= 1.08 ,w1: 3.07 ) --->mse= 16.27  | update: dbias= 0.02 , dw1= -0.0\n",
      "iteration  420 : (bias= 1.08 ,w1: 3.07 ) --->mse= 16.27  | update: dbias= 0.02 , dw1= -0.0\n",
      "iteration  421 : (bias= 1.08 ,w1: 3.07 ) --->mse= 16.27  | update: dbias= 0.02 , dw1= -0.0\n",
      "iteration  422 : (bias= 1.08 ,w1: 3.07 ) --->mse= 16.27  | update: dbias= 0.02 , dw1= -0.0\n",
      "iteration  423 : (bias= 1.08 ,w1: 3.07 ) --->mse= 16.27  | update: dbias= 0.02 , dw1= -0.0\n",
      "iteration  424 : (bias= 1.08 ,w1: 3.07 ) --->mse= 16.27  | update: dbias= 0.02 , dw1= -0.0\n",
      "iteration  425 : (bias= 1.08 ,w1: 3.07 ) --->mse= 16.27  | update: dbias= 0.02 , dw1= -0.0\n",
      "iteration  426 : (bias= 1.08 ,w1: 3.07 ) --->mse= 16.27  | update: dbias= 0.02 , dw1= -0.0\n",
      "iteration  427 : (bias= 1.08 ,w1: 3.07 ) --->mse= 16.27  | update: dbias= 0.02 , dw1= -0.0\n",
      "iteration  428 : (bias= 1.08 ,w1: 3.07 ) --->mse= 16.27  | update: dbias= 0.02 , dw1= -0.0\n",
      "iteration  429 : (bias= 1.08 ,w1: 3.07 ) --->mse= 16.27  | update: dbias= 0.02 , dw1= -0.0\n",
      "iteration  430 : (bias= 1.07 ,w1: 3.07 ) --->mse= 16.27  | update: dbias= 0.02 , dw1= -0.0\n",
      "iteration  431 : (bias= 1.07 ,w1: 3.07 ) --->mse= 16.27  | update: dbias= 0.02 , dw1= -0.0\n",
      "iteration  432 : (bias= 1.07 ,w1: 3.07 ) --->mse= 16.27  | update: dbias= 0.02 , dw1= -0.0\n",
      "iteration  433 : (bias= 1.07 ,w1: 3.08 ) --->mse= 16.27  | update: dbias= 0.02 , dw1= -0.0\n",
      "iteration  434 : (bias= 1.07 ,w1: 3.08 ) --->mse= 16.27  | update: dbias= 0.02 , dw1= -0.0\n",
      "iteration  435 : (bias= 1.07 ,w1: 3.08 ) --->mse= 16.27  | update: dbias= 0.02 , dw1= -0.0\n",
      "iteration  436 : (bias= 1.07 ,w1: 3.08 ) --->mse= 16.27  | update: dbias= 0.02 , dw1= -0.0\n",
      "iteration  437 : (bias= 1.07 ,w1: 3.08 ) --->mse= 16.27  | update: dbias= 0.02 , dw1= -0.0\n",
      "iteration  438 : (bias= 1.07 ,w1: 3.08 ) --->mse= 16.27  | update: dbias= 0.02 , dw1= -0.0\n",
      "iteration  439 : (bias= 1.07 ,w1: 3.08 ) --->mse= 16.27  | update: dbias= 0.02 , dw1= -0.0\n",
      "iteration  440 : (bias= 1.07 ,w1: 3.08 ) --->mse= 16.27  | update: dbias= 0.02 , dw1= -0.0\n",
      "iteration  441 : (bias= 1.07 ,w1: 3.08 ) --->mse= 16.27  | update: dbias= 0.02 , dw1= -0.0\n",
      "iteration  442 : (bias= 1.07 ,w1: 3.08 ) --->mse= 16.27  | update: dbias= 0.02 , dw1= -0.0\n",
      "iteration  443 : (bias= 1.07 ,w1: 3.08 ) --->mse= 16.27  | update: dbias= 0.02 , dw1= -0.0\n",
      "iteration  444 : (bias= 1.07 ,w1: 3.08 ) --->mse= 16.27  | update: dbias= 0.02 , dw1= -0.0\n",
      "iteration  445 : (bias= 1.07 ,w1: 3.08 ) --->mse= 16.27  | update: dbias= 0.02 , dw1= -0.0\n",
      "iteration  446 : (bias= 1.07 ,w1: 3.08 ) --->mse= 16.27  | update: dbias= 0.02 , dw1= -0.0\n",
      "iteration  447 : (bias= 1.07 ,w1: 3.08 ) --->mse= 16.27  | update: dbias= 0.02 , dw1= -0.0\n",
      "iteration  448 : (bias= 1.07 ,w1: 3.08 ) --->mse= 16.27  | update: dbias= 0.02 , dw1= -0.0\n",
      "iteration  449 : (bias= 1.07 ,w1: 3.08 ) --->mse= 16.27  | update: dbias= 0.02 , dw1= -0.0\n",
      "iteration  450 : (bias= 1.07 ,w1: 3.08 ) --->mse= 16.27  | update: dbias= 0.02 , dw1= -0.0\n",
      "iteration  451 : (bias= 1.07 ,w1: 3.08 ) --->mse= 16.27  | update: dbias= 0.02 , dw1= -0.0\n",
      "iteration  452 : (bias= 1.07 ,w1: 3.08 ) --->mse= 16.27  | update: dbias= 0.02 , dw1= -0.0\n",
      "iteration  453 : (bias= 1.07 ,w1: 3.08 ) --->mse= 16.27  | update: dbias= 0.02 , dw1= -0.0\n",
      "iteration  454 : (bias= 1.07 ,w1: 3.08 ) --->mse= 16.27  | update: dbias= 0.02 , dw1= -0.0\n",
      "iteration  455 : (bias= 1.07 ,w1: 3.08 ) --->mse= 16.27  | update: dbias= 0.02 , dw1= -0.0\n",
      "iteration  456 : (bias= 1.07 ,w1: 3.08 ) --->mse= 16.27  | update: dbias= 0.02 , dw1= -0.0\n",
      "iteration  457 : (bias= 1.07 ,w1: 3.08 ) --->mse= 16.27  | update: dbias= 0.02 , dw1= -0.0\n",
      "iteration  458 : (bias= 1.07 ,w1: 3.08 ) --->mse= 16.27  | update: dbias= 0.02 , dw1= -0.0\n",
      "iteration  459 : (bias= 1.07 ,w1: 3.08 ) --->mse= 16.27  | update: dbias= 0.02 , dw1= -0.0\n",
      "iteration  460 : (bias= 1.07 ,w1: 3.08 ) --->mse= 16.27  | update: dbias= 0.02 , dw1= -0.0\n",
      "iteration  461 : (bias= 1.07 ,w1: 3.08 ) --->mse= 16.27  | update: dbias= 0.02 , dw1= -0.0\n",
      "iteration  462 : (bias= 1.07 ,w1: 3.08 ) --->mse= 16.27  | update: dbias= 0.02 , dw1= -0.0\n",
      "iteration  463 : (bias= 1.07 ,w1: 3.08 ) --->mse= 16.27  | update: dbias= 0.02 , dw1= -0.0\n",
      "iteration  464 : (bias= 1.07 ,w1: 3.08 ) --->mse= 16.27  | update: dbias= 0.02 , dw1= -0.0\n",
      "iteration  465 : (bias= 1.07 ,w1: 3.08 ) --->mse= 16.27  | update: dbias= 0.02 , dw1= -0.0\n",
      "iteration  466 : (bias= 1.07 ,w1: 3.08 ) --->mse= 16.27  | update: dbias= 0.02 , dw1= -0.0\n",
      "iteration  467 : (bias= 1.07 ,w1: 3.08 ) --->mse= 16.27  | update: dbias= 0.02 , dw1= -0.0\n",
      "iteration  468 : (bias= 1.07 ,w1: 3.08 ) --->mse= 16.27  | update: dbias= 0.02 , dw1= -0.0\n",
      "iteration  469 : (bias= 1.07 ,w1: 3.08 ) --->mse= 16.27  | update: dbias= 0.02 , dw1= -0.0\n",
      "iteration  470 : (bias= 1.07 ,w1: 3.08 ) --->mse= 16.27  | update: dbias= 0.01 , dw1= -0.0\n",
      "iteration  471 : (bias= 1.07 ,w1: 3.08 ) --->mse= 16.27  | update: dbias= 0.01 , dw1= -0.0\n",
      "iteration  472 : (bias= 1.07 ,w1: 3.08 ) --->mse= 16.27  | update: dbias= 0.01 , dw1= -0.0\n",
      "iteration  473 : (bias= 1.07 ,w1: 3.08 ) --->mse= 16.27  | update: dbias= 0.01 , dw1= -0.0\n",
      "iteration  474 : (bias= 1.07 ,w1: 3.08 ) --->mse= 16.27  | update: dbias= 0.01 , dw1= -0.0\n",
      "iteration  475 : (bias= 1.07 ,w1: 3.08 ) --->mse= 16.27  | update: dbias= 0.01 , dw1= -0.0\n",
      "iteration  476 : (bias= 1.07 ,w1: 3.08 ) --->mse= 16.27  | update: dbias= 0.01 , dw1= -0.0\n",
      "iteration  477 : (bias= 1.07 ,w1: 3.08 ) --->mse= 16.27  | update: dbias= 0.01 , dw1= -0.0\n",
      "iteration  478 : (bias= 1.07 ,w1: 3.08 ) --->mse= 16.27  | update: dbias= 0.01 , dw1= -0.0\n",
      "iteration  479 : (bias= 1.07 ,w1: 3.08 ) --->mse= 16.27  | update: dbias= 0.01 , dw1= -0.0\n",
      "iteration  480 : (bias= 1.07 ,w1: 3.08 ) --->mse= 16.27  | update: dbias= 0.01 , dw1= -0.0\n",
      "iteration  481 : (bias= 1.07 ,w1: 3.08 ) --->mse= 16.27  | update: dbias= 0.01 , dw1= -0.0\n",
      "iteration  482 : (bias= 1.07 ,w1: 3.08 ) --->mse= 16.27  | update: dbias= 0.01 , dw1= -0.0\n",
      "iteration  483 : (bias= 1.07 ,w1: 3.08 ) --->mse= 16.27  | update: dbias= 0.01 , dw1= -0.0\n",
      "iteration  484 : (bias= 1.07 ,w1: 3.08 ) --->mse= 16.27  | update: dbias= 0.01 , dw1= -0.0\n",
      "iteration  485 : (bias= 1.07 ,w1: 3.08 ) --->mse= 16.27  | update: dbias= 0.01 , dw1= -0.0\n",
      "iteration  486 : (bias= 1.07 ,w1: 3.08 ) --->mse= 16.27  | update: dbias= 0.01 , dw1= -0.0\n",
      "iteration  487 : (bias= 1.07 ,w1: 3.08 ) --->mse= 16.27  | update: dbias= 0.01 , dw1= -0.0\n",
      "iteration  488 : (bias= 1.07 ,w1: 3.08 ) --->mse= 16.27  | update: dbias= 0.01 , dw1= -0.0\n",
      "iteration  489 : (bias= 1.07 ,w1: 3.08 ) --->mse= 16.27  | update: dbias= 0.01 , dw1= -0.0\n",
      "iteration  490 : (bias= 1.07 ,w1: 3.08 ) --->mse= 16.27  | update: dbias= 0.01 , dw1= -0.0\n",
      "iteration  491 : (bias= 1.07 ,w1: 3.08 ) --->mse= 16.27  | update: dbias= 0.01 , dw1= -0.0\n",
      "iteration  492 : (bias= 1.07 ,w1: 3.08 ) --->mse= 16.27  | update: dbias= 0.01 , dw1= -0.0\n",
      "iteration  493 : (bias= 1.06 ,w1: 3.08 ) --->mse= 16.27  | update: dbias= 0.01 , dw1= -0.0\n",
      "iteration  494 : (bias= 1.06 ,w1: 3.08 ) --->mse= 16.27  | update: dbias= 0.01 , dw1= -0.0\n",
      "iteration  495 : (bias= 1.06 ,w1: 3.08 ) --->mse= 16.27  | update: dbias= 0.01 , dw1= -0.0\n",
      "iteration  496 : (bias= 1.06 ,w1: 3.08 ) --->mse= 16.27  | update: dbias= 0.01 , dw1= -0.0\n",
      "iteration  497 : (bias= 1.06 ,w1: 3.08 ) --->mse= 16.27  | update: dbias= 0.01 , dw1= -0.0\n",
      "iteration  498 : (bias= 1.06 ,w1: 3.08 ) --->mse= 16.27  | update: dbias= 0.01 , dw1= -0.0\n",
      "iteration  499 : (bias= 1.06 ,w1: 3.08 ) --->mse= 16.27  | update: dbias= 0.01 , dw1= -0.0\n"
     ]
    },
    {
     "data": {
      "image/png": "[encoded data removed]",
      "text/plain": [
       "<Figure size 1000x300 with 2 Axes>"
      ]
     },
     "metadata": {},
     "output_type": "display_data"
    }
   ],
   "source": [
    "def train3(X,y):\n",
    "    #hyperparameters initialisation: tuning parameters\n",
    "    learning_rate=0.01\n",
    "    epochs=500\n",
    "    #model parameters initialisation\n",
    "    w1=0.5 #\n",
    "    bias=1\n",
    "    #----------------------\n",
    "    n=len(X) #data size\n",
    "    global mseList\n",
    "    global w1List\n",
    "    mseList=[]\n",
    "    w1List=[]\n",
    "       \n",
    " \n",
    "    #training\n",
    "    for i in range(epochs):\n",
    "        yhat=bias+w1*X #prediction\n",
    "        \n",
    "        error=y-yhat # Error\n",
    "        squared_error=error**2 #squared error\n",
    "        mse=(1/n)*sum(squared_error) #mean squared error\n",
    "        #print(\"(\",bias, \",\", w1, \") ----->\",mse)\n",
    "        mseList.append(mse)\n",
    "        w1List.append(w1)\n",
    "       \n",
    "    \n",
    "        dw1=(-2/n)*np.sum(X*(y-yhat)) # partial derivate of mse / w1\n",
    "        dbias=(-2/n)*np.sum((y-yhat)) #partial derivate of mse / w1\n",
    "        print(\"iteration \",i,\": (bias=\",round(bias,2),\",w1:\",round(w1,2),\") --->mse=\",round(mse,2),\" | update: dbias=\",round(dbias,2),\", dw1=\",round(dw1,2))\n",
    "        if i%100==0:\n",
    "            ploter(X,y,bias,w1)\n",
    "\n",
    "        w1=w1-dw1*learning_rate # orientation (-) + pas d'apprentissage (l)\n",
    "        bias=bias-dbias*learning_rate\n",
    "        \n",
    "    return bias,w1\n",
    "        \n",
    "\n",
    "#exécution\n",
    "bias,w1=train3(X_train,y_train)\n",
    "tracer_graphes(w1List,mseList,[i for i in range(500)])"
   ]
  },
  {
   "cell_type": "markdown",
   "id": "9e4b4f80",
   "metadata": {},
   "source": [
    "<p>\n",
    "    <span style=\"color:Tomato;\"><b> Interprétation </b></span><br>\n",
    "    <span  style=\"color:black;\">le règlage de train3 précédent a donné de bons résulat. <br>\n",
    "    nombre epochs=500<br>\n",
    "    learning_rate=0.01<br>\n",
    "    dernière valeur de mse: 15.6. et on constate que cette valeur est presque la même depuis l'itéaration 350.\n",
    "        <br>on constate que le modèle (bias= 2.43 ,w1: 2.93) (sur la graphe en bleu)  est preque le même qui attendu (bias=2,w1=3) (en rouge sur le graphe) \n",
    "  </span>\n",
    "</p>\n"
   ]
  },
  {
   "cell_type": "markdown",
   "id": "fa52c709",
   "metadata": {},
   "source": [
    "<h4 style=\"color:Tomato;\">Step 2: Model Prediction</h4>"
   ]
  },
  {
   "cell_type": "code",
   "execution_count": 1124,
   "id": "597d9003",
   "metadata": {},
   "outputs": [],
   "source": [
    "def predict(x1):\n",
    "    return bias+w1*x1"
   ]
  },
  {
   "cell_type": "code",
   "execution_count": 1125,
   "id": "e37acb1e",
   "metadata": {},
   "outputs": [],
   "source": [
    "yhat=predict(X_test)"
   ]
  },
  {
   "cell_type": "code",
   "execution_count": 1126,
   "id": "b86eeb93",
   "metadata": {},
   "outputs": [
    {
     "data": {
      "text/plain": [
       "array([14.11629731, 17.84552866,  9.45475813, 29.96553053, 13.18398948,\n",
       "       21.26399072,  3.23937256,  9.14398885,  8.5224503 , 19.71014433,\n",
       "       27.79014558, 10.38706597, 12.56245092, 22.81783712,  6.9686039 ,\n",
       "       31.8301462 , 30.89783836, 11.31937381, 21.57476   , 22.19629856,\n",
       "       25.61476063, 12.8732202 ,  2.617834  , 22.50706784, 15.35937443,\n",
       "       29.03322269, 28.10091486, 29.65476125, 29.34399197, 24.68245279])"
      ]
     },
     "execution_count": 1126,
     "metadata": {},
     "output_type": "execute_result"
    }
   ],
   "source": [
    "yhat"
   ]
  },
  {
   "cell_type": "markdown",
   "id": "737eade0",
   "metadata": {},
   "source": [
    "<h4 style=\"color:Tomato;\">Step 3: Model Evaluation</h4>\n",
    "on va utiliser X_test, y_test (best practice)\n"
   ]
  },
  {
   "cell_type": "code",
   "execution_count": 1127,
   "id": "016bb243",
   "metadata": {},
   "outputs": [],
   "source": [
    "def mse(y,yhat):\n",
    "    return 1/(len(y))*np.sum((y-yhat)**2)"
   ]
  },
  {
   "cell_type": "code",
   "execution_count": 1128,
   "id": "5cf580cc",
   "metadata": {},
   "outputs": [],
   "source": [
    "mse_model=mse(y_test,yhat)"
   ]
  },
  {
   "cell_type": "code",
   "execution_count": 1129,
   "id": "33e78bfc",
   "metadata": {},
   "outputs": [
    {
     "name": "stdout",
     "output_type": "stream",
     "text": [
      "17.29229240404535\n"
     ]
    }
   ],
   "source": [
    "print(mse_model)"
   ]
  },
  {
   "cell_type": "markdown",
   "id": "c5956b68",
   "metadata": {},
   "source": [
    "<h2 style=\"color:DodgerBlue;\">Neural Netowr: One Neurone (nuage de points)</h2>"
   ]
  },
  {
   "cell_type": "markdown",
   "id": "4102a2e6",
   "metadata": {},
   "source": [
    "<img src=\"neuron1.png\"  width=\"500\" height=\"400\"/>"
   ]
  },
  {
   "cell_type": "markdown",
   "id": "3c76cdfa",
   "metadata": {},
   "source": [
    "<p>les éléments d'un neurone sont:\n",
    "    <br> inputs: x1\n",
    "    <br>les paramètres: bias et w1\n",
    "    <br>la somme pondérée: bias+w1.x1, une combinaison linéaire des inputs\n",
    "    <br>une fonction d'activation: transforme la valeur de la somme pondérée\n",
    "    <br>output: la prédiction qui tout simpement la valeur retournée par la fonction d'activation\n",
    "    "
   ]
  },
  {
   "cell_type": "code",
   "execution_count": 1130,
   "id": "974ced28",
   "metadata": {},
   "outputs": [],
   "source": [
    "def activation(z):\n",
    "    return z"
   ]
  },
  {
   "cell_type": "code",
   "execution_count": 1131,
   "id": "c76adf03",
   "metadata": {},
   "outputs": [
    {
     "name": "stdout",
     "output_type": "stream",
     "text": [
      "iteration  0 : (bias= 1 ,w1: 0.5 ) --->mse= 217.99  | update: dbias= -24.18 , dw1= -155.97\n"
     ]
    },
    {
     "data": {
      "image/png": "[encoded data removed]",
      "text/plain": [
       "<Figure size 640x480 with 1 Axes>"
      ]
     },
     "metadata": {},
     "output_type": "display_data"
    },
    {
     "name": "stdout",
     "output_type": "stream",
     "text": [
      "iteration  1 : (bias= 1.24 ,w1: 2.06 ) --->mse= 45.79  | update: dbias= -9.13 , dw1= -59.66\n",
      "iteration  2 : (bias= 1.33 ,w1: 2.66 ) --->mse= 20.61  | update: dbias= -3.37 , dw1= -22.83\n",
      "iteration  3 : (bias= 1.37 ,w1: 2.88 ) --->mse= 16.93  | update: dbias= -1.17 , dw1= -8.75\n",
      "iteration  4 : (bias= 1.38 ,w1: 2.97 ) --->mse= 16.39  | update: dbias= -0.33 , dw1= -3.36\n",
      "iteration  5 : (bias= 1.38 ,w1: 3.01 ) --->mse= 16.31  | update: dbias= -0.01 , dw1= -1.3\n",
      "iteration  6 : (bias= 1.38 ,w1: 3.02 ) --->mse= 16.3  | update: dbias= 0.11 , dw1= -0.52\n",
      "iteration  7 : (bias= 1.38 ,w1: 3.02 ) --->mse= 16.3  | update: dbias= 0.16 , dw1= -0.22\n",
      "iteration  8 : (bias= 1.38 ,w1: 3.03 ) --->mse= 16.3  | update: dbias= 0.17 , dw1= -0.1\n",
      "iteration  9 : (bias= 1.38 ,w1: 3.03 ) --->mse= 16.3  | update: dbias= 0.18 , dw1= -0.06\n",
      "iteration  10 : (bias= 1.38 ,w1: 3.03 ) --->mse= 16.3  | update: dbias= 0.18 , dw1= -0.04\n",
      "iteration  11 : (bias= 1.37 ,w1: 3.03 ) --->mse= 16.3  | update: dbias= 0.18 , dw1= -0.03\n",
      "iteration  12 : (bias= 1.37 ,w1: 3.03 ) --->mse= 16.3  | update: dbias= 0.18 , dw1= -0.03\n",
      "iteration  13 : (bias= 1.37 ,w1: 3.03 ) --->mse= 16.3  | update: dbias= 0.18 , dw1= -0.03\n",
      "iteration  14 : (bias= 1.37 ,w1: 3.03 ) --->mse= 16.3  | update: dbias= 0.18 , dw1= -0.03\n",
      "iteration  15 : (bias= 1.37 ,w1: 3.03 ) --->mse= 16.3  | update: dbias= 0.18 , dw1= -0.03\n",
      "iteration  16 : (bias= 1.37 ,w1: 3.03 ) --->mse= 16.3  | update: dbias= 0.18 , dw1= -0.03\n",
      "iteration  17 : (bias= 1.36 ,w1: 3.03 ) --->mse= 16.3  | update: dbias= 0.17 , dw1= -0.03\n",
      "iteration  18 : (bias= 1.36 ,w1: 3.03 ) --->mse= 16.3  | update: dbias= 0.17 , dw1= -0.03\n",
      "iteration  19 : (bias= 1.36 ,w1: 3.03 ) --->mse= 16.3  | update: dbias= 0.17 , dw1= -0.03\n",
      "iteration  20 : (bias= 1.36 ,w1: 3.03 ) --->mse= 16.29  | update: dbias= 0.17 , dw1= -0.03\n",
      "iteration  21 : (bias= 1.36 ,w1: 3.03 ) --->mse= 16.29  | update: dbias= 0.17 , dw1= -0.03\n",
      "iteration  22 : (bias= 1.35 ,w1: 3.03 ) --->mse= 16.29  | update: dbias= 0.17 , dw1= -0.03\n",
      "iteration  23 : (bias= 1.35 ,w1: 3.03 ) --->mse= 16.29  | update: dbias= 0.17 , dw1= -0.03\n",
      "iteration  24 : (bias= 1.35 ,w1: 3.03 ) --->mse= 16.29  | update: dbias= 0.17 , dw1= -0.03\n",
      "iteration  25 : (bias= 1.35 ,w1: 3.03 ) --->mse= 16.29  | update: dbias= 0.17 , dw1= -0.03\n",
      "iteration  26 : (bias= 1.35 ,w1: 3.03 ) --->mse= 16.29  | update: dbias= 0.17 , dw1= -0.03\n",
      "iteration  27 : (bias= 1.35 ,w1: 3.03 ) --->mse= 16.29  | update: dbias= 0.17 , dw1= -0.03\n",
      "iteration  28 : (bias= 1.34 ,w1: 3.03 ) --->mse= 16.29  | update: dbias= 0.16 , dw1= -0.03\n",
      "iteration  29 : (bias= 1.34 ,w1: 3.03 ) --->mse= 16.29  | update: dbias= 0.16 , dw1= -0.03\n",
      "iteration  30 : (bias= 1.34 ,w1: 3.03 ) --->mse= 16.29  | update: dbias= 0.16 , dw1= -0.03\n",
      "iteration  31 : (bias= 1.34 ,w1: 3.03 ) --->mse= 16.29  | update: dbias= 0.16 , dw1= -0.03\n",
      "iteration  32 : (bias= 1.34 ,w1: 3.03 ) --->mse= 16.29  | update: dbias= 0.16 , dw1= -0.03\n",
      "iteration  33 : (bias= 1.34 ,w1: 3.03 ) --->mse= 16.29  | update: dbias= 0.16 , dw1= -0.03\n",
      "iteration  34 : (bias= 1.33 ,w1: 3.03 ) --->mse= 16.29  | update: dbias= 0.16 , dw1= -0.02\n",
      "iteration  35 : (bias= 1.33 ,w1: 3.03 ) --->mse= 16.29  | update: dbias= 0.16 , dw1= -0.02\n",
      "iteration  36 : (bias= 1.33 ,w1: 3.03 ) --->mse= 16.29  | update: dbias= 0.16 , dw1= -0.02\n",
      "iteration  37 : (bias= 1.33 ,w1: 3.04 ) --->mse= 16.29  | update: dbias= 0.16 , dw1= -0.02\n",
      "iteration  38 : (bias= 1.33 ,w1: 3.04 ) --->mse= 16.29  | update: dbias= 0.16 , dw1= -0.02\n",
      "iteration  39 : (bias= 1.33 ,w1: 3.04 ) --->mse= 16.29  | update: dbias= 0.15 , dw1= -0.02\n",
      "iteration  40 : (bias= 1.33 ,w1: 3.04 ) --->mse= 16.29  | update: dbias= 0.15 , dw1= -0.02\n",
      "iteration  41 : (bias= 1.32 ,w1: 3.04 ) --->mse= 16.29  | update: dbias= 0.15 , dw1= -0.02\n",
      "iteration  42 : (bias= 1.32 ,w1: 3.04 ) --->mse= 16.29  | update: dbias= 0.15 , dw1= -0.02\n",
      "iteration  43 : (bias= 1.32 ,w1: 3.04 ) --->mse= 16.29  | update: dbias= 0.15 , dw1= -0.02\n",
      "iteration  44 : (bias= 1.32 ,w1: 3.04 ) --->mse= 16.29  | update: dbias= 0.15 , dw1= -0.02\n",
      "iteration  45 : (bias= 1.32 ,w1: 3.04 ) --->mse= 16.29  | update: dbias= 0.15 , dw1= -0.02\n",
      "iteration  46 : (bias= 1.32 ,w1: 3.04 ) --->mse= 16.29  | update: dbias= 0.15 , dw1= -0.02\n",
      "iteration  47 : (bias= 1.31 ,w1: 3.04 ) --->mse= 16.29  | update: dbias= 0.15 , dw1= -0.02\n",
      "iteration  48 : (bias= 1.31 ,w1: 3.04 ) --->mse= 16.29  | update: dbias= 0.15 , dw1= -0.02\n",
      "iteration  49 : (bias= 1.31 ,w1: 3.04 ) --->mse= 16.29  | update: dbias= 0.15 , dw1= -0.02\n",
      "iteration  50 : (bias= 1.31 ,w1: 3.04 ) --->mse= 16.29  | update: dbias= 0.15 , dw1= -0.02\n",
      "iteration  51 : (bias= 1.31 ,w1: 3.04 ) --->mse= 16.29  | update: dbias= 0.15 , dw1= -0.02\n",
      "iteration  52 : (bias= 1.31 ,w1: 3.04 ) --->mse= 16.29  | update: dbias= 0.14 , dw1= -0.02\n",
      "iteration  53 : (bias= 1.31 ,w1: 3.04 ) --->mse= 16.29  | update: dbias= 0.14 , dw1= -0.02\n",
      "iteration  54 : (bias= 1.3 ,w1: 3.04 ) --->mse= 16.29  | update: dbias= 0.14 , dw1= -0.02\n",
      "iteration  55 : (bias= 1.3 ,w1: 3.04 ) --->mse= 16.29  | update: dbias= 0.14 , dw1= -0.02\n",
      "iteration  56 : (bias= 1.3 ,w1: 3.04 ) --->mse= 16.29  | update: dbias= 0.14 , dw1= -0.02\n",
      "iteration  57 : (bias= 1.3 ,w1: 3.04 ) --->mse= 16.29  | update: dbias= 0.14 , dw1= -0.02\n",
      "iteration  58 : (bias= 1.3 ,w1: 3.04 ) --->mse= 16.29  | update: dbias= 0.14 , dw1= -0.02\n",
      "iteration  59 : (bias= 1.3 ,w1: 3.04 ) --->mse= 16.29  | update: dbias= 0.14 , dw1= -0.02\n",
      "iteration  60 : (bias= 1.3 ,w1: 3.04 ) --->mse= 16.29  | update: dbias= 0.14 , dw1= -0.02\n",
      "iteration  61 : (bias= 1.29 ,w1: 3.04 ) --->mse= 16.28  | update: dbias= 0.14 , dw1= -0.02\n",
      "iteration  62 : (bias= 1.29 ,w1: 3.04 ) --->mse= 16.28  | update: dbias= 0.14 , dw1= -0.02\n",
      "iteration  63 : (bias= 1.29 ,w1: 3.04 ) --->mse= 16.28  | update: dbias= 0.14 , dw1= -0.02\n",
      "iteration  64 : (bias= 1.29 ,w1: 3.04 ) --->mse= 16.28  | update: dbias= 0.14 , dw1= -0.02\n",
      "iteration  65 : (bias= 1.29 ,w1: 3.04 ) --->mse= 16.28  | update: dbias= 0.13 , dw1= -0.02\n",
      "iteration  66 : (bias= 1.29 ,w1: 3.04 ) --->mse= 16.28  | update: dbias= 0.13 , dw1= -0.02\n",
      "iteration  67 : (bias= 1.29 ,w1: 3.04 ) --->mse= 16.28  | update: dbias= 0.13 , dw1= -0.02\n",
      "iteration  68 : (bias= 1.29 ,w1: 3.04 ) --->mse= 16.28  | update: dbias= 0.13 , dw1= -0.02\n",
      "iteration  69 : (bias= 1.28 ,w1: 3.04 ) --->mse= 16.28  | update: dbias= 0.13 , dw1= -0.02\n",
      "iteration  70 : (bias= 1.28 ,w1: 3.04 ) --->mse= 16.28  | update: dbias= 0.13 , dw1= -0.02\n",
      "iteration  71 : (bias= 1.28 ,w1: 3.04 ) --->mse= 16.28  | update: dbias= 0.13 , dw1= -0.02\n",
      "iteration  72 : (bias= 1.28 ,w1: 3.04 ) --->mse= 16.28  | update: dbias= 0.13 , dw1= -0.02\n",
      "iteration  73 : (bias= 1.28 ,w1: 3.04 ) --->mse= 16.28  | update: dbias= 0.13 , dw1= -0.02\n",
      "iteration  74 : (bias= 1.28 ,w1: 3.04 ) --->mse= 16.28  | update: dbias= 0.13 , dw1= -0.02\n",
      "iteration  75 : (bias= 1.28 ,w1: 3.04 ) --->mse= 16.28  | update: dbias= 0.13 , dw1= -0.02\n",
      "iteration  76 : (bias= 1.28 ,w1: 3.04 ) --->mse= 16.28  | update: dbias= 0.13 , dw1= -0.02\n",
      "iteration  77 : (bias= 1.27 ,w1: 3.04 ) --->mse= 16.28  | update: dbias= 0.13 , dw1= -0.02\n",
      "iteration  78 : (bias= 1.27 ,w1: 3.04 ) --->mse= 16.28  | update: dbias= 0.13 , dw1= -0.02\n",
      "iteration  79 : (bias= 1.27 ,w1: 3.04 ) --->mse= 16.28  | update: dbias= 0.12 , dw1= -0.02\n",
      "iteration  80 : (bias= 1.27 ,w1: 3.04 ) --->mse= 16.28  | update: dbias= 0.12 , dw1= -0.02\n",
      "iteration  81 : (bias= 1.27 ,w1: 3.04 ) --->mse= 16.28  | update: dbias= 0.12 , dw1= -0.02\n",
      "iteration  82 : (bias= 1.27 ,w1: 3.04 ) --->mse= 16.28  | update: dbias= 0.12 , dw1= -0.02\n",
      "iteration  83 : (bias= 1.27 ,w1: 3.05 ) --->mse= 16.28  | update: dbias= 0.12 , dw1= -0.02\n",
      "iteration  84 : (bias= 1.27 ,w1: 3.05 ) --->mse= 16.28  | update: dbias= 0.12 , dw1= -0.02\n",
      "iteration  85 : (bias= 1.26 ,w1: 3.05 ) --->mse= 16.28  | update: dbias= 0.12 , dw1= -0.02\n",
      "iteration  86 : (bias= 1.26 ,w1: 3.05 ) --->mse= 16.28  | update: dbias= 0.12 , dw1= -0.02\n",
      "iteration  87 : (bias= 1.26 ,w1: 3.05 ) --->mse= 16.28  | update: dbias= 0.12 , dw1= -0.02\n",
      "iteration  88 : (bias= 1.26 ,w1: 3.05 ) --->mse= 16.28  | update: dbias= 0.12 , dw1= -0.02\n",
      "iteration  89 : (bias= 1.26 ,w1: 3.05 ) --->mse= 16.28  | update: dbias= 0.12 , dw1= -0.02\n",
      "iteration  90 : (bias= 1.26 ,w1: 3.05 ) --->mse= 16.28  | update: dbias= 0.12 , dw1= -0.02\n",
      "iteration  91 : (bias= 1.26 ,w1: 3.05 ) --->mse= 16.28  | update: dbias= 0.12 , dw1= -0.02\n",
      "iteration  92 : (bias= 1.26 ,w1: 3.05 ) --->mse= 16.28  | update: dbias= 0.12 , dw1= -0.02\n",
      "iteration  93 : (bias= 1.25 ,w1: 3.05 ) --->mse= 16.28  | update: dbias= 0.12 , dw1= -0.02\n",
      "iteration  94 : (bias= 1.25 ,w1: 3.05 ) --->mse= 16.28  | update: dbias= 0.12 , dw1= -0.02\n",
      "iteration  95 : (bias= 1.25 ,w1: 3.05 ) --->mse= 16.28  | update: dbias= 0.11 , dw1= -0.02\n",
      "iteration  96 : (bias= 1.25 ,w1: 3.05 ) --->mse= 16.28  | update: dbias= 0.11 , dw1= -0.02\n",
      "iteration  97 : (bias= 1.25 ,w1: 3.05 ) --->mse= 16.28  | update: dbias= 0.11 , dw1= -0.02\n",
      "iteration  98 : (bias= 1.25 ,w1: 3.05 ) --->mse= 16.28  | update: dbias= 0.11 , dw1= -0.02\n",
      "iteration  99 : (bias= 1.25 ,w1: 3.05 ) --->mse= 16.28  | update: dbias= 0.11 , dw1= -0.02\n",
      "iteration  100 : (bias= 1.25 ,w1: 3.05 ) --->mse= 16.28  | update: dbias= 0.11 , dw1= -0.02\n"
     ]
    },
    {
     "data": {
      "image/png": "[encoded data removed]",
      "text/plain": [
       "<Figure size 640x480 with 1 Axes>"
      ]
     },
     "metadata": {},
     "output_type": "display_data"
    },
    {
     "name": "stdout",
     "output_type": "stream",
     "text": [
      "iteration  101 : (bias= 1.25 ,w1: 3.05 ) --->mse= 16.28  | update: dbias= 0.11 , dw1= -0.02\n",
      "iteration  102 : (bias= 1.24 ,w1: 3.05 ) --->mse= 16.28  | update: dbias= 0.11 , dw1= -0.02\n",
      "iteration  103 : (bias= 1.24 ,w1: 3.05 ) --->mse= 16.28  | update: dbias= 0.11 , dw1= -0.02\n",
      "iteration  104 : (bias= 1.24 ,w1: 3.05 ) --->mse= 16.28  | update: dbias= 0.11 , dw1= -0.02\n",
      "iteration  105 : (bias= 1.24 ,w1: 3.05 ) --->mse= 16.28  | update: dbias= 0.11 , dw1= -0.02\n",
      "iteration  106 : (bias= 1.24 ,w1: 3.05 ) --->mse= 16.28  | update: dbias= 0.11 , dw1= -0.02\n",
      "iteration  107 : (bias= 1.24 ,w1: 3.05 ) --->mse= 16.28  | update: dbias= 0.11 , dw1= -0.02\n",
      "iteration  108 : (bias= 1.24 ,w1: 3.05 ) --->mse= 16.28  | update: dbias= 0.11 , dw1= -0.02\n",
      "iteration  109 : (bias= 1.24 ,w1: 3.05 ) --->mse= 16.28  | update: dbias= 0.11 , dw1= -0.02\n",
      "iteration  110 : (bias= 1.24 ,w1: 3.05 ) --->mse= 16.28  | update: dbias= 0.11 , dw1= -0.02\n",
      "iteration  111 : (bias= 1.23 ,w1: 3.05 ) --->mse= 16.28  | update: dbias= 0.1 , dw1= -0.02\n",
      "iteration  112 : (bias= 1.23 ,w1: 3.05 ) --->mse= 16.28  | update: dbias= 0.1 , dw1= -0.02\n",
      "iteration  113 : (bias= 1.23 ,w1: 3.05 ) --->mse= 16.28  | update: dbias= 0.1 , dw1= -0.02\n",
      "iteration  114 : (bias= 1.23 ,w1: 3.05 ) --->mse= 16.28  | update: dbias= 0.1 , dw1= -0.02\n",
      "iteration  115 : (bias= 1.23 ,w1: 3.05 ) --->mse= 16.28  | update: dbias= 0.1 , dw1= -0.02\n",
      "iteration  116 : (bias= 1.23 ,w1: 3.05 ) --->mse= 16.28  | update: dbias= 0.1 , dw1= -0.02\n",
      "iteration  117 : (bias= 1.23 ,w1: 3.05 ) --->mse= 16.28  | update: dbias= 0.1 , dw1= -0.02\n",
      "iteration  118 : (bias= 1.23 ,w1: 3.05 ) --->mse= 16.28  | update: dbias= 0.1 , dw1= -0.02\n",
      "iteration  119 : (bias= 1.23 ,w1: 3.05 ) --->mse= 16.28  | update: dbias= 0.1 , dw1= -0.02\n",
      "iteration  120 : (bias= 1.23 ,w1: 3.05 ) --->mse= 16.28  | update: dbias= 0.1 , dw1= -0.02\n",
      "iteration  121 : (bias= 1.22 ,w1: 3.05 ) --->mse= 16.28  | update: dbias= 0.1 , dw1= -0.02\n",
      "iteration  122 : (bias= 1.22 ,w1: 3.05 ) --->mse= 16.28  | update: dbias= 0.1 , dw1= -0.02\n",
      "iteration  123 : (bias= 1.22 ,w1: 3.05 ) --->mse= 16.28  | update: dbias= 0.1 , dw1= -0.02\n",
      "iteration  124 : (bias= 1.22 ,w1: 3.05 ) --->mse= 16.28  | update: dbias= 0.1 , dw1= -0.02\n",
      "iteration  125 : (bias= 1.22 ,w1: 3.05 ) --->mse= 16.28  | update: dbias= 0.1 , dw1= -0.02\n",
      "iteration  126 : (bias= 1.22 ,w1: 3.05 ) --->mse= 16.28  | update: dbias= 0.1 , dw1= -0.02\n",
      "iteration  127 : (bias= 1.22 ,w1: 3.05 ) --->mse= 16.28  | update: dbias= 0.1 , dw1= -0.02\n",
      "iteration  128 : (bias= 1.22 ,w1: 3.05 ) --->mse= 16.28  | update: dbias= 0.1 , dw1= -0.01\n",
      "iteration  129 : (bias= 1.22 ,w1: 3.05 ) --->mse= 16.28  | update: dbias= 0.1 , dw1= -0.01\n",
      "iteration  130 : (bias= 1.22 ,w1: 3.05 ) --->mse= 16.28  | update: dbias= 0.09 , dw1= -0.01\n",
      "iteration  131 : (bias= 1.21 ,w1: 3.05 ) --->mse= 16.28  | update: dbias= 0.09 , dw1= -0.01\n",
      "iteration  132 : (bias= 1.21 ,w1: 3.05 ) --->mse= 16.28  | update: dbias= 0.09 , dw1= -0.01\n",
      "iteration  133 : (bias= 1.21 ,w1: 3.05 ) --->mse= 16.28  | update: dbias= 0.09 , dw1= -0.01\n",
      "iteration  134 : (bias= 1.21 ,w1: 3.05 ) --->mse= 16.28  | update: dbias= 0.09 , dw1= -0.01\n",
      "iteration  135 : (bias= 1.21 ,w1: 3.05 ) --->mse= 16.27  | update: dbias= 0.09 , dw1= -0.01\n",
      "iteration  136 : (bias= 1.21 ,w1: 3.05 ) --->mse= 16.27  | update: dbias= 0.09 , dw1= -0.01\n",
      "iteration  137 : (bias= 1.21 ,w1: 3.05 ) --->mse= 16.27  | update: dbias= 0.09 , dw1= -0.01\n",
      "iteration  138 : (bias= 1.21 ,w1: 3.05 ) --->mse= 16.27  | update: dbias= 0.09 , dw1= -0.01\n",
      "iteration  139 : (bias= 1.21 ,w1: 3.05 ) --->mse= 16.27  | update: dbias= 0.09 , dw1= -0.01\n",
      "iteration  140 : (bias= 1.21 ,w1: 3.05 ) --->mse= 16.27  | update: dbias= 0.09 , dw1= -0.01\n",
      "iteration  141 : (bias= 1.21 ,w1: 3.05 ) --->mse= 16.27  | update: dbias= 0.09 , dw1= -0.01\n",
      "iteration  142 : (bias= 1.2 ,w1: 3.05 ) --->mse= 16.27  | update: dbias= 0.09 , dw1= -0.01\n",
      "iteration  143 : (bias= 1.2 ,w1: 3.05 ) --->mse= 16.27  | update: dbias= 0.09 , dw1= -0.01\n",
      "iteration  144 : (bias= 1.2 ,w1: 3.05 ) --->mse= 16.27  | update: dbias= 0.09 , dw1= -0.01\n",
      "iteration  145 : (bias= 1.2 ,w1: 3.06 ) --->mse= 16.27  | update: dbias= 0.09 , dw1= -0.01\n",
      "iteration  146 : (bias= 1.2 ,w1: 3.06 ) --->mse= 16.27  | update: dbias= 0.09 , dw1= -0.01\n",
      "iteration  147 : (bias= 1.2 ,w1: 3.06 ) --->mse= 16.27  | update: dbias= 0.09 , dw1= -0.01\n",
      "iteration  148 : (bias= 1.2 ,w1: 3.06 ) --->mse= 16.27  | update: dbias= 0.09 , dw1= -0.01\n",
      "iteration  149 : (bias= 1.2 ,w1: 3.06 ) --->mse= 16.27  | update: dbias= 0.09 , dw1= -0.01\n",
      "iteration  150 : (bias= 1.2 ,w1: 3.06 ) --->mse= 16.27  | update: dbias= 0.08 , dw1= -0.01\n",
      "iteration  151 : (bias= 1.2 ,w1: 3.06 ) --->mse= 16.27  | update: dbias= 0.08 , dw1= -0.01\n",
      "iteration  152 : (bias= 1.2 ,w1: 3.06 ) --->mse= 16.27  | update: dbias= 0.08 , dw1= -0.01\n",
      "iteration  153 : (bias= 1.19 ,w1: 3.06 ) --->mse= 16.27  | update: dbias= 0.08 , dw1= -0.01\n",
      "iteration  154 : (bias= 1.19 ,w1: 3.06 ) --->mse= 16.27  | update: dbias= 0.08 , dw1= -0.01\n",
      "iteration  155 : (bias= 1.19 ,w1: 3.06 ) --->mse= 16.27  | update: dbias= 0.08 , dw1= -0.01\n",
      "iteration  156 : (bias= 1.19 ,w1: 3.06 ) --->mse= 16.27  | update: dbias= 0.08 , dw1= -0.01\n",
      "iteration  157 : (bias= 1.19 ,w1: 3.06 ) --->mse= 16.27  | update: dbias= 0.08 , dw1= -0.01\n",
      "iteration  158 : (bias= 1.19 ,w1: 3.06 ) --->mse= 16.27  | update: dbias= 0.08 , dw1= -0.01\n",
      "iteration  159 : (bias= 1.19 ,w1: 3.06 ) --->mse= 16.27  | update: dbias= 0.08 , dw1= -0.01\n",
      "iteration  160 : (bias= 1.19 ,w1: 3.06 ) --->mse= 16.27  | update: dbias= 0.08 , dw1= -0.01\n",
      "iteration  161 : (bias= 1.19 ,w1: 3.06 ) --->mse= 16.27  | update: dbias= 0.08 , dw1= -0.01\n",
      "iteration  162 : (bias= 1.19 ,w1: 3.06 ) --->mse= 16.27  | update: dbias= 0.08 , dw1= -0.01\n",
      "iteration  163 : (bias= 1.19 ,w1: 3.06 ) --->mse= 16.27  | update: dbias= 0.08 , dw1= -0.01\n",
      "iteration  164 : (bias= 1.19 ,w1: 3.06 ) --->mse= 16.27  | update: dbias= 0.08 , dw1= -0.01\n",
      "iteration  165 : (bias= 1.19 ,w1: 3.06 ) --->mse= 16.27  | update: dbias= 0.08 , dw1= -0.01\n",
      "iteration  166 : (bias= 1.18 ,w1: 3.06 ) --->mse= 16.27  | update: dbias= 0.08 , dw1= -0.01\n",
      "iteration  167 : (bias= 1.18 ,w1: 3.06 ) --->mse= 16.27  | update: dbias= 0.08 , dw1= -0.01\n",
      "iteration  168 : (bias= 1.18 ,w1: 3.06 ) --->mse= 16.27  | update: dbias= 0.08 , dw1= -0.01\n",
      "iteration  169 : (bias= 1.18 ,w1: 3.06 ) --->mse= 16.27  | update: dbias= 0.08 , dw1= -0.01\n",
      "iteration  170 : (bias= 1.18 ,w1: 3.06 ) --->mse= 16.27  | update: dbias= 0.08 , dw1= -0.01\n",
      "iteration  171 : (bias= 1.18 ,w1: 3.06 ) --->mse= 16.27  | update: dbias= 0.08 , dw1= -0.01\n",
      "iteration  172 : (bias= 1.18 ,w1: 3.06 ) --->mse= 16.27  | update: dbias= 0.08 , dw1= -0.01\n",
      "iteration  173 : (bias= 1.18 ,w1: 3.06 ) --->mse= 16.27  | update: dbias= 0.07 , dw1= -0.01\n",
      "iteration  174 : (bias= 1.18 ,w1: 3.06 ) --->mse= 16.27  | update: dbias= 0.07 , dw1= -0.01\n",
      "iteration  175 : (bias= 1.18 ,w1: 3.06 ) --->mse= 16.27  | update: dbias= 0.07 , dw1= -0.01\n",
      "iteration  176 : (bias= 1.18 ,w1: 3.06 ) --->mse= 16.27  | update: dbias= 0.07 , dw1= -0.01\n",
      "iteration  177 : (bias= 1.18 ,w1: 3.06 ) --->mse= 16.27  | update: dbias= 0.07 , dw1= -0.01\n",
      "iteration  178 : (bias= 1.18 ,w1: 3.06 ) --->mse= 16.27  | update: dbias= 0.07 , dw1= -0.01\n",
      "iteration  179 : (bias= 1.17 ,w1: 3.06 ) --->mse= 16.27  | update: dbias= 0.07 , dw1= -0.01\n",
      "iteration  180 : (bias= 1.17 ,w1: 3.06 ) --->mse= 16.27  | update: dbias= 0.07 , dw1= -0.01\n",
      "iteration  181 : (bias= 1.17 ,w1: 3.06 ) --->mse= 16.27  | update: dbias= 0.07 , dw1= -0.01\n",
      "iteration  182 : (bias= 1.17 ,w1: 3.06 ) --->mse= 16.27  | update: dbias= 0.07 , dw1= -0.01\n",
      "iteration  183 : (bias= 1.17 ,w1: 3.06 ) --->mse= 16.27  | update: dbias= 0.07 , dw1= -0.01\n",
      "iteration  184 : (bias= 1.17 ,w1: 3.06 ) --->mse= 16.27  | update: dbias= 0.07 , dw1= -0.01\n",
      "iteration  185 : (bias= 1.17 ,w1: 3.06 ) --->mse= 16.27  | update: dbias= 0.07 , dw1= -0.01\n",
      "iteration  186 : (bias= 1.17 ,w1: 3.06 ) --->mse= 16.27  | update: dbias= 0.07 , dw1= -0.01\n",
      "iteration  187 : (bias= 1.17 ,w1: 3.06 ) --->mse= 16.27  | update: dbias= 0.07 , dw1= -0.01\n",
      "iteration  188 : (bias= 1.17 ,w1: 3.06 ) --->mse= 16.27  | update: dbias= 0.07 , dw1= -0.01\n",
      "iteration  189 : (bias= 1.17 ,w1: 3.06 ) --->mse= 16.27  | update: dbias= 0.07 , dw1= -0.01\n",
      "iteration  190 : (bias= 1.17 ,w1: 3.06 ) --->mse= 16.27  | update: dbias= 0.07 , dw1= -0.01\n",
      "iteration  191 : (bias= 1.17 ,w1: 3.06 ) --->mse= 16.27  | update: dbias= 0.07 , dw1= -0.01\n",
      "iteration  192 : (bias= 1.17 ,w1: 3.06 ) --->mse= 16.27  | update: dbias= 0.07 , dw1= -0.01\n",
      "iteration  193 : (bias= 1.16 ,w1: 3.06 ) --->mse= 16.27  | update: dbias= 0.07 , dw1= -0.01\n",
      "iteration  194 : (bias= 1.16 ,w1: 3.06 ) --->mse= 16.27  | update: dbias= 0.07 , dw1= -0.01\n",
      "iteration  195 : (bias= 1.16 ,w1: 3.06 ) --->mse= 16.27  | update: dbias= 0.07 , dw1= -0.01\n",
      "iteration  196 : (bias= 1.16 ,w1: 3.06 ) --->mse= 16.27  | update: dbias= 0.07 , dw1= -0.01\n",
      "iteration  197 : (bias= 1.16 ,w1: 3.06 ) --->mse= 16.27  | update: dbias= 0.07 , dw1= -0.01\n",
      "iteration  198 : (bias= 1.16 ,w1: 3.06 ) --->mse= 16.27  | update: dbias= 0.07 , dw1= -0.01\n",
      "iteration  199 : (bias= 1.16 ,w1: 3.06 ) --->mse= 16.27  | update: dbias= 0.07 , dw1= -0.01\n",
      "iteration  200 : (bias= 1.16 ,w1: 3.06 ) --->mse= 16.27  | update: dbias= 0.06 , dw1= -0.01\n"
     ]
    },
    {
     "data": {
      "image/png": "[encoded data removed]",
      "text/plain": [
       "<Figure size 640x480 with 1 Axes>"
      ]
     },
     "metadata": {},
     "output_type": "display_data"
    },
    {
     "name": "stdout",
     "output_type": "stream",
     "text": [
      "iteration  201 : (bias= 1.16 ,w1: 3.06 ) --->mse= 16.27  | update: dbias= 0.06 , dw1= -0.01\n",
      "iteration  202 : (bias= 1.16 ,w1: 3.06 ) --->mse= 16.27  | update: dbias= 0.06 , dw1= -0.01\n",
      "iteration  203 : (bias= 1.16 ,w1: 3.06 ) --->mse= 16.27  | update: dbias= 0.06 , dw1= -0.01\n",
      "iteration  204 : (bias= 1.16 ,w1: 3.06 ) --->mse= 16.27  | update: dbias= 0.06 , dw1= -0.01\n",
      "iteration  205 : (bias= 1.16 ,w1: 3.06 ) --->mse= 16.27  | update: dbias= 0.06 , dw1= -0.01\n",
      "iteration  206 : (bias= 1.16 ,w1: 3.06 ) --->mse= 16.27  | update: dbias= 0.06 , dw1= -0.01\n",
      "iteration  207 : (bias= 1.16 ,w1: 3.06 ) --->mse= 16.27  | update: dbias= 0.06 , dw1= -0.01\n",
      "iteration  208 : (bias= 1.16 ,w1: 3.06 ) --->mse= 16.27  | update: dbias= 0.06 , dw1= -0.01\n",
      "iteration  209 : (bias= 1.15 ,w1: 3.06 ) --->mse= 16.27  | update: dbias= 0.06 , dw1= -0.01\n",
      "iteration  210 : (bias= 1.15 ,w1: 3.06 ) --->mse= 16.27  | update: dbias= 0.06 , dw1= -0.01\n",
      "iteration  211 : (bias= 1.15 ,w1: 3.06 ) --->mse= 16.27  | update: dbias= 0.06 , dw1= -0.01\n",
      "iteration  212 : (bias= 1.15 ,w1: 3.06 ) --->mse= 16.27  | update: dbias= 0.06 , dw1= -0.01\n",
      "iteration  213 : (bias= 1.15 ,w1: 3.06 ) --->mse= 16.27  | update: dbias= 0.06 , dw1= -0.01\n",
      "iteration  214 : (bias= 1.15 ,w1: 3.06 ) --->mse= 16.27  | update: dbias= 0.06 , dw1= -0.01\n",
      "iteration  215 : (bias= 1.15 ,w1: 3.06 ) --->mse= 16.27  | update: dbias= 0.06 , dw1= -0.01\n",
      "iteration  216 : (bias= 1.15 ,w1: 3.06 ) --->mse= 16.27  | update: dbias= 0.06 , dw1= -0.01\n",
      "iteration  217 : (bias= 1.15 ,w1: 3.06 ) --->mse= 16.27  | update: dbias= 0.06 , dw1= -0.01\n",
      "iteration  218 : (bias= 1.15 ,w1: 3.06 ) --->mse= 16.27  | update: dbias= 0.06 , dw1= -0.01\n",
      "iteration  219 : (bias= 1.15 ,w1: 3.06 ) --->mse= 16.27  | update: dbias= 0.06 , dw1= -0.01\n",
      "iteration  220 : (bias= 1.15 ,w1: 3.06 ) --->mse= 16.27  | update: dbias= 0.06 , dw1= -0.01\n",
      "iteration  221 : (bias= 1.15 ,w1: 3.06 ) --->mse= 16.27  | update: dbias= 0.06 , dw1= -0.01\n",
      "iteration  222 : (bias= 1.15 ,w1: 3.06 ) --->mse= 16.27  | update: dbias= 0.06 , dw1= -0.01\n",
      "iteration  223 : (bias= 1.15 ,w1: 3.06 ) --->mse= 16.27  | update: dbias= 0.06 , dw1= -0.01\n",
      "iteration  224 : (bias= 1.15 ,w1: 3.06 ) --->mse= 16.27  | update: dbias= 0.06 , dw1= -0.01\n",
      "iteration  225 : (bias= 1.15 ,w1: 3.06 ) --->mse= 16.27  | update: dbias= 0.06 , dw1= -0.01\n",
      "iteration  226 : (bias= 1.14 ,w1: 3.06 ) --->mse= 16.27  | update: dbias= 0.06 , dw1= -0.01\n",
      "iteration  227 : (bias= 1.14 ,w1: 3.06 ) --->mse= 16.27  | update: dbias= 0.06 , dw1= -0.01\n",
      "iteration  228 : (bias= 1.14 ,w1: 3.06 ) --->mse= 16.27  | update: dbias= 0.06 , dw1= -0.01\n",
      "iteration  229 : (bias= 1.14 ,w1: 3.06 ) --->mse= 16.27  | update: dbias= 0.06 , dw1= -0.01\n",
      "iteration  230 : (bias= 1.14 ,w1: 3.06 ) --->mse= 16.27  | update: dbias= 0.06 , dw1= -0.01\n",
      "iteration  231 : (bias= 1.14 ,w1: 3.06 ) --->mse= 16.27  | update: dbias= 0.05 , dw1= -0.01\n",
      "iteration  232 : (bias= 1.14 ,w1: 3.06 ) --->mse= 16.27  | update: dbias= 0.05 , dw1= -0.01\n",
      "iteration  233 : (bias= 1.14 ,w1: 3.06 ) --->mse= 16.27  | update: dbias= 0.05 , dw1= -0.01\n",
      "iteration  234 : (bias= 1.14 ,w1: 3.06 ) --->mse= 16.27  | update: dbias= 0.05 , dw1= -0.01\n",
      "iteration  235 : (bias= 1.14 ,w1: 3.06 ) --->mse= 16.27  | update: dbias= 0.05 , dw1= -0.01\n",
      "iteration  236 : (bias= 1.14 ,w1: 3.06 ) --->mse= 16.27  | update: dbias= 0.05 , dw1= -0.01\n",
      "iteration  237 : (bias= 1.14 ,w1: 3.06 ) --->mse= 16.27  | update: dbias= 0.05 , dw1= -0.01\n",
      "iteration  238 : (bias= 1.14 ,w1: 3.07 ) --->mse= 16.27  | update: dbias= 0.05 , dw1= -0.01\n",
      "iteration  239 : (bias= 1.14 ,w1: 3.07 ) --->mse= 16.27  | update: dbias= 0.05 , dw1= -0.01\n",
      "iteration  240 : (bias= 1.14 ,w1: 3.07 ) --->mse= 16.27  | update: dbias= 0.05 , dw1= -0.01\n",
      "iteration  241 : (bias= 1.14 ,w1: 3.07 ) --->mse= 16.27  | update: dbias= 0.05 , dw1= -0.01\n",
      "iteration  242 : (bias= 1.14 ,w1: 3.07 ) --->mse= 16.27  | update: dbias= 0.05 , dw1= -0.01\n",
      "iteration  243 : (bias= 1.14 ,w1: 3.07 ) --->mse= 16.27  | update: dbias= 0.05 , dw1= -0.01\n",
      "iteration  244 : (bias= 1.13 ,w1: 3.07 ) --->mse= 16.27  | update: dbias= 0.05 , dw1= -0.01\n",
      "iteration  245 : (bias= 1.13 ,w1: 3.07 ) --->mse= 16.27  | update: dbias= 0.05 , dw1= -0.01\n",
      "iteration  246 : (bias= 1.13 ,w1: 3.07 ) --->mse= 16.27  | update: dbias= 0.05 , dw1= -0.01\n",
      "iteration  247 : (bias= 1.13 ,w1: 3.07 ) --->mse= 16.27  | update: dbias= 0.05 , dw1= -0.01\n",
      "iteration  248 : (bias= 1.13 ,w1: 3.07 ) --->mse= 16.27  | update: dbias= 0.05 , dw1= -0.01\n",
      "iteration  249 : (bias= 1.13 ,w1: 3.07 ) --->mse= 16.27  | update: dbias= 0.05 , dw1= -0.01\n",
      "iteration  250 : (bias= 1.13 ,w1: 3.07 ) --->mse= 16.27  | update: dbias= 0.05 , dw1= -0.01\n",
      "iteration  251 : (bias= 1.13 ,w1: 3.07 ) --->mse= 16.27  | update: dbias= 0.05 , dw1= -0.01\n",
      "iteration  252 : (bias= 1.13 ,w1: 3.07 ) --->mse= 16.27  | update: dbias= 0.05 , dw1= -0.01\n",
      "iteration  253 : (bias= 1.13 ,w1: 3.07 ) --->mse= 16.27  | update: dbias= 0.05 , dw1= -0.01\n",
      "iteration  254 : (bias= 1.13 ,w1: 3.07 ) --->mse= 16.27  | update: dbias= 0.05 , dw1= -0.01\n",
      "iteration  255 : (bias= 1.13 ,w1: 3.07 ) --->mse= 16.27  | update: dbias= 0.05 , dw1= -0.01\n",
      "iteration  256 : (bias= 1.13 ,w1: 3.07 ) --->mse= 16.27  | update: dbias= 0.05 , dw1= -0.01\n",
      "iteration  257 : (bias= 1.13 ,w1: 3.07 ) --->mse= 16.27  | update: dbias= 0.05 , dw1= -0.01\n",
      "iteration  258 : (bias= 1.13 ,w1: 3.07 ) --->mse= 16.27  | update: dbias= 0.05 , dw1= -0.01\n",
      "iteration  259 : (bias= 1.13 ,w1: 3.07 ) --->mse= 16.27  | update: dbias= 0.05 , dw1= -0.01\n",
      "iteration  260 : (bias= 1.13 ,w1: 3.07 ) --->mse= 16.27  | update: dbias= 0.05 , dw1= -0.01\n",
      "iteration  261 : (bias= 1.13 ,w1: 3.07 ) --->mse= 16.27  | update: dbias= 0.05 , dw1= -0.01\n",
      "iteration  262 : (bias= 1.13 ,w1: 3.07 ) --->mse= 16.27  | update: dbias= 0.05 , dw1= -0.01\n",
      "iteration  263 : (bias= 1.13 ,w1: 3.07 ) --->mse= 16.27  | update: dbias= 0.05 , dw1= -0.01\n",
      "iteration  264 : (bias= 1.13 ,w1: 3.07 ) --->mse= 16.27  | update: dbias= 0.05 , dw1= -0.01\n",
      "iteration  265 : (bias= 1.12 ,w1: 3.07 ) --->mse= 16.27  | update: dbias= 0.05 , dw1= -0.01\n",
      "iteration  266 : (bias= 1.12 ,w1: 3.07 ) --->mse= 16.27  | update: dbias= 0.05 , dw1= -0.01\n",
      "iteration  267 : (bias= 1.12 ,w1: 3.07 ) --->mse= 16.27  | update: dbias= 0.05 , dw1= -0.01\n",
      "iteration  268 : (bias= 1.12 ,w1: 3.07 ) --->mse= 16.27  | update: dbias= 0.04 , dw1= -0.01\n",
      "iteration  269 : (bias= 1.12 ,w1: 3.07 ) --->mse= 16.27  | update: dbias= 0.04 , dw1= -0.01\n",
      "iteration  270 : (bias= 1.12 ,w1: 3.07 ) --->mse= 16.27  | update: dbias= 0.04 , dw1= -0.01\n",
      "iteration  271 : (bias= 1.12 ,w1: 3.07 ) --->mse= 16.27  | update: dbias= 0.04 , dw1= -0.01\n",
      "iteration  272 : (bias= 1.12 ,w1: 3.07 ) --->mse= 16.27  | update: dbias= 0.04 , dw1= -0.01\n",
      "iteration  273 : (bias= 1.12 ,w1: 3.07 ) --->mse= 16.27  | update: dbias= 0.04 , dw1= -0.01\n",
      "iteration  274 : (bias= 1.12 ,w1: 3.07 ) --->mse= 16.27  | update: dbias= 0.04 , dw1= -0.01\n",
      "iteration  275 : (bias= 1.12 ,w1: 3.07 ) --->mse= 16.27  | update: dbias= 0.04 , dw1= -0.01\n",
      "iteration  276 : (bias= 1.12 ,w1: 3.07 ) --->mse= 16.27  | update: dbias= 0.04 , dw1= -0.01\n",
      "iteration  277 : (bias= 1.12 ,w1: 3.07 ) --->mse= 16.27  | update: dbias= 0.04 , dw1= -0.01\n",
      "iteration  278 : (bias= 1.12 ,w1: 3.07 ) --->mse= 16.27  | update: dbias= 0.04 , dw1= -0.01\n",
      "iteration  279 : (bias= 1.12 ,w1: 3.07 ) --->mse= 16.27  | update: dbias= 0.04 , dw1= -0.01\n",
      "iteration  280 : (bias= 1.12 ,w1: 3.07 ) --->mse= 16.27  | update: dbias= 0.04 , dw1= -0.01\n",
      "iteration  281 : (bias= 1.12 ,w1: 3.07 ) --->mse= 16.27  | update: dbias= 0.04 , dw1= -0.01\n",
      "iteration  282 : (bias= 1.12 ,w1: 3.07 ) --->mse= 16.27  | update: dbias= 0.04 , dw1= -0.01\n",
      "iteration  283 : (bias= 1.12 ,w1: 3.07 ) --->mse= 16.27  | update: dbias= 0.04 , dw1= -0.01\n",
      "iteration  284 : (bias= 1.12 ,w1: 3.07 ) --->mse= 16.27  | update: dbias= 0.04 , dw1= -0.01\n",
      "iteration  285 : (bias= 1.12 ,w1: 3.07 ) --->mse= 16.27  | update: dbias= 0.04 , dw1= -0.01\n",
      "iteration  286 : (bias= 1.12 ,w1: 3.07 ) --->mse= 16.27  | update: dbias= 0.04 , dw1= -0.01\n",
      "iteration  287 : (bias= 1.12 ,w1: 3.07 ) --->mse= 16.27  | update: dbias= 0.04 , dw1= -0.01\n",
      "iteration  288 : (bias= 1.11 ,w1: 3.07 ) --->mse= 16.27  | update: dbias= 0.04 , dw1= -0.01\n",
      "iteration  289 : (bias= 1.11 ,w1: 3.07 ) --->mse= 16.27  | update: dbias= 0.04 , dw1= -0.01\n",
      "iteration  290 : (bias= 1.11 ,w1: 3.07 ) --->mse= 16.27  | update: dbias= 0.04 , dw1= -0.01\n",
      "iteration  291 : (bias= 1.11 ,w1: 3.07 ) --->mse= 16.27  | update: dbias= 0.04 , dw1= -0.01\n",
      "iteration  292 : (bias= 1.11 ,w1: 3.07 ) --->mse= 16.27  | update: dbias= 0.04 , dw1= -0.01\n",
      "iteration  293 : (bias= 1.11 ,w1: 3.07 ) --->mse= 16.27  | update: dbias= 0.04 , dw1= -0.01\n",
      "iteration  294 : (bias= 1.11 ,w1: 3.07 ) --->mse= 16.27  | update: dbias= 0.04 , dw1= -0.01\n",
      "iteration  295 : (bias= 1.11 ,w1: 3.07 ) --->mse= 16.27  | update: dbias= 0.04 , dw1= -0.01\n",
      "iteration  296 : (bias= 1.11 ,w1: 3.07 ) --->mse= 16.27  | update: dbias= 0.04 , dw1= -0.01\n",
      "iteration  297 : (bias= 1.11 ,w1: 3.07 ) --->mse= 16.27  | update: dbias= 0.04 , dw1= -0.01\n",
      "iteration  298 : (bias= 1.11 ,w1: 3.07 ) --->mse= 16.27  | update: dbias= 0.04 , dw1= -0.01\n",
      "iteration  299 : (bias= 1.11 ,w1: 3.07 ) --->mse= 16.27  | update: dbias= 0.04 , dw1= -0.01\n",
      "iteration  300 : (bias= 1.11 ,w1: 3.07 ) --->mse= 16.27  | update: dbias= 0.04 , dw1= -0.01\n"
     ]
    },
    {
     "data": {
      "image/png": "[encoded data removed]",
      "text/plain": [
       "<Figure size 640x480 with 1 Axes>"
      ]
     },
     "metadata": {},
     "output_type": "display_data"
    },
    {
     "name": "stdout",
     "output_type": "stream",
     "text": [
      "iteration  301 : (bias= 1.11 ,w1: 3.07 ) --->mse= 16.27  | update: dbias= 0.04 , dw1= -0.01\n",
      "iteration  302 : (bias= 1.11 ,w1: 3.07 ) --->mse= 16.27  | update: dbias= 0.04 , dw1= -0.01\n",
      "iteration  303 : (bias= 1.11 ,w1: 3.07 ) --->mse= 16.27  | update: dbias= 0.04 , dw1= -0.01\n",
      "iteration  304 : (bias= 1.11 ,w1: 3.07 ) --->mse= 16.27  | update: dbias= 0.04 , dw1= -0.01\n",
      "iteration  305 : (bias= 1.11 ,w1: 3.07 ) --->mse= 16.27  | update: dbias= 0.04 , dw1= -0.01\n",
      "iteration  306 : (bias= 1.11 ,w1: 3.07 ) --->mse= 16.27  | update: dbias= 0.04 , dw1= -0.01\n",
      "iteration  307 : (bias= 1.11 ,w1: 3.07 ) --->mse= 16.27  | update: dbias= 0.04 , dw1= -0.01\n",
      "iteration  308 : (bias= 1.11 ,w1: 3.07 ) --->mse= 16.27  | update: dbias= 0.04 , dw1= -0.01\n",
      "iteration  309 : (bias= 1.11 ,w1: 3.07 ) --->mse= 16.27  | update: dbias= 0.04 , dw1= -0.01\n",
      "iteration  310 : (bias= 1.11 ,w1: 3.07 ) --->mse= 16.27  | update: dbias= 0.04 , dw1= -0.01\n",
      "iteration  311 : (bias= 1.11 ,w1: 3.07 ) --->mse= 16.27  | update: dbias= 0.04 , dw1= -0.01\n",
      "iteration  312 : (bias= 1.11 ,w1: 3.07 ) --->mse= 16.27  | update: dbias= 0.04 , dw1= -0.01\n",
      "iteration  313 : (bias= 1.11 ,w1: 3.07 ) --->mse= 16.27  | update: dbias= 0.04 , dw1= -0.01\n",
      "iteration  314 : (bias= 1.1 ,w1: 3.07 ) --->mse= 16.27  | update: dbias= 0.03 , dw1= -0.01\n",
      "iteration  315 : (bias= 1.1 ,w1: 3.07 ) --->mse= 16.27  | update: dbias= 0.03 , dw1= -0.01\n",
      "iteration  316 : (bias= 1.1 ,w1: 3.07 ) --->mse= 16.27  | update: dbias= 0.03 , dw1= -0.01\n",
      "iteration  317 : (bias= 1.1 ,w1: 3.07 ) --->mse= 16.27  | update: dbias= 0.03 , dw1= -0.01\n",
      "iteration  318 : (bias= 1.1 ,w1: 3.07 ) --->mse= 16.27  | update: dbias= 0.03 , dw1= -0.01\n",
      "iteration  319 : (bias= 1.1 ,w1: 3.07 ) --->mse= 16.27  | update: dbias= 0.03 , dw1= -0.01\n",
      "iteration  320 : (bias= 1.1 ,w1: 3.07 ) --->mse= 16.27  | update: dbias= 0.03 , dw1= -0.01\n",
      "iteration  321 : (bias= 1.1 ,w1: 3.07 ) --->mse= 16.27  | update: dbias= 0.03 , dw1= -0.01\n",
      "iteration  322 : (bias= 1.1 ,w1: 3.07 ) --->mse= 16.27  | update: dbias= 0.03 , dw1= -0.01\n",
      "iteration  323 : (bias= 1.1 ,w1: 3.07 ) --->mse= 16.27  | update: dbias= 0.03 , dw1= -0.01\n",
      "iteration  324 : (bias= 1.1 ,w1: 3.07 ) --->mse= 16.27  | update: dbias= 0.03 , dw1= -0.01\n",
      "iteration  325 : (bias= 1.1 ,w1: 3.07 ) --->mse= 16.27  | update: dbias= 0.03 , dw1= -0.01\n",
      "iteration  326 : (bias= 1.1 ,w1: 3.07 ) --->mse= 16.27  | update: dbias= 0.03 , dw1= -0.01\n",
      "iteration  327 : (bias= 1.1 ,w1: 3.07 ) --->mse= 16.27  | update: dbias= 0.03 , dw1= -0.01\n",
      "iteration  328 : (bias= 1.1 ,w1: 3.07 ) --->mse= 16.27  | update: dbias= 0.03 , dw1= -0.01\n",
      "iteration  329 : (bias= 1.1 ,w1: 3.07 ) --->mse= 16.27  | update: dbias= 0.03 , dw1= -0.01\n",
      "iteration  330 : (bias= 1.1 ,w1: 3.07 ) --->mse= 16.27  | update: dbias= 0.03 , dw1= -0.01\n",
      "iteration  331 : (bias= 1.1 ,w1: 3.07 ) --->mse= 16.27  | update: dbias= 0.03 , dw1= -0.0\n",
      "iteration  332 : (bias= 1.1 ,w1: 3.07 ) --->mse= 16.27  | update: dbias= 0.03 , dw1= -0.0\n",
      "iteration  333 : (bias= 1.1 ,w1: 3.07 ) --->mse= 16.27  | update: dbias= 0.03 , dw1= -0.0\n",
      "iteration  334 : (bias= 1.1 ,w1: 3.07 ) --->mse= 16.27  | update: dbias= 0.03 , dw1= -0.0\n",
      "iteration  335 : (bias= 1.1 ,w1: 3.07 ) --->mse= 16.27  | update: dbias= 0.03 , dw1= -0.0\n",
      "iteration  336 : (bias= 1.1 ,w1: 3.07 ) --->mse= 16.27  | update: dbias= 0.03 , dw1= -0.0\n",
      "iteration  337 : (bias= 1.1 ,w1: 3.07 ) --->mse= 16.27  | update: dbias= 0.03 , dw1= -0.0\n",
      "iteration  338 : (bias= 1.1 ,w1: 3.07 ) --->mse= 16.27  | update: dbias= 0.03 , dw1= -0.0\n",
      "iteration  339 : (bias= 1.1 ,w1: 3.07 ) --->mse= 16.27  | update: dbias= 0.03 , dw1= -0.0\n",
      "iteration  340 : (bias= 1.1 ,w1: 3.07 ) --->mse= 16.27  | update: dbias= 0.03 , dw1= -0.0\n",
      "iteration  341 : (bias= 1.1 ,w1: 3.07 ) --->mse= 16.27  | update: dbias= 0.03 , dw1= -0.0\n",
      "iteration  342 : (bias= 1.1 ,w1: 3.07 ) --->mse= 16.27  | update: dbias= 0.03 , dw1= -0.0\n",
      "iteration  343 : (bias= 1.1 ,w1: 3.07 ) --->mse= 16.27  | update: dbias= 0.03 , dw1= -0.0\n",
      "iteration  344 : (bias= 1.1 ,w1: 3.07 ) --->mse= 16.27  | update: dbias= 0.03 , dw1= -0.0\n",
      "iteration  345 : (bias= 1.1 ,w1: 3.07 ) --->mse= 16.27  | update: dbias= 0.03 , dw1= -0.0\n",
      "iteration  346 : (bias= 1.09 ,w1: 3.07 ) --->mse= 16.27  | update: dbias= 0.03 , dw1= -0.0\n",
      "iteration  347 : (bias= 1.09 ,w1: 3.07 ) --->mse= 16.27  | update: dbias= 0.03 , dw1= -0.0\n",
      "iteration  348 : (bias= 1.09 ,w1: 3.07 ) --->mse= 16.27  | update: dbias= 0.03 , dw1= -0.0\n",
      "iteration  349 : (bias= 1.09 ,w1: 3.07 ) --->mse= 16.27  | update: dbias= 0.03 , dw1= -0.0\n",
      "iteration  350 : (bias= 1.09 ,w1: 3.07 ) --->mse= 16.27  | update: dbias= 0.03 , dw1= -0.0\n",
      "iteration  351 : (bias= 1.09 ,w1: 3.07 ) --->mse= 16.27  | update: dbias= 0.03 , dw1= -0.0\n",
      "iteration  352 : (bias= 1.09 ,w1: 3.07 ) --->mse= 16.27  | update: dbias= 0.03 , dw1= -0.0\n",
      "iteration  353 : (bias= 1.09 ,w1: 3.07 ) --->mse= 16.27  | update: dbias= 0.03 , dw1= -0.0\n",
      "iteration  354 : (bias= 1.09 ,w1: 3.07 ) --->mse= 16.27  | update: dbias= 0.03 , dw1= -0.0\n",
      "iteration  355 : (bias= 1.09 ,w1: 3.07 ) --->mse= 16.27  | update: dbias= 0.03 , dw1= -0.0\n",
      "iteration  356 : (bias= 1.09 ,w1: 3.07 ) --->mse= 16.27  | update: dbias= 0.03 , dw1= -0.0\n",
      "iteration  357 : (bias= 1.09 ,w1: 3.07 ) --->mse= 16.27  | update: dbias= 0.03 , dw1= -0.0\n",
      "iteration  358 : (bias= 1.09 ,w1: 3.07 ) --->mse= 16.27  | update: dbias= 0.03 , dw1= -0.0\n",
      "iteration  359 : (bias= 1.09 ,w1: 3.07 ) --->mse= 16.27  | update: dbias= 0.03 , dw1= -0.0\n",
      "iteration  360 : (bias= 1.09 ,w1: 3.07 ) --->mse= 16.27  | update: dbias= 0.03 , dw1= -0.0\n",
      "iteration  361 : (bias= 1.09 ,w1: 3.07 ) --->mse= 16.27  | update: dbias= 0.03 , dw1= -0.0\n",
      "iteration  362 : (bias= 1.09 ,w1: 3.07 ) --->mse= 16.27  | update: dbias= 0.03 , dw1= -0.0\n",
      "iteration  363 : (bias= 1.09 ,w1: 3.07 ) --->mse= 16.27  | update: dbias= 0.03 , dw1= -0.0\n",
      "iteration  364 : (bias= 1.09 ,w1: 3.07 ) --->mse= 16.27  | update: dbias= 0.03 , dw1= -0.0\n",
      "iteration  365 : (bias= 1.09 ,w1: 3.07 ) --->mse= 16.27  | update: dbias= 0.03 , dw1= -0.0\n",
      "iteration  366 : (bias= 1.09 ,w1: 3.07 ) --->mse= 16.27  | update: dbias= 0.03 , dw1= -0.0\n",
      "iteration  367 : (bias= 1.09 ,w1: 3.07 ) --->mse= 16.27  | update: dbias= 0.03 , dw1= -0.0\n",
      "iteration  368 : (bias= 1.09 ,w1: 3.07 ) --->mse= 16.27  | update: dbias= 0.03 , dw1= -0.0\n",
      "iteration  369 : (bias= 1.09 ,w1: 3.07 ) --->mse= 16.27  | update: dbias= 0.03 , dw1= -0.0\n",
      "iteration  370 : (bias= 1.09 ,w1: 3.07 ) --->mse= 16.27  | update: dbias= 0.03 , dw1= -0.0\n",
      "iteration  371 : (bias= 1.09 ,w1: 3.07 ) --->mse= 16.27  | update: dbias= 0.03 , dw1= -0.0\n",
      "iteration  372 : (bias= 1.09 ,w1: 3.07 ) --->mse= 16.27  | update: dbias= 0.03 , dw1= -0.0\n",
      "iteration  373 : (bias= 1.09 ,w1: 3.07 ) --->mse= 16.27  | update: dbias= 0.03 , dw1= -0.0\n",
      "iteration  374 : (bias= 1.09 ,w1: 3.07 ) --->mse= 16.27  | update: dbias= 0.03 , dw1= -0.0\n",
      "iteration  375 : (bias= 1.09 ,w1: 3.07 ) --->mse= 16.27  | update: dbias= 0.03 , dw1= -0.0\n",
      "iteration  376 : (bias= 1.09 ,w1: 3.07 ) --->mse= 16.27  | update: dbias= 0.02 , dw1= -0.0\n",
      "iteration  377 : (bias= 1.09 ,w1: 3.07 ) --->mse= 16.27  | update: dbias= 0.02 , dw1= -0.0\n",
      "iteration  378 : (bias= 1.09 ,w1: 3.07 ) --->mse= 16.27  | update: dbias= 0.02 , dw1= -0.0\n",
      "iteration  379 : (bias= 1.09 ,w1: 3.07 ) --->mse= 16.27  | update: dbias= 0.02 , dw1= -0.0\n",
      "iteration  380 : (bias= 1.09 ,w1: 3.07 ) --->mse= 16.27  | update: dbias= 0.02 , dw1= -0.0\n",
      "iteration  381 : (bias= 1.09 ,w1: 3.07 ) --->mse= 16.27  | update: dbias= 0.02 , dw1= -0.0\n",
      "iteration  382 : (bias= 1.09 ,w1: 3.07 ) --->mse= 16.27  | update: dbias= 0.02 , dw1= -0.0\n",
      "iteration  383 : (bias= 1.08 ,w1: 3.07 ) --->mse= 16.27  | update: dbias= 0.02 , dw1= -0.0\n",
      "iteration  384 : (bias= 1.08 ,w1: 3.07 ) --->mse= 16.27  | update: dbias= 0.02 , dw1= -0.0\n",
      "iteration  385 : (bias= 1.08 ,w1: 3.07 ) --->mse= 16.27  | update: dbias= 0.02 , dw1= -0.0\n",
      "iteration  386 : (bias= 1.08 ,w1: 3.07 ) --->mse= 16.27  | update: dbias= 0.02 , dw1= -0.0\n",
      "iteration  387 : (bias= 1.08 ,w1: 3.07 ) --->mse= 16.27  | update: dbias= 0.02 , dw1= -0.0\n",
      "iteration  388 : (bias= 1.08 ,w1: 3.07 ) --->mse= 16.27  | update: dbias= 0.02 , dw1= -0.0\n",
      "iteration  389 : (bias= 1.08 ,w1: 3.07 ) --->mse= 16.27  | update: dbias= 0.02 , dw1= -0.0\n",
      "iteration  390 : (bias= 1.08 ,w1: 3.07 ) --->mse= 16.27  | update: dbias= 0.02 , dw1= -0.0\n",
      "iteration  391 : (bias= 1.08 ,w1: 3.07 ) --->mse= 16.27  | update: dbias= 0.02 , dw1= -0.0\n",
      "iteration  392 : (bias= 1.08 ,w1: 3.07 ) --->mse= 16.27  | update: dbias= 0.02 , dw1= -0.0\n",
      "iteration  393 : (bias= 1.08 ,w1: 3.07 ) --->mse= 16.27  | update: dbias= 0.02 , dw1= -0.0\n",
      "iteration  394 : (bias= 1.08 ,w1: 3.07 ) --->mse= 16.27  | update: dbias= 0.02 , dw1= -0.0\n",
      "iteration  395 : (bias= 1.08 ,w1: 3.07 ) --->mse= 16.27  | update: dbias= 0.02 , dw1= -0.0\n",
      "iteration  396 : (bias= 1.08 ,w1: 3.07 ) --->mse= 16.27  | update: dbias= 0.02 , dw1= -0.0\n",
      "iteration  397 : (bias= 1.08 ,w1: 3.07 ) --->mse= 16.27  | update: dbias= 0.02 , dw1= -0.0\n",
      "iteration  398 : (bias= 1.08 ,w1: 3.07 ) --->mse= 16.27  | update: dbias= 0.02 , dw1= -0.0\n",
      "iteration  399 : (bias= 1.08 ,w1: 3.07 ) --->mse= 16.27  | update: dbias= 0.02 , dw1= -0.0\n",
      "iteration  400 : (bias= 1.08 ,w1: 3.07 ) --->mse= 16.27  | update: dbias= 0.02 , dw1= -0.0\n"
     ]
    },
    {
     "data": {
      "image/png": "[encoded data removed]",
      "text/plain": [
       "<Figure size 640x480 with 1 Axes>"
      ]
     },
     "metadata": {},
     "output_type": "display_data"
    },
    {
     "name": "stdout",
     "output_type": "stream",
     "text": [
      "iteration  401 : (bias= 1.08 ,w1: 3.07 ) --->mse= 16.27  | update: dbias= 0.02 , dw1= -0.0\n",
      "iteration  402 : (bias= 1.08 ,w1: 3.07 ) --->mse= 16.27  | update: dbias= 0.02 , dw1= -0.0\n",
      "iteration  403 : (bias= 1.08 ,w1: 3.07 ) --->mse= 16.27  | update: dbias= 0.02 , dw1= -0.0\n",
      "iteration  404 : (bias= 1.08 ,w1: 3.07 ) --->mse= 16.27  | update: dbias= 0.02 , dw1= -0.0\n",
      "iteration  405 : (bias= 1.08 ,w1: 3.07 ) --->mse= 16.27  | update: dbias= 0.02 , dw1= -0.0\n",
      "iteration  406 : (bias= 1.08 ,w1: 3.07 ) --->mse= 16.27  | update: dbias= 0.02 , dw1= -0.0\n",
      "iteration  407 : (bias= 1.08 ,w1: 3.07 ) --->mse= 16.27  | update: dbias= 0.02 , dw1= -0.0\n",
      "iteration  408 : (bias= 1.08 ,w1: 3.07 ) --->mse= 16.27  | update: dbias= 0.02 , dw1= -0.0\n",
      "iteration  409 : (bias= 1.08 ,w1: 3.07 ) --->mse= 16.27  | update: dbias= 0.02 , dw1= -0.0\n",
      "iteration  410 : (bias= 1.08 ,w1: 3.07 ) --->mse= 16.27  | update: dbias= 0.02 , dw1= -0.0\n",
      "iteration  411 : (bias= 1.08 ,w1: 3.07 ) --->mse= 16.27  | update: dbias= 0.02 , dw1= -0.0\n",
      "iteration  412 : (bias= 1.08 ,w1: 3.07 ) --->mse= 16.27  | update: dbias= 0.02 , dw1= -0.0\n",
      "iteration  413 : (bias= 1.08 ,w1: 3.07 ) --->mse= 16.27  | update: dbias= 0.02 , dw1= -0.0\n",
      "iteration  414 : (bias= 1.08 ,w1: 3.07 ) --->mse= 16.27  | update: dbias= 0.02 , dw1= -0.0\n",
      "iteration  415 : (bias= 1.08 ,w1: 3.07 ) --->mse= 16.27  | update: dbias= 0.02 , dw1= -0.0\n",
      "iteration  416 : (bias= 1.08 ,w1: 3.07 ) --->mse= 16.27  | update: dbias= 0.02 , dw1= -0.0\n",
      "iteration  417 : (bias= 1.08 ,w1: 3.07 ) --->mse= 16.27  | update: dbias= 0.02 , dw1= -0.0\n",
      "iteration  418 : (bias= 1.08 ,w1: 3.07 ) --->mse= 16.27  | update: dbias= 0.02 , dw1= -0.0\n",
      "iteration  419 : (bias= 1.08 ,w1: 3.07 ) --->mse= 16.27  | update: dbias= 0.02 , dw1= -0.0\n",
      "iteration  420 : (bias= 1.08 ,w1: 3.07 ) --->mse= 16.27  | update: dbias= 0.02 , dw1= -0.0\n",
      "iteration  421 : (bias= 1.08 ,w1: 3.07 ) --->mse= 16.27  | update: dbias= 0.02 , dw1= -0.0\n",
      "iteration  422 : (bias= 1.08 ,w1: 3.07 ) --->mse= 16.27  | update: dbias= 0.02 , dw1= -0.0\n",
      "iteration  423 : (bias= 1.08 ,w1: 3.07 ) --->mse= 16.27  | update: dbias= 0.02 , dw1= -0.0\n",
      "iteration  424 : (bias= 1.08 ,w1: 3.07 ) --->mse= 16.27  | update: dbias= 0.02 , dw1= -0.0\n",
      "iteration  425 : (bias= 1.08 ,w1: 3.07 ) --->mse= 16.27  | update: dbias= 0.02 , dw1= -0.0\n",
      "iteration  426 : (bias= 1.08 ,w1: 3.07 ) --->mse= 16.27  | update: dbias= 0.02 , dw1= -0.0\n",
      "iteration  427 : (bias= 1.08 ,w1: 3.07 ) --->mse= 16.27  | update: dbias= 0.02 , dw1= -0.0\n",
      "iteration  428 : (bias= 1.08 ,w1: 3.07 ) --->mse= 16.27  | update: dbias= 0.02 , dw1= -0.0\n",
      "iteration  429 : (bias= 1.08 ,w1: 3.07 ) --->mse= 16.27  | update: dbias= 0.02 , dw1= -0.0\n",
      "iteration  430 : (bias= 1.07 ,w1: 3.07 ) --->mse= 16.27  | update: dbias= 0.02 , dw1= -0.0\n",
      "iteration  431 : (bias= 1.07 ,w1: 3.07 ) --->mse= 16.27  | update: dbias= 0.02 , dw1= -0.0\n",
      "iteration  432 : (bias= 1.07 ,w1: 3.07 ) --->mse= 16.27  | update: dbias= 0.02 , dw1= -0.0\n",
      "iteration  433 : (bias= 1.07 ,w1: 3.08 ) --->mse= 16.27  | update: dbias= 0.02 , dw1= -0.0\n",
      "iteration  434 : (bias= 1.07 ,w1: 3.08 ) --->mse= 16.27  | update: dbias= 0.02 , dw1= -0.0\n",
      "iteration  435 : (bias= 1.07 ,w1: 3.08 ) --->mse= 16.27  | update: dbias= 0.02 , dw1= -0.0\n",
      "iteration  436 : (bias= 1.07 ,w1: 3.08 ) --->mse= 16.27  | update: dbias= 0.02 , dw1= -0.0\n",
      "iteration  437 : (bias= 1.07 ,w1: 3.08 ) --->mse= 16.27  | update: dbias= 0.02 , dw1= -0.0\n",
      "iteration  438 : (bias= 1.07 ,w1: 3.08 ) --->mse= 16.27  | update: dbias= 0.02 , dw1= -0.0\n",
      "iteration  439 : (bias= 1.07 ,w1: 3.08 ) --->mse= 16.27  | update: dbias= 0.02 , dw1= -0.0\n",
      "iteration  440 : (bias= 1.07 ,w1: 3.08 ) --->mse= 16.27  | update: dbias= 0.02 , dw1= -0.0\n",
      "iteration  441 : (bias= 1.07 ,w1: 3.08 ) --->mse= 16.27  | update: dbias= 0.02 , dw1= -0.0\n",
      "iteration  442 : (bias= 1.07 ,w1: 3.08 ) --->mse= 16.27  | update: dbias= 0.02 , dw1= -0.0\n",
      "iteration  443 : (bias= 1.07 ,w1: 3.08 ) --->mse= 16.27  | update: dbias= 0.02 , dw1= -0.0\n",
      "iteration  444 : (bias= 1.07 ,w1: 3.08 ) --->mse= 16.27  | update: dbias= 0.02 , dw1= -0.0\n",
      "iteration  445 : (bias= 1.07 ,w1: 3.08 ) --->mse= 16.27  | update: dbias= 0.02 , dw1= -0.0\n",
      "iteration  446 : (bias= 1.07 ,w1: 3.08 ) --->mse= 16.27  | update: dbias= 0.02 , dw1= -0.0\n",
      "iteration  447 : (bias= 1.07 ,w1: 3.08 ) --->mse= 16.27  | update: dbias= 0.02 , dw1= -0.0\n",
      "iteration  448 : (bias= 1.07 ,w1: 3.08 ) --->mse= 16.27  | update: dbias= 0.02 , dw1= -0.0\n",
      "iteration  449 : (bias= 1.07 ,w1: 3.08 ) --->mse= 16.27  | update: dbias= 0.02 , dw1= -0.0\n",
      "iteration  450 : (bias= 1.07 ,w1: 3.08 ) --->mse= 16.27  | update: dbias= 0.02 , dw1= -0.0\n",
      "iteration  451 : (bias= 1.07 ,w1: 3.08 ) --->mse= 16.27  | update: dbias= 0.02 , dw1= -0.0\n",
      "iteration  452 : (bias= 1.07 ,w1: 3.08 ) --->mse= 16.27  | update: dbias= 0.02 , dw1= -0.0\n",
      "iteration  453 : (bias= 1.07 ,w1: 3.08 ) --->mse= 16.27  | update: dbias= 0.02 , dw1= -0.0\n",
      "iteration  454 : (bias= 1.07 ,w1: 3.08 ) --->mse= 16.27  | update: dbias= 0.02 , dw1= -0.0\n",
      "iteration  455 : (bias= 1.07 ,w1: 3.08 ) --->mse= 16.27  | update: dbias= 0.02 , dw1= -0.0\n",
      "iteration  456 : (bias= 1.07 ,w1: 3.08 ) --->mse= 16.27  | update: dbias= 0.02 , dw1= -0.0\n",
      "iteration  457 : (bias= 1.07 ,w1: 3.08 ) --->mse= 16.27  | update: dbias= 0.02 , dw1= -0.0\n",
      "iteration  458 : (bias= 1.07 ,w1: 3.08 ) --->mse= 16.27  | update: dbias= 0.02 , dw1= -0.0\n",
      "iteration  459 : (bias= 1.07 ,w1: 3.08 ) --->mse= 16.27  | update: dbias= 0.02 , dw1= -0.0\n",
      "iteration  460 : (bias= 1.07 ,w1: 3.08 ) --->mse= 16.27  | update: dbias= 0.02 , dw1= -0.0\n",
      "iteration  461 : (bias= 1.07 ,w1: 3.08 ) --->mse= 16.27  | update: dbias= 0.02 , dw1= -0.0\n",
      "iteration  462 : (bias= 1.07 ,w1: 3.08 ) --->mse= 16.27  | update: dbias= 0.02 , dw1= -0.0\n",
      "iteration  463 : (bias= 1.07 ,w1: 3.08 ) --->mse= 16.27  | update: dbias= 0.02 , dw1= -0.0\n",
      "iteration  464 : (bias= 1.07 ,w1: 3.08 ) --->mse= 16.27  | update: dbias= 0.02 , dw1= -0.0\n",
      "iteration  465 : (bias= 1.07 ,w1: 3.08 ) --->mse= 16.27  | update: dbias= 0.02 , dw1= -0.0\n",
      "iteration  466 : (bias= 1.07 ,w1: 3.08 ) --->mse= 16.27  | update: dbias= 0.02 , dw1= -0.0\n",
      "iteration  467 : (bias= 1.07 ,w1: 3.08 ) --->mse= 16.27  | update: dbias= 0.02 , dw1= -0.0\n",
      "iteration  468 : (bias= 1.07 ,w1: 3.08 ) --->mse= 16.27  | update: dbias= 0.02 , dw1= -0.0\n",
      "iteration  469 : (bias= 1.07 ,w1: 3.08 ) --->mse= 16.27  | update: dbias= 0.02 , dw1= -0.0\n",
      "iteration  470 : (bias= 1.07 ,w1: 3.08 ) --->mse= 16.27  | update: dbias= 0.01 , dw1= -0.0\n",
      "iteration  471 : (bias= 1.07 ,w1: 3.08 ) --->mse= 16.27  | update: dbias= 0.01 , dw1= -0.0\n",
      "iteration  472 : (bias= 1.07 ,w1: 3.08 ) --->mse= 16.27  | update: dbias= 0.01 , dw1= -0.0\n",
      "iteration  473 : (bias= 1.07 ,w1: 3.08 ) --->mse= 16.27  | update: dbias= 0.01 , dw1= -0.0\n",
      "iteration  474 : (bias= 1.07 ,w1: 3.08 ) --->mse= 16.27  | update: dbias= 0.01 , dw1= -0.0\n",
      "iteration  475 : (bias= 1.07 ,w1: 3.08 ) --->mse= 16.27  | update: dbias= 0.01 , dw1= -0.0\n",
      "iteration  476 : (bias= 1.07 ,w1: 3.08 ) --->mse= 16.27  | update: dbias= 0.01 , dw1= -0.0\n",
      "iteration  477 : (bias= 1.07 ,w1: 3.08 ) --->mse= 16.27  | update: dbias= 0.01 , dw1= -0.0\n",
      "iteration  478 : (bias= 1.07 ,w1: 3.08 ) --->mse= 16.27  | update: dbias= 0.01 , dw1= -0.0\n",
      "iteration  479 : (bias= 1.07 ,w1: 3.08 ) --->mse= 16.27  | update: dbias= 0.01 , dw1= -0.0\n",
      "iteration  480 : (bias= 1.07 ,w1: 3.08 ) --->mse= 16.27  | update: dbias= 0.01 , dw1= -0.0\n",
      "iteration  481 : (bias= 1.07 ,w1: 3.08 ) --->mse= 16.27  | update: dbias= 0.01 , dw1= -0.0\n",
      "iteration  482 : (bias= 1.07 ,w1: 3.08 ) --->mse= 16.27  | update: dbias= 0.01 , dw1= -0.0\n",
      "iteration  483 : (bias= 1.07 ,w1: 3.08 ) --->mse= 16.27  | update: dbias= 0.01 , dw1= -0.0\n",
      "iteration  484 : (bias= 1.07 ,w1: 3.08 ) --->mse= 16.27  | update: dbias= 0.01 , dw1= -0.0\n",
      "iteration  485 : (bias= 1.07 ,w1: 3.08 ) --->mse= 16.27  | update: dbias= 0.01 , dw1= -0.0\n",
      "iteration  486 : (bias= 1.07 ,w1: 3.08 ) --->mse= 16.27  | update: dbias= 0.01 , dw1= -0.0\n",
      "iteration  487 : (bias= 1.07 ,w1: 3.08 ) --->mse= 16.27  | update: dbias= 0.01 , dw1= -0.0\n",
      "iteration  488 : (bias= 1.07 ,w1: 3.08 ) --->mse= 16.27  | update: dbias= 0.01 , dw1= -0.0\n",
      "iteration  489 : (bias= 1.07 ,w1: 3.08 ) --->mse= 16.27  | update: dbias= 0.01 , dw1= -0.0\n",
      "iteration  490 : (bias= 1.07 ,w1: 3.08 ) --->mse= 16.27  | update: dbias= 0.01 , dw1= -0.0\n",
      "iteration  491 : (bias= 1.07 ,w1: 3.08 ) --->mse= 16.27  | update: dbias= 0.01 , dw1= -0.0\n",
      "iteration  492 : (bias= 1.07 ,w1: 3.08 ) --->mse= 16.27  | update: dbias= 0.01 , dw1= -0.0\n",
      "iteration  493 : (bias= 1.06 ,w1: 3.08 ) --->mse= 16.27  | update: dbias= 0.01 , dw1= -0.0\n",
      "iteration  494 : (bias= 1.06 ,w1: 3.08 ) --->mse= 16.27  | update: dbias= 0.01 , dw1= -0.0\n",
      "iteration  495 : (bias= 1.06 ,w1: 3.08 ) --->mse= 16.27  | update: dbias= 0.01 , dw1= -0.0\n",
      "iteration  496 : (bias= 1.06 ,w1: 3.08 ) --->mse= 16.27  | update: dbias= 0.01 , dw1= -0.0\n",
      "iteration  497 : (bias= 1.06 ,w1: 3.08 ) --->mse= 16.27  | update: dbias= 0.01 , dw1= -0.0\n",
      "iteration  498 : (bias= 1.06 ,w1: 3.08 ) --->mse= 16.27  | update: dbias= 0.01 , dw1= -0.0\n",
      "iteration  499 : (bias= 1.06 ,w1: 3.08 ) --->mse= 16.27  | update: dbias= 0.01 , dw1= -0.0\n"
     ]
    },
    {
     "data": {
      "image/png": "[encoded data removed]",
      "text/plain": [
       "<Figure size 1000x300 with 2 Axes>"
      ]
     },
     "metadata": {},
     "output_type": "display_data"
    }
   ],
   "source": [
    "def trainNN1(X,y):\n",
    "    #hyperparameters initialisation: tuning parameters\n",
    "    learning_rate=0.001\n",
    "    epochs=500\n",
    "    #model parameters initialisation\n",
    "    w1=0.5 #\n",
    "    bias=1\n",
    "    #----------------------\n",
    "    n=len(X) #data size\n",
    "    global mseList\n",
    "    global w1List\n",
    "    mseList=[]\n",
    "    w1List=[]\n",
    "       \n",
    " \n",
    "    #training\n",
    "    for i in range(epochs):\n",
    "        ws=bias+w1*X #prediction\n",
    "        yhat=activation(ws)\n",
    "        \n",
    "        error=y-yhat # Error\n",
    "        squared_error=error**2 #squared error\n",
    "        mse=(1/n)*sum(squared_error) #mean squared error\n",
    "        #print(\"(\",bias, \",\", w1, \") ----->\",mse)\n",
    "        mseList.append(mse)\n",
    "        w1List.append(w1)\n",
    "       \n",
    "    \n",
    "        dw1=(-2/n)*np.sum(X*(y-yhat)) # partial derivate of mse / w1\n",
    "        dbias=(-2/n)*np.sum((y-yhat)) #partial derivate of mse / w1\n",
    "        print(\"iteration \",i,\": (bias=\",round(bias,2),\",w1:\",round(w1,2),\") --->mse=\",round(mse,2),\" | update: dbias=\",round(dbias,2),\", dw1=\",round(dw1,2))\n",
    "        if i%100==0:\n",
    "            ploter(X,y,bias,w1)\n",
    "\n",
    "        \n",
    "        w1=w1-dw1*learning_rate # orientation (-) + pas d'apprentissage (l)\n",
    "        bias=bias-dbias*learning_rate\n",
    "                \n",
    "    return bias,w1\n",
    "        \n",
    "\n",
    "#exécution\n",
    "bias,w1=train3(X_train,y_train)\n",
    "tracer_graphes(w1List,mseList,[i for i in range(500)])"
   ]
  },
  {
   "cell_type": "code",
   "execution_count": null,
   "id": "a860950e",
   "metadata": {},
   "outputs": [],
   "source": []
  },
  {
   "cell_type": "markdown",
   "id": "2f21cc20",
   "metadata": {},
   "source": []
  },
  {
   "cell_type": "markdown",
   "id": "d8283ac9",
   "metadata": {},
   "source": [
    "<h2 style=\"color:DodgerBlue;\">I.3. Linear Regression Model: Many Feature feature (Advertissing problem)</h2>"
   ]
  },
  {
   "cell_type": "markdown",
   "id": "f85aafaf",
   "metadata": {},
   "source": [
    "<p>Objectif est de prévoir les ventes (sales) à realiser suite à un investissement en publicité <br>\n",
    "la publicité peut se faire en TV, RADIO, NewsPaper\n",
    " question: quelle est la meilleur combinaison à utiliser pour faire un bon Sales.\n",
    "    exemple: si on souhaite investir 10000 Euro (TV=?, Radio? NewsPaper? afinde maximiser Sales)   \n",
    "</p>"
   ]
  },
  {
   "cell_type": "markdown",
   "id": "7f634c83",
   "metadata": {},
   "source": [
    "<p>trouver le modele: Sales(TV,Radio, Neawspaper)=bias+w1*TV+w2*radio+w3*newsPaper</p>"
   ]
  },
  {
   "cell_type": "markdown",
   "id": "7e115470",
   "metadata": {},
   "source": [
    "<h4 style=\"color:Tomato;\">Step 1: Load / Initialize Data</h4>"
   ]
  },
  {
   "cell_type": "code",
   "execution_count": 1132,
   "id": "86e4ce13",
   "metadata": {},
   "outputs": [
    {
     "data": {
      "text/html": [
       "<div>\n",
       "<style scoped>\n",
       "    .dataframe tbody tr th:only-of-type {\n",
       "        vertical-align: middle;\n",
       "    }\n",
       "\n",
       "    .dataframe tbody tr th {\n",
       "        vertical-align: top;\n",
       "    }\n",
       "\n",
       "    .dataframe thead th {\n",
       "        text-align: right;\n",
       "    }\n",
       "</style>\n",
       "<table border=\"1\" class=\"dataframe\">\n",
       "  <thead>\n",
       "    <tr style=\"text-align: right;\">\n",
       "      <th></th>\n",
       "      <th>TV</th>\n",
       "      <th>Radio</th>\n",
       "      <th>Newspaper</th>\n",
       "      <th>Sales</th>\n",
       "    </tr>\n",
       "  </thead>\n",
       "  <tbody>\n",
       "    <tr>\n",
       "      <th>0</th>\n",
       "      <td>230.1</td>\n",
       "      <td>37.8</td>\n",
       "      <td>69.2</td>\n",
       "      <td>22.1</td>\n",
       "    </tr>\n",
       "    <tr>\n",
       "      <th>1</th>\n",
       "      <td>44.5</td>\n",
       "      <td>39.3</td>\n",
       "      <td>45.1</td>\n",
       "      <td>10.4</td>\n",
       "    </tr>\n",
       "    <tr>\n",
       "      <th>2</th>\n",
       "      <td>17.2</td>\n",
       "      <td>45.9</td>\n",
       "      <td>69.3</td>\n",
       "      <td>12.0</td>\n",
       "    </tr>\n",
       "    <tr>\n",
       "      <th>3</th>\n",
       "      <td>151.5</td>\n",
       "      <td>41.3</td>\n",
       "      <td>58.5</td>\n",
       "      <td>16.5</td>\n",
       "    </tr>\n",
       "    <tr>\n",
       "      <th>4</th>\n",
       "      <td>180.8</td>\n",
       "      <td>10.8</td>\n",
       "      <td>58.4</td>\n",
       "      <td>17.9</td>\n",
       "    </tr>\n",
       "  </tbody>\n",
       "</table>\n",
       "</div>"
      ],
      "text/plain": [
       "      TV  Radio  Newspaper  Sales\n",
       "0  230.1   37.8       69.2   22.1\n",
       "1   44.5   39.3       45.1   10.4\n",
       "2   17.2   45.9       69.3   12.0\n",
       "3  151.5   41.3       58.5   16.5\n",
       "4  180.8   10.8       58.4   17.9"
      ]
     },
     "execution_count": 1132,
     "metadata": {},
     "output_type": "execute_result"
    }
   ],
   "source": [
    "import pandas as pnd #dataframe\n",
    "data_frame=pnd.read_csv(\"advertising.csv\")\n",
    "data_frame.head()\n",
    "#les trois premières colonnes: features\n",
    "#la dernière colonne target"
   ]
  },
  {
   "cell_type": "code",
   "execution_count": 1133,
   "id": "d2d35bd6",
   "metadata": {},
   "outputs": [],
   "source": [
    "#convertir le dataframe en array\n",
    "data=np.array(data_frame)\n",
    "#extraire la partie features\n",
    "X=np.array([data[i,:3] for i in range(len(data))])\n",
    "#extraire la partie target\n",
    "y=np.array([data[i,3] for i in range(len(data))])"
   ]
  },
  {
   "cell_type": "code",
   "execution_count": null,
   "id": "039c6121",
   "metadata": {},
   "outputs": [],
   "source": []
  },
  {
   "cell_type": "markdown",
   "id": "0f12bf91",
   "metadata": {},
   "source": [
    "<h4 style=\"color:Tomato;\">Step 2: Data Analysis - Data Preparaton</h4>"
   ]
  },
  {
   "cell_type": "markdown",
   "id": "2b9332a1",
   "metadata": {},
   "source": [
    "<p style=\"color:black\">Avant de commencer l'entrainement du modèle, il est nécessaire d'appliquer la mise à l'échelle (scaling) sur les données pour que notre algorithme d'apprentissage converge. <br>Si non, et à cause de la formule:  dw1=(-2/n)*np.sum(X*(y-yhat)) (voir train3) on risque d'avoir de tres grandes valeurs, ce qui peut permettre de dépasser l'optimum et qui entraine des valeurs exponentielles de mse. </p>\n",
    "\n",
    "<p>pour la mise à l'échelle, on peut utiliser les techniques suivantes:</p>\n",
    "\n",
    "<h4>-Normalisation</h4>\n",
    "<p>la nomralisation se fait à l'aide de la formule suivante:<br>\n",
    "<img src=\"normalisation.png\" width=\"250\" height=\"350\">\n",
    "</p>\n",
    "<p>on peut utiliser le code suivant:</p>\n",
    "\n",
    "<p style=\"color:blue\">\n",
    "X_norm = (X - X.min(axis=0))/ (X.max(axis=0)-X.min(axis=0))\n",
    "</p>\n",
    "<p>Aussi, on peut utiliser  MinMaxScaler de la librairie sklearn.preprocessing</p>\n",
    "\n",
    "\n",
    "<h4>-Standardisation</h4>\n",
    "<p>la standardisation se fait suite à la formule suivante:<br>\n",
    "<img src=\"standardisation.png\" width=\"300\" height=\"350\">\n",
    "</p>\n",
    "<h3>code source pour normaliser les données:</h3>\n",
    "<p>on peut utiliser le code suivant:</p>\n",
    "\n",
    "<p style=\"color:blue\">\n",
    "mu=X.mean()<br>\n",
    "sigma=X.std()<br>\n",
    "X_stand = (X - mu)/ sigma\n",
    "</p>\n",
    "<p>Aussi, on peut utiliser  StandardScaler de la librairie sklearn.preprocessing</p>\n",
    "\n",
    "\n",
    "\n",
    "<p>différence entre normalisation et standardisation</p>\n",
    "<img src=\"scaling_example.png\" width=\"600\" height=\"450\">\n",
    "<p>dans notre cas, nous allons utiliser StadardScaller vu que les données suivent une distribution gaussienne</p>\n",
    "\n",
    "<img src=\"gaussian.png\" width=\"250\" height=\"250\">\n",
    "\n"
   ]
  },
  {
   "cell_type": "code",
   "execution_count": 1134,
   "id": "23726e67",
   "metadata": {},
   "outputs": [],
   "source": [
    "#\n",
    "from sklearn.preprocessing import StandardScaler\n",
    "scaler= StandardScaler()\n",
    "X = scaler.fit_transform(X) \n"
   ]
  },
  {
   "cell_type": "markdown",
   "id": "4bb6b0a2",
   "metadata": {},
   "source": [
    "<h4 style=\"color:Tomato;\">Step 3: Split Data</h4>"
   ]
  },
  {
   "cell_type": "code",
   "execution_count": 1135,
   "id": "7e0fce5d",
   "metadata": {},
   "outputs": [],
   "source": [
    "X_train, X_test, y_train, y_test = train_test_split(X, y, test_size=0.3, random_state=44) #\n",
    "#random_state=valeur, permet de générer le même dataset à chaque fois. cette valeur assure d'avoir le même random\n"
   ]
  },
  {
   "cell_type": "markdown",
   "id": "0d800c1c",
   "metadata": {},
   "source": [
    "<h3 style=\"color:Tomato;\">I.1.2. Model (using gradient descent)</h3>"
   ]
  },
  {
   "cell_type": "markdown",
   "id": "78b64a27",
   "metadata": {},
   "source": [
    "<h4 style=\"color:Tomato;\">Step 1: Model Trainig</h4>"
   ]
  },
  {
   "cell_type": "code",
   "execution_count": 1136,
   "id": "78d29c85",
   "metadata": {},
   "outputs": [],
   "source": [
    "def train4(x1,x2,x3,y):\n",
    "    #hyperparameters initialisation: tuning parameters\n",
    "    learning_rate=0.01\n",
    "    epochs=10000\n",
    "    #model parameters initialisation\n",
    "    w1=0.5 #\n",
    "    w2=0.5\n",
    "    w3=0.5\n",
    "    bias=0.5\n",
    "    #recherche.....\n",
    "    #----------------------\n",
    "    n=len(y) #data size\n",
    "       \n",
    " \n",
    "    #training\n",
    "    for i in range(epochs):\n",
    "        yhat=bias+w1*x1+w2*x2+w3*x3 #prediction\n",
    "    \n",
    "        dw1=(-2/n)*np.sum(x1*(y-yhat)) # partial derivate of mse / w1\n",
    "        dw2=(-2/n)*np.sum(x2*(y-yhat)) # partial derivate of mse / w1\n",
    "        dw3=(-2/n)*np.sum(x3*(y-yhat)) # partial derivate of mse / w1\n",
    "        \n",
    "        dbias=(-2/n)*np.sum((y-yhat)) #partial derivate of mse / bias\n",
    "        \n",
    "        w1=w1-dw1*learning_rate  #update w1\n",
    "        w2=w2-dw2*learning_rate  #update w2\n",
    "        w3=w3-dw3*learning_rate  #update w3\n",
    "        \n",
    "        bias=bias-dbias*learning_rate #update bias\n",
    "        \n",
    "    return bias,w1,w2,w3\n",
    "        \n",
    "\n",
    "    "
   ]
  },
  {
   "cell_type": "code",
   "execution_count": 1137,
   "id": "3d5e0fa3",
   "metadata": {},
   "outputs": [],
   "source": [
    "#data training\n",
    "x1,x2,x3=X_train[:,0],X_train[:,1],X_train[:,2]\n",
    "#traning\n",
    "bias,w1,w2,w3=train4(x1,x2,x3,y_train)"
   ]
  },
  {
   "cell_type": "code",
   "execution_count": null,
   "id": "1e14989a",
   "metadata": {},
   "outputs": [],
   "source": []
  },
  {
   "cell_type": "markdown",
   "id": "bc3f5b2f",
   "metadata": {},
   "source": [
    "<h4 style=\"color:Tomato;\">Step 2: Model Prediction</h4>"
   ]
  },
  {
   "cell_type": "code",
   "execution_count": 1138,
   "id": "d2411b09",
   "metadata": {},
   "outputs": [],
   "source": [
    "def predict(x1,x2,x3):\n",
    "    return bias+w1*x1+w2*x2+w3*x3"
   ]
  },
  {
   "cell_type": "code",
   "execution_count": 1139,
   "id": "8559d174",
   "metadata": {},
   "outputs": [],
   "source": [
    "#data test\n",
    "x1,x2,x3=X_test[:,0],X_test[:,1],X_test[:,2]\n",
    "#prediction\n",
    "yhat=predict(x1,x2,x3)"
   ]
  },
  {
   "cell_type": "markdown",
   "id": "01e73b79",
   "metadata": {},
   "source": [
    "<h4 style=\"color:Tomato;\">Step 3: Model Evaluation</h4>\n"
   ]
  },
  {
   "cell_type": "markdown",
   "id": "a381b593",
   "metadata": {},
   "source": [
    "<p>calculer MSE du modèle trouvé</p>"
   ]
  },
  {
   "cell_type": "code",
   "execution_count": 1140,
   "id": "79a8636e",
   "metadata": {},
   "outputs": [
    {
     "name": "stdout",
     "output_type": "stream",
     "text": [
      "2.1004629949424114\n"
     ]
    }
   ],
   "source": [
    "mseModel1=mse(y_test,yhat)\n",
    "print(mseModel1)"
   ]
  },
  {
   "cell_type": "markdown",
   "id": "4ebe7994",
   "metadata": {},
   "source": [
    "<p style=\"color:Tomato; font-size:18px\"><b>comparer le modèle trouvé (bias,[w1,w2,w3]) avec celui trouvé à l'aide de sklearn</b></p>"
   ]
  },
  {
   "cell_type": "code",
   "execution_count": 1141,
   "id": "a7a53a44",
   "metadata": {},
   "outputs": [],
   "source": [
    "# LinearRegression de sklearn\n",
    "from sklearn.linear_model import LinearRegression"
   ]
  },
  {
   "cell_type": "code",
   "execution_count": 1142,
   "id": "b9696a66",
   "metadata": {},
   "outputs": [
    {
     "name": "stdout",
     "output_type": "stream",
     "text": [
      "15.180754089219374 [ 4.73890423  1.59857798 -0.05919934]\n"
     ]
    }
   ],
   "source": [
    "#les phases à suivre:\n",
    "#--1.créer le modèle à l'aide de LinearRegression()\n",
    "#--2.entrainer le modèle à l'aide de fit()\n",
    "#--2.faire les prédictions à l'aide de predict()\n",
    "\n",
    "\n",
    "model=LinearRegression()\n",
    "model.fit(X_train,y_train)\n",
    "y_hat2=model.predict(X_test)\n",
    "mseModel2=mse(y_test,y_hat2)\n",
    "print(model.intercept_,model.coef_)"
   ]
  },
  {
   "cell_type": "code",
   "execution_count": 1143,
   "id": "1a1362ac",
   "metadata": {},
   "outputs": [
    {
     "name": "stdout",
     "output_type": "stream",
     "text": [
      "2.1004629949423856\n"
     ]
    }
   ],
   "source": [
    "print(mseModel2)"
   ]
  },
  {
   "cell_type": "markdown",
   "id": "c537bfab",
   "metadata": {},
   "source": [
    "<h2 style=\"color:DodgerBlue;\">I.4. One Neurone Model: Many Feature feature (Advertissing problem)</h2>"
   ]
  },
  {
   "cell_type": "markdown",
   "id": "62f63b26",
   "metadata": {},
   "source": [
    "<img src=\"neuron.png\"  width=\"500\" height=\"400\"/>"
   ]
  },
  {
   "cell_type": "code",
   "execution_count": 1144,
   "id": "bc3f90eb",
   "metadata": {},
   "outputs": [],
   "source": [
    "def activation(z):\n",
    "    return z"
   ]
  },
  {
   "cell_type": "code",
   "execution_count": 1145,
   "id": "a194a7f8",
   "metadata": {},
   "outputs": [],
   "source": [
    "#model: h(x1,x2,x3)=bias+w1.x1+w2.x2+w3.x3\n",
    "#model (bias,w1,w2,w3)\n",
    "#init: bias=, w1=,w2=,w3=\n",
    "\n",
    "#update\n",
    "#w1=w1-dw1\n",
    "#w2=w2-dw2\n",
    "#w3=w3-dw3\n",
    "#bias=bias-dbias\n",
    "\n",
    "def train5(x1,x2,x3,y):\n",
    "    #hyperparameters initialisation: tuning parameters\n",
    "    learning_rate=0.01\n",
    "    epochs=1000\n",
    "    #model parameters initialisation\n",
    "    w1=0.5 #\n",
    "    w2=0.5\n",
    "    w3=0.5\n",
    "    bias=0.5\n",
    "    #----------------------\n",
    "    n=len(y) #data size\n",
    "       \n",
    " \n",
    "    #training\n",
    "    for i in range(epochs):\n",
    "        ws=bias+w1*x1+w2*x2+w3*x3 #prediction\n",
    "        yhat=activation(ws)\n",
    "    \n",
    "        dw1=(-2/n)*np.sum(x1*(y-yhat)) # partial derivate of mse / w1\n",
    "        dw2=(-2/n)*np.sum(x2*(y-yhat)) # partial derivate of mse / w1\n",
    "        dw3=(-2/n)*np.sum(x3*(y-yhat)) # partial derivate of mse / w1\n",
    "        \n",
    "        dbias=(-2/n)*np.sum((y-yhat)) #partial derivate of mse / w1\n",
    "        \n",
    "        w1=w1-dw1*learning_rate # orientation (-) + pas d'apprentissage (l)\n",
    "        w2=w2-dw2*learning_rate # orientation (-) + pas d'apprentissage (l)\n",
    "        w3=w3-dw3*learning_rate # orientation (-) + pas d'apprentissage (l)\n",
    "        \n",
    "        bias=bias-dbias*learning_rate\n",
    "        \n",
    "    return bias,w1,w2,w3\n",
    "        \n",
    "\n",
    "    "
   ]
  },
  {
   "cell_type": "code",
   "execution_count": 1146,
   "id": "f110c6f3",
   "metadata": {},
   "outputs": [],
   "source": [
    "#data training\n",
    "x1,x2,x3=X_train[:,0],X_train[:,1],X_train[:,2]\n",
    "#traning\n",
    "bias,w1,w2,w3=train5(x1,x2,x3,y_train)"
   ]
  },
  {
   "cell_type": "code",
   "execution_count": 1147,
   "id": "1fe19fe4",
   "metadata": {},
   "outputs": [],
   "source": [
    "#predict\n",
    "#mse"
   ]
  },
  {
   "cell_type": "code",
   "execution_count": 1090,
   "id": "8c9cf756",
   "metadata": {},
   "outputs": [],
   "source": [
    "def predict(x1,x2,x3):\n",
    "    return bias+w1*x1+w2*x2+w3*x3"
   ]
  },
  {
   "cell_type": "code",
   "execution_count": 1091,
   "id": "cb39c395",
   "metadata": {},
   "outputs": [],
   "source": [
    "#data test\n",
    "x1,x2,x3=X_test[:,0],X_test[:,1],X_test[:,2]\n",
    "#prediction\n",
    "yhat=predict(x1,x2,x3)"
   ]
  },
  {
   "cell_type": "markdown",
   "id": "212883a3",
   "metadata": {},
   "source": []
  },
  {
   "cell_type": "code",
   "execution_count": 1092,
   "id": "5dde0482",
   "metadata": {},
   "outputs": [
    {
     "name": "stdout",
     "output_type": "stream",
     "text": [
      "2.1004629668280246\n"
     ]
    }
   ],
   "source": [
    "mseModelOneNeurone=mse(y_test,yhat)\n",
    "print(mseModelOneNeurone)"
   ]
  },
  {
   "cell_type": "markdown",
   "id": "a38f08ef",
   "metadata": {},
   "source": [
    "<h3 style=\"color:Tomato;\">Conclusion 2</h3>\n",
    "<p>\n",
    "<span  style=\"color:MediumSeaGreen;\"><b>dans la partie précédente et pour un dataset simple, nous avons vu de près les éléments suivants:</b><br>\n",
    "    </span>\n",
    "    <span  style=\"color:MediumSeaGreen;\">\n",
    "   <br>1- ce que c'est un modèle de régression basé sur un seul neuron\n",
    "   <br>2- ce que c'est un neuron\n",
    "   <br>3- Adapter le gradient descent pour un neuron\n",
    "    </span>\n",
    "</p>\n",
    "\n"
   ]
  }
 ],
 "metadata": {
  "kernelspec": {
   "display_name": "Python 3 (ipykernel)",
   "language": "python",
   "name": "python3"
  },
  "language_info": {
   "codemirror_mode": {
    "name": "ipython",
    "version": 3
   },
   "file_extension": ".py",
   "mimetype": "text/x-python",
   "name": "python",
   "nbconvert_exporter": "python",
   "pygments_lexer": "ipython3",
   "version": "3.9.13"
  }
 },
 "nbformat": 4,
 "nbformat_minor": 5
}
