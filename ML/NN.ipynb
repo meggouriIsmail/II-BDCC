{
  "cells": [
    {
      "cell_type": "code",
      "execution_count": null,
      "id": "932856e7",
      "metadata": {
        "colab": {
          "base_uri": "https://localhost:8080/"
        },
        "id": "932856e7",
        "outputId": "7c942c39-5456-48bd-ab43-a7c67d5b2335"
      },
      "outputs": [
        {
          "output_type": "stream",
          "name": "stdout",
          "text": [
            "Dimensions de X_train: (240, 2)\n",
            "Dimensions de y_train: (240, 1)\n",
            "Dimensions de X_test: (60, 2)\n",
            "Dimensions de y_test: (60, 1)\n"
          ]
        }
      ],
      "source": [
        "import numpy as np\n",
        "\n",
        "# Génération de données pour XOR\n",
        "X = np.random.randint(0, 2, (300, 2))  # 300 points avec des valeurs aléatoires de 0 ou 1 pour les caractéristiques\n",
        "y = np.logical_xor(X[:, 0], X[:, 1]).reshape(-1, 1)  # Étiquettes correspondant au XOR des deux caractéristiques\n",
        "\n",
        "# Pourcentage de données pour le test\n",
        "test_split = 0.2\n",
        "num_test_samples = int(test_split * len(X))\n",
        "\n",
        "# Mélanger les données\n",
        "indices = np.random.permutation(len(X))\n",
        "X, y = X[indices], y[indices]\n",
        "\n",
        "# Séparer les données d'entraînement et de test\n",
        "X_train, y_train = X[num_test_samples:], y[num_test_samples:]\n",
        "X_test, y_test = X[:num_test_samples], y[:num_test_samples]\n",
        "\n",
        "# Affichage des dimensions des données\n",
        "print(\"Dimensions de X_train:\", X_train.shape)\n",
        "print(\"Dimensions de y_train:\", y_train.shape)\n",
        "print(\"Dimensions de X_test:\", X_test.shape)\n",
        "print(\"Dimensions de y_test:\", y_test.shape)\n"
      ]
    },
    {
      "cell_type": "code",
      "execution_count": null,
      "id": "28d590f8",
      "metadata": {
        "id": "28d590f8"
      },
      "outputs": [],
      "source": [
        "class NN:\n",
        "    def __init__(self, epochs=1000, learning_rate=0.1):\n",
        "        self.epochs = epochs\n",
        "        self.learning_rate = learning_rate\n",
        "\n",
        "    def fit(self, X, y, layers):\n",
        "        self.layers = layers\n",
        "        self.weights = []\n",
        "        self.biases = []\n",
        "\n",
        "        for i in range(len(layers) - 1):\n",
        "            self.weights.append(np.random.randn(layers[i], layers[i+1]))\n",
        "            self.biases.append(np.random.randn(layers[i+1]))\n",
        "\n",
        "        for epoch in range(self.epochs):\n",
        "            for i in range(len(X)):\n",
        "                # Forward propagation\n",
        "                activations = [X[i]]\n",
        "                for j in range(len(layers) - 1):\n",
        "                    activations.append(self.sigmoid(np.dot(activations[j], self.weights[j]) + self.biases[j]))\n",
        "\n",
        "                # Backpropagation\n",
        "                error = y[i] - activations[-1]\n",
        "                deltas = [error * self.sigmoid_derivative(activations[-1])]\n",
        "                for j in range(len(layers) - 2, 0, -1):\n",
        "                    deltas.append(np.dot(deltas[-1], self.weights[j].T) * self.sigmoid_derivative(activations[j]))\n",
        "\n",
        "                deltas.reverse()\n",
        "\n",
        "                # Update weights and biases\n",
        "                for j in range(len(layers) - 1):\n",
        "                    self.weights[j] += self.learning_rate * np.dot(activations[j].reshape(-1, 1), deltas[j].reshape(1, -1))\n",
        "                    self.biases[j] += self.learning_rate * deltas[j]\n",
        "\n",
        "    def predict(self, X):\n",
        "        activations = [X]\n",
        "        for j in range(len(self.layers) - 1):\n",
        "            activations.append(self.sigmoid(np.dot(activations[j], self.weights[j]) + self.biases[j]))\n",
        "        return activations[-1]\n",
        "\n",
        "    def sigmoid(self, x):\n",
        "        return 1 / (1 + np.exp(-x))\n",
        "\n",
        "    def sigmoid_derivative(self, x):\n",
        "        return x * (1 - x)\n"
      ]
    },
    {
      "cell_type": "code",
      "execution_count": null,
      "id": "c247dc0c",
      "metadata": {
        "id": "c247dc0c"
      },
      "outputs": [],
      "source": [
        "def accuracy(y_true, y_pred):\n",
        "    correct = 0\n",
        "    for true, pred in zip(y_true, y_pred):\n",
        "        if np.array_equal(true, np.round(pred)):\n",
        "            correct += 1\n",
        "    return correct / len(y_true)\n"
      ]
    },
    {
      "cell_type": "code",
      "execution_count": null,
      "id": "c8c9c2b4",
      "metadata": {
        "id": "c8c9c2b4"
      },
      "outputs": [],
      "source": [
        "# Génération de données pour XOR généralisé\n",
        "# Séparer les données d'entraînement et de test\n",
        "X_train, y_train = X[num_test_samples:], y[num_test_samples:]\n",
        "X_test, y_test = X[:num_test_samples], y[:num_test_samples]\n"
      ]
    },
    {
      "cell_type": "code",
      "execution_count": null,
      "id": "8e191962",
      "metadata": {
        "id": "8e191962"
      },
      "outputs": [],
      "source": [
        "# Création et entraînement du modèle\n",
        "model = NN()\n",
        "model.fit(X_train, y_train, layers=[2, 3, 1])\n"
      ]
    },
    {
      "cell_type": "code",
      "execution_count": null,
      "id": "b8e0ffc1",
      "metadata": {
        "colab": {
          "base_uri": "https://localhost:8080/"
        },
        "id": "b8e0ffc1",
        "outputId": "0ece16cf-e9e0-4a04-81e0-347cf02b5b00"
      },
      "outputs": [
        {
          "output_type": "stream",
          "name": "stdout",
          "text": [
            "Accuracy: 1.0\n"
          ]
        }
      ],
      "source": [
        "# Prédiction et évaluation\n",
        "y_pred = model.predict(X_test)\n",
        "acc = accuracy(y_test, y_pred)\n",
        "print(\"Accuracy:\", acc)\n"
      ]
    },
    {
      "cell_type": "code",
      "execution_count": null,
      "id": "83cd2b91",
      "metadata": {
        "colab": {
          "base_uri": "https://localhost:8080/",
          "height": 472
        },
        "id": "83cd2b91",
        "outputId": "e376451e-e174-4a48-e651-ed6a762fdc52"
      },
      "outputs": [
        {
          "output_type": "display_data",
          "data": {
            "text/plain": [
              "<Figure size 640x480 with 2 Axes>"
            ],
            "image/png": "[encoded data removed]"
          },
          "metadata": {}
        }
      ],
      "source": [
        "import matplotlib.pyplot as plt\n",
        "\n",
        "plt.scatter(X_test[:,0], X_test[:,1], c=y_pred.flatten(), cmap='viridis')\n",
        "plt.title('Prédictions du modèle pour XOR généralisé')\n",
        "plt.xlabel('Feature 1')\n",
        "plt.ylabel('Feature 2')\n",
        "plt.colorbar(label='Prédiction')\n",
        "plt.show()\n"
      ]
    },
    {
      "cell_type": "code",
      "execution_count": null,
      "id": "8a9fed03",
      "metadata": {
        "id": "8a9fed03"
      },
      "outputs": [],
      "source": []
    }
  ],
  "metadata": {
    "kernelspec": {
      "display_name": "Python 3 (ipykernel)",
      "language": "python",
      "name": "python3"
    },
    "language_info": {
      "codemirror_mode": {
        "name": "ipython",
        "version": 3
      },
      "file_extension": ".py",
      "mimetype": "text/x-python",
      "name": "python",
      "nbconvert_exporter": "python",
      "pygments_lexer": "ipython3",
      "version": "3.10.9"
    },
    "colab": {
      "provenance": []
    }
  },
  "nbformat": 4,
  "nbformat_minor": 5
}